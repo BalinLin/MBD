{
 "cells": [
  {
   "cell_type": "markdown",
   "id": "af97d1b5",
   "metadata": {
    "papermill": {
     "duration": 0.011441,
     "end_time": "2022-03-16T23:27:14.655738",
     "exception": false,
     "start_time": "2022-03-16T23:27:14.644297",
     "status": "completed"
    },
    "tags": []
   },
   "source": [
    "### Delivery 4: Natural Language Processing - Topic Modelling\n",
    "### Marcell Veiner, Balin Lin\n",
    "Quora Questions Answers - Topic Modelling <br>\n",
    "Perform Topic Modelling for Quora Questions Answers using NTLK and other required Python packages and provide the following information for Quora:"
   ]
  },
  {
   "cell_type": "code",
   "execution_count": 1,
   "id": "27c7d6e3",
   "metadata": {
    "_cell_guid": "b1076dfc-b9ad-4769-8c92-a6c4dae69d19",
    "_uuid": "8f2839f25d086af736a60e9eeb907d3b93b6e0e5",
    "execution": {
     "iopub.execute_input": "2022-03-16T23:27:14.686229Z",
     "iopub.status.busy": "2022-03-16T23:27:14.685651Z",
     "iopub.status.idle": "2022-03-16T23:27:17.255744Z",
     "shell.execute_reply": "2022-03-16T23:27:17.254789Z",
     "shell.execute_reply.started": "2022-03-10T17:18:28.408174Z"
    },
    "papermill": {
     "duration": 2.589596,
     "end_time": "2022-03-16T23:27:17.255907",
     "exception": false,
     "start_time": "2022-03-16T23:27:14.666311",
     "status": "completed"
    },
    "tags": []
   },
   "outputs": [],
   "source": [
    "# Import Packages\n",
    "import numpy as np\n",
    "import pandas as pd\n",
    "import matplotlib.pyplot as plt\n",
    "import seaborn as sns\n",
    "from sklearn.decomposition import LatentDirichletAllocation\n",
    "from sklearn.feature_extraction.text import CountVectorizer\n",
    "from sklearn.datasets import fetch_20newsgroups\n",
    "from nltk.corpus import stopwords\n",
    "from sklearn.model_selection import GridSearchCV\n",
    "from sklearn.feature_extraction.text import TfidfVectorizer\n",
    "from sklearn.decomposition import TruncatedSVD\n",
    "\n",
    "# Read the quora questions file\n",
    "quora = pd.read_csv('../input/quora-question/quora_questions.csv')"
   ]
  },
  {
   "cell_type": "markdown",
   "id": "e30a5e49",
   "metadata": {
    "papermill": {
     "duration": 0.010004,
     "end_time": "2022-03-16T23:27:17.276306",
     "exception": false,
     "start_time": "2022-03-16T23:27:17.266302",
     "status": "completed"
    },
    "tags": []
   },
   "source": [
    "- How many questions are asked?"
   ]
  },
  {
   "cell_type": "code",
   "execution_count": 2,
   "id": "fe919a51",
   "metadata": {
    "execution": {
     "iopub.execute_input": "2022-03-16T23:27:17.300051Z",
     "iopub.status.busy": "2022-03-16T23:27:17.299450Z",
     "iopub.status.idle": "2022-03-16T23:27:17.306505Z",
     "shell.execute_reply": "2022-03-16T23:27:17.307041Z",
     "shell.execute_reply.started": "2022-03-10T17:18:31.580678Z"
    },
    "papermill": {
     "duration": 0.020493,
     "end_time": "2022-03-16T23:27:17.307199",
     "exception": false,
     "start_time": "2022-03-16T23:27:17.286706",
     "status": "completed"
    },
    "tags": []
   },
   "outputs": [
    {
     "data": {
      "text/plain": [
       "404289"
      ]
     },
     "execution_count": 2,
     "metadata": {},
     "output_type": "execute_result"
    }
   ],
   "source": [
    "len(quora)"
   ]
  },
  {
   "cell_type": "markdown",
   "id": "3adb7d54",
   "metadata": {
    "papermill": {
     "duration": 0.010472,
     "end_time": "2022-03-16T23:27:17.328477",
     "exception": false,
     "start_time": "2022-03-16T23:27:17.318005",
     "status": "completed"
    },
    "tags": []
   },
   "source": [
    "- What is the dimension of document term matrix(DTM)?"
   ]
  },
  {
   "cell_type": "code",
   "execution_count": 3,
   "id": "3d738ff5",
   "metadata": {
    "execution": {
     "iopub.execute_input": "2022-03-16T23:27:17.352722Z",
     "iopub.status.busy": "2022-03-16T23:27:17.352085Z",
     "iopub.status.idle": "2022-03-16T23:27:21.664966Z",
     "shell.execute_reply": "2022-03-16T23:27:21.665415Z",
     "shell.execute_reply.started": "2022-03-10T17:18:31.590635Z"
    },
    "papermill": {
     "duration": 4.326573,
     "end_time": "2022-03-16T23:27:21.665618",
     "exception": false,
     "start_time": "2022-03-16T23:27:17.339045",
     "status": "completed"
    },
    "tags": []
   },
   "outputs": [
    {
     "name": "stdout",
     "output_type": "stream",
     "text": [
      "(404289, 38669)\n"
     ]
    }
   ],
   "source": [
    "cv = CountVectorizer(max_df=0.95, min_df=2, stop_words='english')\n",
    "dtm = cv.fit_transform(quora['Question'])\n",
    "print(dtm.shape) # Document term matrix"
   ]
  },
  {
   "cell_type": "markdown",
   "id": "18934704",
   "metadata": {
    "papermill": {
     "duration": 0.010872,
     "end_time": "2022-03-16T23:27:21.687648",
     "exception": false,
     "start_time": "2022-03-16T23:27:21.676776",
     "status": "completed"
    },
    "tags": []
   },
   "source": [
    "- How many topics are there?"
   ]
  },
  {
   "cell_type": "code",
   "execution_count": 4,
   "id": "6b70fb97",
   "metadata": {
    "execution": {
     "iopub.execute_input": "2022-03-16T23:27:21.715781Z",
     "iopub.status.busy": "2022-03-16T23:27:21.715176Z",
     "iopub.status.idle": "2022-03-17T07:27:50.829538Z",
     "shell.execute_reply": "2022-03-17T07:27:50.830277Z",
     "shell.execute_reply.started": "2022-03-10T17:20:31.449451Z"
    },
    "papermill": {
     "duration": 28829.132962,
     "end_time": "2022-03-17T07:27:50.831490",
     "exception": false,
     "start_time": "2022-03-16T23:27:21.698528",
     "status": "completed"
    },
    "tags": []
   },
   "outputs": [
    {
     "name": "stdout",
     "output_type": "stream",
     "text": [
      "Fitting 5 folds for each of 7 candidates, totalling 35 fits\n",
      "Best Model's Params:  {'n_components': 5}\n",
      "Best Log Likelihood Score:  -3704503.1198356836\n"
     ]
    }
   ],
   "source": [
    "from sklearn.decomposition import LatentDirichletAllocation\n",
    "\n",
    "# Options to try with our LDA\n",
    "# Beware it will try *all* of the combinations, so it'll take ages\n",
    "search_params = {\n",
    "  'n_components': [5, 10, 20, 30, 50, 75, 100]\n",
    "}\n",
    "\n",
    "# Set up LDA with the options we'll keep static\n",
    "model = LatentDirichletAllocation(learning_method='online')\n",
    "\n",
    "# Try all of the options\n",
    "gridsearch = GridSearchCV(model, param_grid=search_params, n_jobs=-1, verbose=1)\n",
    "gridsearch.fit(dtm)\n",
    "\n",
    "# What did we find?\n",
    "print(\"Best Model's Params: \", gridsearch.best_params_)\n",
    "print(\"Best Log Likelihood Score: \", gridsearch.best_score_)"
   ]
  },
  {
   "cell_type": "markdown",
   "id": "55d6f730",
   "metadata": {
    "papermill": {
     "duration": 0.011854,
     "end_time": "2022-03-17T07:27:50.855157",
     "exception": false,
     "start_time": "2022-03-17T07:27:50.843303",
     "status": "completed"
    },
    "tags": []
   },
   "source": [
    "- What are the 10 most common words for each topic?"
   ]
  },
  {
   "cell_type": "code",
   "execution_count": 5,
   "id": "367ae4a6",
   "metadata": {
    "execution": {
     "iopub.execute_input": "2022-03-17T07:27:50.891602Z",
     "iopub.status.busy": "2022-03-17T07:27:50.884679Z",
     "iopub.status.idle": "2022-03-17T07:37:31.891316Z",
     "shell.execute_reply": "2022-03-17T07:37:31.890657Z",
     "shell.execute_reply.started": "2022-03-10T17:33:32.666647Z"
    },
    "papermill": {
     "duration": 581.024595,
     "end_time": "2022-03-17T07:37:31.891496",
     "exception": false,
     "start_time": "2022-03-17T07:27:50.866901",
     "status": "completed"
    },
    "tags": []
   },
   "outputs": [
    {
     "name": "stdout",
     "output_type": "stream",
     "text": [
      "THE TOP 10 WORDS FOR TOPIC # 0\n"
     ]
    },
    {
     "name": "stderr",
     "output_type": "stream",
     "text": [
      "/opt/conda/lib/python3.7/site-packages/sklearn/utils/deprecation.py:87: FutureWarning: Function get_feature_names is deprecated; get_feature_names is deprecated in 1.0 and will be removed in 1.2. Please use get_feature_names_out instead.\n",
      "  warnings.warn(msg, category=FutureWarning)\n"
     ]
    },
    {
     "name": "stdout",
     "output_type": "stream",
     "text": [
      "['2016', 'work', 'donald', 'phone', 'engineering', 'good', 'trump', 'does', 'india', 'best']\n",
      "\n",
      "\n",
      "THE TOP 10 WORDS FOR TOPIC # 1\n",
      "['1000', 'notes', '500', 'online', 'english', 'make', 'learn', 'money', 'way', 'best']\n",
      "\n",
      "\n",
      "THE TOP 10 WORDS FOR TOPIC # 2\n",
      "['book', 'like', 'books', 'sex', 'good', 'did', 'best', 'time', 'life', 'does']\n",
      "\n",
      "\n",
      "THE TOP 10 WORDS FOR TOPIC # 3\n",
      "['things', 'best', 'questions', 'world', 'new', 'like', 'know', 'does', 'quora', 'people']\n",
      "\n",
      "\n",
      "THE TOP 10 WORDS FOR TOPIC # 4\n",
      "['car', 'india', 'college', 'increase', 'love', 'lose', 'account', 'difference', 'weight', 'does']\n",
      "\n",
      "\n"
     ]
    }
   ],
   "source": [
    "number_components = 5\n",
    "LDA = LatentDirichletAllocation(n_components = number_components,random_state = 42)\n",
    "LDA.fit(dtm)\n",
    "\n",
    "for index, topic in enumerate(LDA.components_):\n",
    "    print(f'THE TOP 10 WORDS FOR TOPIC # {index}')\n",
    "    print([cv.get_feature_names()[i] for i in topic.argsort()[-10:]])\n",
    "    print('\\n')"
   ]
  },
  {
   "cell_type": "markdown",
   "id": "d7acf6fe",
   "metadata": {
    "papermill": {
     "duration": 0.01345,
     "end_time": "2022-03-17T07:37:31.918807",
     "exception": false,
     "start_time": "2022-03-17T07:37:31.905357",
     "status": "completed"
    },
    "tags": []
   },
   "source": [
    "- Map each question to the right topic."
   ]
  },
  {
   "cell_type": "code",
   "execution_count": 6,
   "id": "6f43febe",
   "metadata": {
    "execution": {
     "iopub.execute_input": "2022-03-17T07:37:31.954342Z",
     "iopub.status.busy": "2022-03-17T07:37:31.953745Z",
     "iopub.status.idle": "2022-03-17T07:38:04.193332Z",
     "shell.execute_reply": "2022-03-17T07:38:04.192736Z",
     "shell.execute_reply.started": "2022-03-10T17:33:32.723933Z"
    },
    "papermill": {
     "duration": 32.261014,
     "end_time": "2022-03-17T07:38:04.193497",
     "exception": false,
     "start_time": "2022-03-17T07:37:31.932483",
     "status": "completed"
    },
    "tags": []
   },
   "outputs": [],
   "source": [
    "# Linking the topics and documents.\n",
    "topic_results = LDA.transform(dtm)\n",
    "topic_rate = [0] * number_components\n",
    "\n",
    "for i in range(len(topic_results)):\n",
    "    topic_rate[topic_results[i].argmax()] += 1\n",
    "    # print(\"topic_results[{0}].argmax():\".format(i), topic_results[i].argmax()) # The first document belings to topic 1."
   ]
  },
  {
   "cell_type": "markdown",
   "id": "e4efb68a",
   "metadata": {
    "papermill": {
     "duration": 0.01323,
     "end_time": "2022-03-17T07:38:04.220590",
     "exception": false,
     "start_time": "2022-03-17T07:38:04.207360",
     "status": "completed"
    },
    "tags": []
   },
   "source": [
    "- Which is the topic people are mostly interested in?"
   ]
  },
  {
   "cell_type": "code",
   "execution_count": 7,
   "id": "ffda3a42",
   "metadata": {
    "execution": {
     "iopub.execute_input": "2022-03-17T07:38:04.254683Z",
     "iopub.status.busy": "2022-03-17T07:38:04.254062Z",
     "iopub.status.idle": "2022-03-17T07:38:04.257958Z",
     "shell.execute_reply": "2022-03-17T07:38:04.257451Z"
    },
    "papermill": {
     "duration": 0.024078,
     "end_time": "2022-03-17T07:38:04.258096",
     "exception": false,
     "start_time": "2022-03-17T07:38:04.234018",
     "status": "completed"
    },
    "tags": []
   },
   "outputs": [
    {
     "name": "stdout",
     "output_type": "stream",
     "text": [
      "Topic 0 with value 0.22688967545493446.\n"
     ]
    }
   ],
   "source": [
    "print(\"Topic {0} with value {1}.\".format(topic_rate.index(max(topic_rate)), max(topic_rate) / len(topic_results)))"
   ]
  },
  {
   "cell_type": "markdown",
   "id": "6642671b",
   "metadata": {
    "papermill": {
     "duration": 0.013453,
     "end_time": "2022-03-17T07:38:04.285603",
     "exception": false,
     "start_time": "2022-03-17T07:38:04.272150",
     "status": "completed"
    },
    "tags": []
   },
   "source": [
    "- Which is the least interesting topic for people?"
   ]
  },
  {
   "cell_type": "code",
   "execution_count": 8,
   "id": "73220fa2",
   "metadata": {
    "execution": {
     "iopub.execute_input": "2022-03-17T07:38:04.318279Z",
     "iopub.status.busy": "2022-03-17T07:38:04.317726Z",
     "iopub.status.idle": "2022-03-17T07:38:04.321571Z",
     "shell.execute_reply": "2022-03-17T07:38:04.321003Z"
    },
    "papermill": {
     "duration": 0.022192,
     "end_time": "2022-03-17T07:38:04.321699",
     "exception": false,
     "start_time": "2022-03-17T07:38:04.299507",
     "status": "completed"
    },
    "tags": []
   },
   "outputs": [
    {
     "name": "stdout",
     "output_type": "stream",
     "text": [
      "Topic 1 with value 0.16820640680305424.\n"
     ]
    }
   ],
   "source": [
    "print(\"Topic {0} with value {1}.\".format(topic_rate.index(min(topic_rate)), min(topic_rate) / len(topic_results)))"
   ]
  }
 ],
 "metadata": {
  "kernelspec": {
   "display_name": "Python 3 (ipykernel)",
   "language": "python",
   "name": "python3"
  },
  "language_info": {
   "codemirror_mode": {
    "name": "ipython",
    "version": 3
   },
   "file_extension": ".py",
   "mimetype": "text/x-python",
   "name": "python",
   "nbconvert_exporter": "python",
   "pygments_lexer": "ipython3",
   "version": "3.9.7"
  },
  "papermill": {
   "default_parameters": {},
   "duration": 29460.206767,
   "end_time": "2022-03-17T07:38:05.958283",
   "environment_variables": {},
   "exception": null,
   "input_path": "__notebook__.ipynb",
   "output_path": "__notebook__.ipynb",
   "parameters": {},
   "start_time": "2022-03-16T23:27:05.751516",
   "version": "2.3.3"
  }
 },
 "nbformat": 4,
 "nbformat_minor": 5
}
