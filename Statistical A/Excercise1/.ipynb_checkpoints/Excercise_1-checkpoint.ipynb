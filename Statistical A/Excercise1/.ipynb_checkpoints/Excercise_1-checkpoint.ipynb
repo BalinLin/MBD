{
 "cells": [
  {
   "cell_type": "markdown",
   "metadata": {},
   "source": [
    "### Excercise 1, Part 2 (Aina Brichs Ralló, Balin Lin)\n",
    "Take the file example1.txt (1.5 Gb) and fit the data by a simple\n",
    "regression model, estimating also the standard errors of the parameters and the variance of the errors. Investigate which is the\n",
    "number of chunks optimum to minimize the execution time."
   ]
  },
  {
   "cell_type": "code",
   "execution_count": 2,
   "metadata": {},
   "outputs": [],
   "source": [
    "# Importing the Python libraries\n",
    "import numpy as np\n",
    "import pandas as pd\n",
    "from sklearn.linear_model import LinearRegression\n",
    "import sklearn.metrics as metrics\n",
    "import matplotlib.pyplot as plt\n",
    "from numpy.linalg import matrix_rank, inv\n",
    "import sklearn.metrics as metrics\n",
    "import math\n",
    "%matplotlib inline"
   ]
  },
  {
   "cell_type": "code",
   "execution_count": 3,
   "metadata": {},
   "outputs": [],
   "source": [
    "def regression_results(y_true, y_pred):\n",
    "\n",
    "    # Regression metrics\n",
    "    explained_variance = metrics.explained_variance_score(y_true, y_pred)\n",
    "    r2 = metrics.r2_score(y_true, y_pred)\n",
    "    mean_absolute_error = metrics.mean_absolute_error(y_true, y_pred)\n",
    "    mse = metrics.mean_squared_error(y_true, y_pred)\n",
    "    mean_squared_log_error = metrics.mean_squared_log_error(y_true, y_pred)\n",
    "    median_absolute_error = metrics.median_absolute_error(y_true, y_pred)\n",
    "\n",
    "    print('explained_variance: ', round(explained_variance, 4))    \n",
    "    print('r2: ', round(r2, 4))\n",
    "    print('MAE: ', round(mean_absolute_error, 4))\n",
    "    print('MSE: ', round(mse, 4))\n",
    "    print('RMSE: ', round(np.sqrt(mse), 4))\n",
    "    print('mean_squared_log_error: ', round(mean_squared_log_error, 4))\n",
    "    print('median_absolute_error: ', round(median_absolute_error, 4))"
   ]
  },
  {
   "cell_type": "code",
   "execution_count": 4,
   "metadata": {},
   "outputs": [],
   "source": [
    "df = pd.read_csv(\"example1.txt\", sep=\" \")"
   ]
  },
  {
   "cell_type": "code",
   "execution_count": 5,
   "metadata": {},
   "outputs": [
    {
     "data": {
      "text/html": [
       "<div>\n",
       "<style scoped>\n",
       "    .dataframe tbody tr th:only-of-type {\n",
       "        vertical-align: middle;\n",
       "    }\n",
       "\n",
       "    .dataframe tbody tr th {\n",
       "        vertical-align: top;\n",
       "    }\n",
       "\n",
       "    .dataframe thead th {\n",
       "        text-align: right;\n",
       "    }\n",
       "</style>\n",
       "<table border=\"1\" class=\"dataframe\">\n",
       "  <thead>\n",
       "    <tr style=\"text-align: right;\">\n",
       "      <th></th>\n",
       "      <th>y</th>\n",
       "      <th>x</th>\n",
       "    </tr>\n",
       "  </thead>\n",
       "  <tbody>\n",
       "    <tr>\n",
       "      <th>0</th>\n",
       "      <td>681.91</td>\n",
       "      <td>48.48</td>\n",
       "    </tr>\n",
       "    <tr>\n",
       "      <th>1</th>\n",
       "      <td>666.83</td>\n",
       "      <td>47.49</td>\n",
       "    </tr>\n",
       "    <tr>\n",
       "      <th>2</th>\n",
       "      <td>657.71</td>\n",
       "      <td>47.33</td>\n",
       "    </tr>\n",
       "    <tr>\n",
       "      <th>3</th>\n",
       "      <td>602.31</td>\n",
       "      <td>42.27</td>\n",
       "    </tr>\n",
       "    <tr>\n",
       "      <th>4</th>\n",
       "      <td>641.55</td>\n",
       "      <td>47.13</td>\n",
       "    </tr>\n",
       "  </tbody>\n",
       "</table>\n",
       "</div>"
      ],
      "text/plain": [
       "        y      x\n",
       "0  681.91  48.48\n",
       "1  666.83  47.49\n",
       "2  657.71  47.33\n",
       "3  602.31  42.27\n",
       "4  641.55  47.13"
      ]
     },
     "execution_count": 5,
     "metadata": {},
     "output_type": "execute_result"
    }
   ],
   "source": [
    "df.head()"
   ]
  },
  {
   "cell_type": "code",
   "execution_count": 6,
   "metadata": {
    "scrolled": true
   },
   "outputs": [
    {
     "data": {
      "text/html": [
       "<div>\n",
       "<style scoped>\n",
       "    .dataframe tbody tr th:only-of-type {\n",
       "        vertical-align: middle;\n",
       "    }\n",
       "\n",
       "    .dataframe tbody tr th {\n",
       "        vertical-align: top;\n",
       "    }\n",
       "\n",
       "    .dataframe thead th {\n",
       "        text-align: right;\n",
       "    }\n",
       "</style>\n",
       "<table border=\"1\" class=\"dataframe\">\n",
       "  <thead>\n",
       "    <tr style=\"text-align: right;\">\n",
       "      <th></th>\n",
       "      <th>y</th>\n",
       "      <th>x</th>\n",
       "    </tr>\n",
       "  </thead>\n",
       "  <tbody>\n",
       "    <tr>\n",
       "      <th>count</th>\n",
       "      <td>1.100000e+08</td>\n",
       "      <td>1.100000e+08</td>\n",
       "    </tr>\n",
       "    <tr>\n",
       "      <th>mean</th>\n",
       "      <td>6.396723e+02</td>\n",
       "      <td>4.545452e+01</td>\n",
       "    </tr>\n",
       "    <tr>\n",
       "      <th>std</th>\n",
       "      <td>3.789827e+01</td>\n",
       "      <td>2.462835e+00</td>\n",
       "    </tr>\n",
       "    <tr>\n",
       "      <th>min</th>\n",
       "      <td>4.650700e+02</td>\n",
       "      <td>3.395000e+01</td>\n",
       "    </tr>\n",
       "    <tr>\n",
       "      <th>25%</th>\n",
       "      <td>6.146000e+02</td>\n",
       "      <td>4.380000e+01</td>\n",
       "    </tr>\n",
       "    <tr>\n",
       "      <th>50%</th>\n",
       "      <td>6.356800e+02</td>\n",
       "      <td>4.525000e+01</td>\n",
       "    </tr>\n",
       "    <tr>\n",
       "      <th>75%</th>\n",
       "      <td>6.589900e+02</td>\n",
       "      <td>4.683000e+01</td>\n",
       "    </tr>\n",
       "    <tr>\n",
       "      <th>max</th>\n",
       "      <td>8.718700e+02</td>\n",
       "      <td>6.099000e+01</td>\n",
       "    </tr>\n",
       "  </tbody>\n",
       "</table>\n",
       "</div>"
      ],
      "text/plain": [
       "                  y             x\n",
       "count  1.100000e+08  1.100000e+08\n",
       "mean   6.396723e+02  4.545452e+01\n",
       "std    3.789827e+01  2.462835e+00\n",
       "min    4.650700e+02  3.395000e+01\n",
       "25%    6.146000e+02  4.380000e+01\n",
       "50%    6.356800e+02  4.525000e+01\n",
       "75%    6.589900e+02  4.683000e+01\n",
       "max    8.718700e+02  6.099000e+01"
      ]
     },
     "execution_count": 6,
     "metadata": {},
     "output_type": "execute_result"
    }
   ],
   "source": [
    "df.describe()"
   ]
  },
  {
   "cell_type": "code",
   "execution_count": 7,
   "metadata": {},
   "outputs": [
    {
     "data": {
      "image/png": "[encoded data removed]",
      "text/plain": [
       "<Figure size 432x288 with 1 Axes>"
      ]
     },
     "metadata": {
      "needs_background": "light"
     },
     "output_type": "display_data"
    }
   ],
   "source": [
    "df.plot(x='x', y='y', style='o')\n",
    "plt.title('example1.txt')\n",
    "plt.xlabel('x')\n",
    "plt.ylabel('y')\n",
    "plt.show()"
   ]
  },
  {
   "cell_type": "code",
   "execution_count": 5,
   "metadata": {},
   "outputs": [],
   "source": [
    "# Without Segmentation\n",
    "\n",
    "x = df['x'].to_numpy().reshape((-1, 1))\n",
    "y = df['y'].to_numpy()"
   ]
  },
  {
   "cell_type": "code",
   "execution_count": 9,
   "metadata": {},
   "outputs": [],
   "source": [
    "model = LinearRegression().fit(x, y)"
   ]
  },
  {
   "cell_type": "code",
   "execution_count": 10,
   "metadata": {},
   "outputs": [
    {
     "name": "stdout",
     "output_type": "stream",
     "text": [
      "coefficient of determination: 0.9214376422886941\n"
     ]
    }
   ],
   "source": [
    "# coefficient of determination (𝑅²)\n",
    "r_sq = model.score(x, y)\n",
    "print('coefficient of determination:', r_sq)"
   ]
  },
  {
   "cell_type": "code",
   "execution_count": 11,
   "metadata": {},
   "outputs": [
    {
     "name": "stdout",
     "output_type": "stream",
     "text": [
      "intercept: -31.74756121716905\n",
      "slope: [14.77124576]\n"
     ]
    }
   ],
   "source": [
    "# The attributes of model are .intercept_, which represents the coefficient, 𝑏₀ and .coef_, which represents 𝑏₁:\n",
    "# You can notice that .intercept_ is a scalar, while .coef_ is an array.\n",
    "print('intercept:', model.intercept_)\n",
    "print('slope:', model.coef_)"
   ]
  },
  {
   "cell_type": "code",
   "execution_count": 12,
   "metadata": {},
   "outputs": [
    {
     "name": "stdout",
     "output_type": "stream",
     "text": [
      "predicted response:\n",
      "[684.36243332 669.73890001 667.37550069 ... 711.83695044 677.1245229\n",
      " 710.50753832]\n"
     ]
    }
   ],
   "source": [
    "y_pred = model.predict(x)\n",
    "print('predicted response:', y_pred, sep='\\n')"
   ]
  },
  {
   "cell_type": "code",
   "execution_count": 13,
   "metadata": {},
   "outputs": [
    {
     "name": "stdout",
     "output_type": "stream",
     "text": [
      "predicted response:\n",
      "[[684.36243332]\n",
      " [669.73890001]\n",
      " [667.37550069]\n",
      " ...\n",
      " [711.83695044]\n",
      " [677.1245229 ]\n",
      " [710.50753832]]\n"
     ]
    }
   ],
   "source": [
    "y_pred = model.intercept_ + model.coef_ * x\n",
    "print('predicted response:', y_pred, sep='\\n')"
   ]
  },
  {
   "cell_type": "code",
   "execution_count": 14,
   "metadata": {},
   "outputs": [
    {
     "name": "stdout",
     "output_type": "stream",
     "text": [
      "y: [681.91 666.83 657.71 ... 726.61 682.3  724.07] (110000000,)\n",
      "y_pred: [[684.36243332]\n",
      " [669.73890001]\n",
      " [667.37550069]\n",
      " ...\n",
      " [711.83695044]\n",
      " [677.1245229 ]\n",
      " [710.50753832]] (110000000, 1)\n"
     ]
    }
   ],
   "source": [
    "print('y:', y, y.shape)\n",
    "print('y_pred:', y_pred, y_pred.shape)"
   ]
  },
  {
   "cell_type": "code",
   "execution_count": 15,
   "metadata": {},
   "outputs": [
    {
     "name": "stdout",
     "output_type": "stream",
     "text": [
      "r: [  2.45243332   2.90890001   9.66550069 ... -14.77304956  -5.1754771\n",
      " -13.56246168]\n"
     ]
    }
   ],
   "source": [
    "r = y_pred.reshape(-1) - y\n",
    "print('r:', r)"
   ]
  },
  {
   "cell_type": "code",
   "execution_count": 16,
   "metadata": {},
   "outputs": [
    {
     "name": "stdout",
     "output_type": "stream",
     "text": [
      "(n, m, variance_pow2, variance): 110000000 1 112.83745877469549 10.622497765341986\n"
     ]
    }
   ],
   "source": [
    "n = len(df)\n",
    "m = matrix_rank(x)\n",
    "variance_pow2 = sum(r ** 2) / (n - m)\n",
    "variance = math.sqrt(variance_pow2)\n",
    "print('(n, m, variance_pow2, variance):', n, m, variance_pow2, variance)"
   ]
  },
  {
   "cell_type": "code",
   "execution_count": 17,
   "metadata": {
    "scrolled": true
   },
   "outputs": [],
   "source": [
    "# standard_error = math.sqrt(np.diag(variance_pow2 * inv(np.transpose(x) * x)))"
   ]
  },
  {
   "cell_type": "code",
   "execution_count": 18,
   "metadata": {},
   "outputs": [
    {
     "name": "stdout",
     "output_type": "stream",
     "text": [
      "explained_variance:  0.9214\n",
      "r2:  0.9214\n",
      "MAE:  8.4656\n",
      "MSE:  112.8375\n",
      "RMSE:  10.6225\n",
      "mean_squared_log_error:  0.0003\n",
      "median_absolute_error:  7.1433\n"
     ]
    }
   ],
   "source": [
    "regression_results(y, y_pred.reshape(-1))"
   ]
  },
  {
   "cell_type": "code",
   "execution_count": 19,
   "metadata": {},
   "outputs": [
    {
     "data": {
      "text/html": [
       "<table class=\"simpletable\">\n",
       "<caption>OLS Regression Results</caption>\n",
       "<tr>\n",
       "  <th>Dep. Variable:</th>            <td>y</td>        <th>  R-squared (uncentered):</th>       <td>   1.000</td>  \n",
       "</tr>\n",
       "<tr>\n",
       "  <th>Model:</th>                   <td>OLS</td>       <th>  Adj. R-squared (uncentered):</th>  <td>   1.000</td>  \n",
       "</tr>\n",
       "<tr>\n",
       "  <th>Method:</th>             <td>Least Squares</td>  <th>  F-statistic:       </th>           <td>4.002e+11</td> \n",
       "</tr>\n",
       "<tr>\n",
       "  <th>Date:</th>             <td>Sun, 27 Feb 2022</td> <th>  Prob (F-statistic):</th>            <td>  0.00</td>   \n",
       "</tr>\n",
       "<tr>\n",
       "  <th>Time:</th>                 <td>16:51:25</td>     <th>  Log-Likelihood:    </th>          <td>-4.1601e+08</td>\n",
       "</tr>\n",
       "<tr>\n",
       "  <th>No. Observations:</th>     <td>110000000</td>    <th>  AIC:               </th>           <td>8.320e+08</td> \n",
       "</tr>\n",
       "<tr>\n",
       "  <th>Df Residuals:</th>         <td>109999999</td>    <th>  BIC:               </th>           <td>8.320e+08</td> \n",
       "</tr>\n",
       "<tr>\n",
       "  <th>Df Model:</th>              <td>     1</td>      <th>                     </th>               <td> </td>     \n",
       "</tr>\n",
       "<tr>\n",
       "  <th>Covariance Type:</th>      <td>nonrobust</td>    <th>                     </th>               <td> </td>     \n",
       "</tr>\n",
       "</table>\n",
       "<table class=\"simpletable\">\n",
       "<tr>\n",
       "   <td></td>     <th>coef</th>     <th>std err</th>      <th>t</th>      <th>P>|t|</th>  <th>[0.025</th>    <th>0.975]</th>  \n",
       "</tr>\n",
       "<tr>\n",
       "  <th>x1</th> <td>    1.0000</td> <td> 1.58e-06</td> <td> 6.33e+05</td> <td> 0.000</td> <td>    1.000</td> <td>    1.000</td>\n",
       "</tr>\n",
       "</table>\n",
       "<table class=\"simpletable\">\n",
       "<tr>\n",
       "  <th>Omnibus:</th>       <td>55895.835</td> <th>  Durbin-Watson:     </th> <td>   1.851</td> \n",
       "</tr>\n",
       "<tr>\n",
       "  <th>Prob(Omnibus):</th>  <td> 0.000</td>   <th>  Jarque-Bera (JB):  </th> <td>56058.017</td>\n",
       "</tr>\n",
       "<tr>\n",
       "  <th>Skew:</th>           <td> 0.054</td>   <th>  Prob(JB):          </th> <td>    0.00</td> \n",
       "</tr>\n",
       "<tr>\n",
       "  <th>Kurtosis:</th>       <td> 3.027</td>   <th>  Cond. No.          </th> <td>    1.00</td> \n",
       "</tr>\n",
       "</table><br/><br/>Notes:<br/>[1] R² is computed without centering (uncentered) since the model does not contain a constant.<br/>[2] Standard Errors assume that the covariance matrix of the errors is correctly specified."
      ],
      "text/plain": [
       "<class 'statsmodels.iolib.summary.Summary'>\n",
       "\"\"\"\n",
       "                                 OLS Regression Results                                \n",
       "=======================================================================================\n",
       "Dep. Variable:                      y   R-squared (uncentered):                   1.000\n",
       "Model:                            OLS   Adj. R-squared (uncentered):              1.000\n",
       "Method:                 Least Squares   F-statistic:                          4.002e+11\n",
       "Date:                Sun, 27 Feb 2022   Prob (F-statistic):                        0.00\n",
       "Time:                        16:51:25   Log-Likelihood:                     -4.1601e+08\n",
       "No. Observations:           110000000   AIC:                                  8.320e+08\n",
       "Df Residuals:               109999999   BIC:                                  8.320e+08\n",
       "Df Model:                           1                                                  \n",
       "Covariance Type:            nonrobust                                                  \n",
       "==============================================================================\n",
       "                 coef    std err          t      P>|t|      [0.025      0.975]\n",
       "------------------------------------------------------------------------------\n",
       "x1             1.0000   1.58e-06   6.33e+05      0.000       1.000       1.000\n",
       "==============================================================================\n",
       "Omnibus:                    55895.835   Durbin-Watson:                   1.851\n",
       "Prob(Omnibus):                  0.000   Jarque-Bera (JB):            56058.017\n",
       "Skew:                           0.054   Prob(JB):                         0.00\n",
       "Kurtosis:                       3.027   Cond. No.                         1.00\n",
       "==============================================================================\n",
       "\n",
       "Notes:\n",
       "[1] R² is computed without centering (uncentered) since the model does not contain a constant.\n",
       "[2] Standard Errors assume that the covariance matrix of the errors is correctly specified.\n",
       "\"\"\""
      ]
     },
     "execution_count": 19,
     "metadata": {},
     "output_type": "execute_result"
    }
   ],
   "source": [
    "from statsmodels.api import OLS\n",
    "OLS(y, y_pred.reshape(-1)).fit().summary()"
   ]
  },
  {
   "cell_type": "code",
   "execution_count": 20,
   "metadata": {},
   "outputs": [
    {
     "data": {
      "image/png": "[encoded data removed]",
      "text/plain": [
       "<Figure size 432x288 with 1 Axes>"
      ]
     },
     "metadata": {},
     "output_type": "display_data"
    }
   ],
   "source": [
    "# Plot outputs\n",
    "plt.scatter(x, y, color=\"black\")\n",
    "plt.plot(x, y_pred, color=\"blue\", linewidth=3)\n",
    "\n",
    "plt.xticks(())\n",
    "plt.yticks(())\n",
    "\n",
    "plt.show()"
   ]
  },
  {
   "cell_type": "code",
   "execution_count": 56,
   "metadata": {},
   "outputs": [
    {
     "name": "stdout",
     "output_type": "stream",
     "text": [
      "--- i = 1, 18.46971082687378 seconds ---\n",
      "beta: [-31.7475612   14.77124576]\n",
      "(n, m, variance_pow2_div, variance_div): 110000000 1 112.837458774905 10.622497765351849\n",
      "standard_error: [0.01872012 0.00041124]\n",
      "--- i = 2, 11.155757188796997 seconds ---\n",
      "beta: [-31.74756125  14.77124576]\n",
      "(n, m, variance_pow2_div, variance_div): 110000000 1 114.55619148776523 10.703092613248062\n",
      "standard_error: [0.01886216 0.00041436]\n",
      "--- i = 3, 6.7759459018707275 seconds ---\n",
      "beta: [-31.7475612   14.77124576]\n",
      "(n, m, variance_pow2_div, variance_div): 110000000 1 117.10231816399846 10.821382451609335\n",
      "standard_error: [0.01907062 0.00041894]\n",
      "--- i = 4, 6.731182813644409 seconds ---\n",
      "beta: [-31.7475612   14.77124576]\n",
      "(n, m, variance_pow2_div, variance_div): 110000000 1 119.48741438507001 10.931029886752208\n",
      "standard_error: [0.01926385 0.00042318]\n",
      "--- i = 5, 6.756405591964722 seconds ---\n",
      "beta: [-31.74756121  14.77124576]\n",
      "(n, m, variance_pow2_div, variance_div): 110000000 1 121.76144335841987 11.034556781240463\n",
      "standard_error: [0.0194463  0.00042719]\n",
      "--- i = 6, 6.746172904968262 seconds ---\n",
      "beta: [-31.74756121  14.77124576]\n",
      "(n, m, variance_pow2_div, variance_div): 110000000 1 124.25040351587161 11.146766504949838\n",
      "standard_error: [0.01964405 0.00043154]\n",
      "--- i = 7, 5.0918238162994385 seconds ---\n",
      "beta: [-31.74756121  14.77124576]\n",
      "(n, m, variance_pow2_div, variance_div): 110000000 1 127.51072322807053 11.292064613172851\n",
      "standard_error: [0.01990011 0.00043716]\n",
      "--- i = 8, 4.958791017532349 seconds ---\n",
      "beta: [-31.74756119  14.77124576]\n",
      "(n, m, variance_pow2_div, variance_div): 110000000 1 132.7893315511929 11.523425339333478\n",
      "standard_error: [0.02030784 0.00044612]\n",
      "--- i = 9, 4.903936147689819 seconds ---\n",
      "beta: [-31.74756121  14.77124576]\n",
      "(n, m, variance_pow2_div, variance_div): 110000000 1 143.37842190126722 11.974072903622528\n",
      "standard_error: [0.02110202 0.00046356]\n",
      "--- i = 10, 4.928837776184082 seconds ---\n",
      "beta: [-31.74756122  14.77124576]\n",
      "(n, m, variance_pow2_div, variance_div): 110000000 1 170.8394184040048 13.070555397687\n",
      "standard_error: [0.02303436 0.00050601]\n",
      "--- i = 11, 4.8861308097839355 seconds ---\n",
      "beta: [-31.74756121  14.77124576]\n",
      "(n, m, variance_pow2_div, variance_div): 110000000 1 277.561001561932 16.660162110913927\n",
      "standard_error: [0.02936035 0.00064498]\n",
      "--- i = 12, 4.930521726608276 seconds ---\n",
      "beta: [-31.74756122  14.77124576]\n",
      "(n, m, variance_pow2_div, variance_div): 110000000 1 277.5292372333453 16.65920878173226\n",
      "standard_error: [0.02935867 0.00064495]\n",
      "--- i = 13, 4.902444124221802 seconds ---\n",
      "beta: [-31.74756122  14.77124576]\n",
      "(n, m, variance_pow2_div, variance_div): 110000000 1 277.3900441498971 16.65503059588595\n",
      "standard_error: [0.02935131 0.00064478]\n",
      "--- i = 14, 4.35237979888916 seconds ---\n",
      "beta: [-31.74756121  14.77124576]\n",
      "(n, m, variance_pow2_div, variance_div): 110000000 1 277.42544355326555 16.656093286039965\n",
      "standard_error: [0.02935318 0.00064482]\n",
      "--- i = 15, 4.3148651123046875 seconds ---\n",
      "beta: [-31.74756122  14.77124576]\n",
      "(n, m, variance_pow2_div, variance_div): 110000000 1 277.4071513721267 16.65554416319463\n",
      "standard_error: [0.02935221 0.0006448 ]\n",
      "--- i = 16, 4.2975077629089355 seconds ---\n",
      "beta: [-31.74756121  14.77124576]\n",
      "(n, m, variance_pow2_div, variance_div): 110000000 1 277.30854478422157 16.65258372698428\n",
      "standard_error: [0.029347   0.00064469]\n",
      "--- i = 17, 4.262519121170044 seconds ---\n",
      "beta: [-31.74756122  14.77124576]\n",
      "(n, m, variance_pow2_div, variance_div): 110000000 1 277.38313400786285 16.65482314549941\n",
      "standard_error: [0.02935094 0.00064478]\n",
      "--- i = 18, 4.281831741333008 seconds ---\n",
      "beta: [-31.74756122  14.77124576]\n",
      "(n, m, variance_pow2_div, variance_div): 110000000 1 277.325709064241 16.65309908288067\n",
      "standard_error: [0.0293479  0.00064471]\n",
      "--- i = 19, 4.28321099281311 seconds ---\n",
      "beta: [-31.74756122  14.77124576]\n",
      "(n, m, variance_pow2_div, variance_div): 110000000 1 277.1867217981996 16.648925544857228\n",
      "standard_error: [0.02934055 0.00064455]\n",
      "--- i = 20, 4.2891881465911865 seconds ---\n",
      "beta: [-31.74756122  14.77124576]\n",
      "(n, m, variance_pow2_div, variance_div): 110000000 1 277.18229342619463 16.648792551599488\n",
      "standard_error: [0.02934032 0.00064454]\n",
      "--- i = 21, 4.316877126693726 seconds ---\n",
      "beta: [-31.74756122  14.77124576]\n",
      "(n, m, variance_pow2_div, variance_div): 110000000 1 277.2233312297709 16.65002496183627\n",
      "standard_error: [0.02934249 0.00064459]\n",
      "--- i = 22, 4.291399955749512 seconds ---\n",
      "beta: [-31.74756122  14.77124576]\n",
      "(n, m, variance_pow2_div, variance_div): 110000000 1 277.248143642764 16.65077006155463\n",
      "standard_error: [0.0293438  0.00064462]\n",
      "--- i = 23, 4.353016138076782 seconds ---\n",
      "beta: [-31.74756122  14.77124576]\n",
      "(n, m, variance_pow2_div, variance_div): 110000000 1 277.2939025541317 16.652144082794013\n",
      "standard_error: [0.02934622 0.00064467]\n",
      "--- i = 24, 4.338202953338623 seconds ---\n",
      "beta: [-31.74756121  14.77124576]\n",
      "(n, m, variance_pow2_div, variance_div): 110000000 1 277.18268443346886 16.648804294407118\n",
      "standard_error: [0.02934034 0.00064454]\n",
      "--- i = 25, 4.346697092056274 seconds ---\n",
      "beta: [-31.74756121  14.77124576]\n",
      "(n, m, variance_pow2_div, variance_div): 110000000 1 277.2807366290592 16.651748755883247\n",
      "standard_error: [0.02934553 0.00064466]\n",
      "--- i = 26, 4.33784294128418 seconds ---\n",
      "beta: [-31.74756121  14.77124576]\n",
      "(n, m, variance_pow2_div, variance_div): 110000000 1 277.17342605121297 16.648526242620186\n",
      "standard_error: [0.02933985 0.00064453]\n",
      "--- i = 27, 4.351030111312866 seconds ---\n",
      "beta: [-31.74756122  14.77124576]\n",
      "(n, m, variance_pow2_div, variance_div): 110000000 1 277.2270783197726 16.650137486512616\n",
      "standard_error: [0.02934269 0.00064459]\n",
      "--- i = 28, 4.298534870147705 seconds ---\n",
      "beta: [-31.74756121  14.77124576]\n",
      "(n, m, variance_pow2_div, variance_div): 110000000 1 277.2008233886285 16.649349037984294\n",
      "standard_error: [0.0293413  0.00064456]\n",
      "--- i = 29, 4.298187971115112 seconds ---\n",
      "beta: [-31.74756122  14.77124576]\n",
      "(n, m, variance_pow2_div, variance_div): 110000000 1 277.1631906962037 16.648218844555224\n",
      "standard_error: [0.0293393  0.00064452]\n",
      "--- i = 30, 4.309473037719727 seconds ---\n",
      "beta: [-31.74756122  14.77124576]\n",
      "(n, m, variance_pow2_div, variance_div): 110000000 1 277.1426149688351 16.647600877268626\n",
      "standard_error: [0.02933822 0.0006445 ]\n",
      "--- i = 31, 4.299461126327515 seconds ---\n",
      "beta: [-31.74756122  14.77124576]\n",
      "(n, m, variance_pow2_div, variance_div): 110000000 1 277.155029943375 16.64797374887932\n",
      "standard_error: [0.02933887 0.00064451]\n",
      "--- i = 32, 4.297496795654297 seconds ---\n",
      "beta: [-31.74756121  14.77124576]\n",
      "(n, m, variance_pow2_div, variance_div): 110000000 1 277.14248444243816 16.647596956991666\n",
      "standard_error: [0.02933821 0.0006445 ]\n",
      "--- i = 33, 4.2761640548706055 seconds ---\n",
      "beta: [-31.74756121  14.77124576]\n",
      "(n, m, variance_pow2_div, variance_div): 110000000 1 277.13588379623263 16.647398709595222\n",
      "standard_error: [0.02933786 0.00064449]\n",
      "--- i = 34, 4.288546085357666 seconds ---\n",
      "beta: [-31.74756122  14.77124576]\n",
      "(n, m, variance_pow2_div, variance_div): 110000000 1 277.21196729500696 16.649683699548376\n",
      "standard_error: [0.02934189 0.00064458]\n",
      "--- i = 35, 4.3027119636535645 seconds ---\n",
      "beta: [-31.74756122  14.77124576]\n",
      "(n, m, variance_pow2_div, variance_div): 110000000 1 277.16896057255605 16.648392131751223\n",
      "standard_error: [0.02933961 0.00064453]\n",
      "--- i = 36, 4.317367792129517 seconds ---\n",
      "beta: [-31.74756122  14.77124576]\n",
      "(n, m, variance_pow2_div, variance_div): 110000000 1 277.19448259480527 16.64915861522153\n",
      "standard_error: [0.02934096 0.00064456]\n",
      "--- i = 37, 4.319252014160156 seconds ---\n",
      "beta: [-31.74756122  14.77124576]\n",
      "(n, m, variance_pow2_div, variance_div): 110000000 1 277.16597328887747 16.648302414627068\n",
      "standard_error: [0.02933945 0.00064452]\n",
      "--- i = 38, 4.313910007476807 seconds ---\n",
      "beta: [-31.74756122  14.77124576]\n",
      "(n, m, variance_pow2_div, variance_div): 110000000 1 277.17398057728764 16.648542896520635\n",
      "standard_error: [0.02933988 0.00064453]\n",
      "--- i = 39, 4.356665134429932 seconds ---\n",
      "beta: [-31.74756121  14.77124576]\n",
      "(n, m, variance_pow2_div, variance_div): 110000000 1 277.21119986797146 16.649660653237696\n",
      "standard_error: [0.02934185 0.00064458]\n",
      "--- i = 40, 4.345142126083374 seconds ---\n",
      "beta: [-31.74756122  14.77124576]\n",
      "(n, m, variance_pow2_div, variance_div): 110000000 1 277.22174958249104 16.649977464924422\n",
      "standard_error: [0.0293424  0.00064459]\n"
     ]
    },
    {
     "name": "stdout",
     "output_type": "stream",
     "text": [
      "--- i = 41, 4.348558187484741 seconds ---\n",
      "beta: [-31.74756122  14.77124576]\n",
      "(n, m, variance_pow2_div, variance_div): 110000000 1 277.20003903541635 16.649325482896188\n",
      "standard_error: [0.02934125 0.00064456]\n",
      "--- i = 42, 4.355313062667847 seconds ---\n",
      "beta: [-31.74756122  14.77124576]\n",
      "(n, m, variance_pow2_div, variance_div): 110000000 1 277.22052516157913 16.6499406954373\n",
      "standard_error: [0.02934234 0.00064459]\n",
      "--- i = 43, 4.401844263076782 seconds ---\n",
      "beta: [-31.74756122  14.77124576]\n",
      "(n, m, variance_pow2_div, variance_div): 110000000 1 277.2683906986933 16.651378042032835\n",
      "standard_error: [0.02934487 0.00064464]\n",
      "--- i = 44, 4.3970701694488525 seconds ---\n",
      "beta: [-31.74756122  14.77124576]\n",
      "(n, m, variance_pow2_div, variance_div): 110000000 1 277.3034075716773 16.65242947955875\n",
      "standard_error: [0.02934672 0.00064468]\n",
      "--- i = 45, 4.3805131912231445 seconds ---\n",
      "beta: [-31.74756122  14.77124576]\n",
      "(n, m, variance_pow2_div, variance_div): 110000000 1 277.1948695420279 16.64917023584142\n",
      "standard_error: [0.02934098 0.00064456]\n",
      "--- i = 46, 4.391687870025635 seconds ---\n",
      "beta: [-31.74756122  14.77124576]\n",
      "(n, m, variance_pow2_div, variance_div): 110000000 1 277.17722980095385 16.64864047905876\n",
      "standard_error: [0.02934005 0.00064454]\n",
      "--- i = 47, 4.422831773757935 seconds ---\n",
      "beta: [-31.74756122  14.77124576]\n",
      "(n, m, variance_pow2_div, variance_div): 110000000 1 277.201000628798 16.64935436071916\n",
      "standard_error: [0.02934131 0.00064456]\n",
      "--- i = 48, 4.407738208770752 seconds ---\n",
      "beta: [-31.74756121  14.77124576]\n",
      "(n, m, variance_pow2_div, variance_div): 110000000 1 277.1781830745404 16.648669108206228\n",
      "standard_error: [0.0293401  0.00064454]\n",
      "--- i = 49, 4.416971921920776 seconds ---\n",
      "beta: [-31.74756122  14.77124576]\n",
      "(n, m, variance_pow2_div, variance_div): 110000000 1 277.2280556732209 16.650166836197798\n",
      "standard_error: [0.02934274 0.0006446 ]\n",
      "--- i = 50, 4.425450086593628 seconds ---\n",
      "beta: [-31.74756122  14.77124576]\n",
      "(n, m, variance_pow2_div, variance_div): 110000000 1 277.18568595276156 16.648894436351068\n",
      "standard_error: [0.02934049 0.00064455]\n",
      "--- i = 51, 4.45092511177063 seconds ---\n",
      "beta: [-31.74756122  14.77124576]\n",
      "(n, m, variance_pow2_div, variance_div): 110000000 1 277.08668288342415 16.64592090824128\n",
      "standard_error: [0.02933525 0.00064443]\n",
      "--- i = 52, 4.448307991027832 seconds ---\n",
      "beta: [-31.74756122  14.77124576]\n",
      "(n, m, variance_pow2_div, variance_div): 110000000 1 277.0291538647658 16.644192797031817\n",
      "standard_error: [0.02933221 0.00064436]\n",
      "--- i = 53, 4.46961522102356 seconds ---\n",
      "beta: [-31.74756122  14.77124576]\n",
      "(n, m, variance_pow2_div, variance_div): 110000000 1 277.06783444248475 16.645354740662174\n",
      "standard_error: [0.02933426 0.00064441]\n",
      "--- i = 54, 4.459146976470947 seconds ---\n",
      "beta: [-31.74756122  14.77124576]\n",
      "(n, m, variance_pow2_div, variance_div): 110000000 1 277.1058052852254 16.64649528535137\n",
      "standard_error: [0.02933627 0.00064445]\n",
      "--- i = 55, 4.46758508682251 seconds ---\n",
      "beta: [-31.74756122  14.77124576]\n",
      "(n, m, variance_pow2_div, variance_div): 110000000 1 277.19501324568324 16.64917455148102\n",
      "standard_error: [0.02934099 0.00064456]\n",
      "--- i = 56, 4.407857894897461 seconds ---\n",
      "beta: [-31.74756122  14.77124576]\n",
      "(n, m, variance_pow2_div, variance_div): 110000000 1 277.19828169781556 16.649272707773623\n",
      "standard_error: [0.02934116 0.00064456]\n",
      "--- i = 57, 4.316066026687622 seconds ---\n",
      "beta: [-31.74756122  14.77124576]\n",
      "(n, m, variance_pow2_div, variance_div): 110000000 1 277.1707099744249 16.648444671332662\n",
      "standard_error: [0.0293397  0.00064453]\n",
      "--- i = 58, 4.322872161865234 seconds ---\n",
      "beta: [-31.74756122  14.77124576]\n",
      "(n, m, variance_pow2_div, variance_div): 110000000 1 277.23996842285516 16.650524568999476\n",
      "standard_error: [0.02934337 0.00064461]\n",
      "--- i = 59, 4.335929870605469 seconds ---\n",
      "beta: [-31.74756122  14.77124576]\n",
      "(n, m, variance_pow2_div, variance_div): 110000000 1 277.27748670488626 16.65165117052619\n",
      "standard_error: [0.02934535 0.00064465]\n",
      "--- i = 60, 4.298932075500488 seconds ---\n",
      "beta: [-31.74756122  14.77124576]\n",
      "(n, m, variance_pow2_div, variance_div): 110000000 1 277.30608602904795 16.652509901785013\n",
      "standard_error: [0.02934687 0.00064469]\n",
      "--- i = 61, 4.302288055419922 seconds ---\n",
      "beta: [-31.74756122  14.77124576]\n",
      "(n, m, variance_pow2_div, variance_div): 110000000 1 277.30861711365185 16.652585898702096\n",
      "standard_error: [0.029347   0.00064469]\n",
      "--- i = 62, 4.2961390018463135 seconds ---\n",
      "beta: [-31.74756122  14.77124576]\n",
      "(n, m, variance_pow2_div, variance_div): 110000000 1 277.3029126342782 16.652414618735573\n",
      "standard_error: [0.0293467  0.00064468]\n",
      "--- i = 63, 4.308485269546509 seconds ---\n",
      "beta: [-31.74756122  14.77124576]\n",
      "(n, m, variance_pow2_div, variance_div): 110000000 1 277.33464979773373 16.65336752124728\n",
      "standard_error: [0.02934838 0.00064472]\n",
      "--- i = 64, 4.209300994873047 seconds ---\n",
      "beta: [-31.74756122  14.77124576]\n",
      "(n, m, variance_pow2_div, variance_div): 110000000 1 277.2547605070878 16.650968755813814\n",
      "standard_error: [0.02934415 0.00064463]\n",
      "--- i = 65, 4.2056567668914795 seconds ---\n",
      "beta: [-31.74756122  14.77124576]\n",
      "(n, m, variance_pow2_div, variance_div): 110000000 1 277.2890280047774 16.651997718135124\n",
      "standard_error: [0.02934596 0.00064467]\n",
      "--- i = 66, 4.203208923339844 seconds ---\n",
      "beta: [-31.74756122  14.77124576]\n",
      "(n, m, variance_pow2_div, variance_div): 110000000 1 277.24181864587064 16.650580129409025\n",
      "standard_error: [0.02934347 0.00064461]\n",
      "--- i = 67, 4.214802026748657 seconds ---\n",
      "beta: [-31.74756122  14.77124576]\n",
      "(n, m, variance_pow2_div, variance_div): 110000000 1 277.33140157110375 16.653269996343173\n",
      "standard_error: [0.02934821 0.00064472]\n",
      "--- i = 68, 4.2030699253082275 seconds ---\n",
      "beta: [-31.74756122  14.77124576]\n",
      "(n, m, variance_pow2_div, variance_div): 110000000 1 277.3864143432119 16.654921625249756\n",
      "standard_error: [0.02935112 0.00064478]\n",
      "--- i = 69, 4.221116065979004 seconds ---\n",
      "beta: [-31.74756122  14.77124576]\n",
      "(n, m, variance_pow2_div, variance_div): 110000000 1 277.4365822707645 16.65642765633629\n",
      "standard_error: [0.02935377 0.00064484]\n",
      "--- i = 70, 4.216807126998901 seconds ---\n",
      "beta: [-31.74756122  14.77124576]\n",
      "(n, m, variance_pow2_div, variance_div): 110000000 1 277.5016460465236 16.658380654989354\n",
      "standard_error: [0.02935721 0.00064491]\n",
      "--- i = 71, 4.224998950958252 seconds ---\n",
      "beta: [-31.74756122  14.77124576]\n",
      "(n, m, variance_pow2_div, variance_div): 110000000 1 277.37830452514856 16.654678157357125\n",
      "standard_error: [0.02935069 0.00064477]\n",
      "--- i = 72, 4.2193310260772705 seconds ---\n",
      "beta: [-31.74756122  14.77124576]\n",
      "(n, m, variance_pow2_div, variance_div): 110000000 1 277.32400219460106 16.65304783499408\n",
      "standard_error: [0.02934781 0.00064471]\n",
      "--- i = 73, 4.220609903335571 seconds ---\n",
      "beta: [-31.74756122  14.77124576]\n",
      "(n, m, variance_pow2_div, variance_div): 110000000 1 277.3273835345032 16.653149357839293\n",
      "standard_error: [0.02934799 0.00064471]\n",
      "--- i = 74, 4.227190017700195 seconds ---\n",
      "beta: [-31.74756122  14.77124576]\n",
      "(n, m, variance_pow2_div, variance_div): 110000000 1 277.30837248067473 16.652578553505602\n",
      "standard_error: [0.02934699 0.00064469]\n",
      "--- i = 75, 4.222815990447998 seconds ---\n",
      "beta: [-31.74756122  14.77124576]\n",
      "(n, m, variance_pow2_div, variance_div): 110000000 1 277.31064477039814 16.652646779728386\n",
      "standard_error: [0.02934711 0.00064469]\n",
      "--- i = 76, 4.233040809631348 seconds ---\n",
      "beta: [-31.74756122  14.77124576]\n",
      "(n, m, variance_pow2_div, variance_div): 110000000 1 277.32006118883777 16.652929507712383\n",
      "standard_error: [0.02934761 0.0006447 ]\n",
      "--- i = 77, 4.232987880706787 seconds ---\n",
      "beta: [-31.74756122  14.77124576]\n",
      "(n, m, variance_pow2_div, variance_div): 110000000 1 277.2082317848993 16.649571519558673\n",
      "standard_error: [0.02934169 0.00064457]\n",
      "--- i = 78, 4.246238946914673 seconds ---\n",
      "beta: [-31.74756122  14.77124576]\n",
      "(n, m, variance_pow2_div, variance_div): 110000000 1 277.147086033124 16.647735162271292\n",
      "standard_error: [0.02933845 0.0006445 ]\n",
      "--- i = 79, 4.264038801193237 seconds ---\n",
      "beta: [-31.74756122  14.77124576]\n",
      "(n, m, variance_pow2_div, variance_div): 110000000 1 277.170627689426 16.648442200080645\n",
      "standard_error: [0.0293397  0.00064453]\n",
      "--- i = 80, 4.252377033233643 seconds ---\n",
      "beta: [-31.74756122  14.77124576]\n",
      "(n, m, variance_pow2_div, variance_div): 110000000 1 277.189931420955 16.649021935866234\n",
      "standard_error: [0.02934072 0.00064455]\n"
     ]
    },
    {
     "name": "stdout",
     "output_type": "stream",
     "text": [
      "--- i = 81, 4.256382942199707 seconds ---\n",
      "beta: [-31.74756122  14.77124576]\n",
      "(n, m, variance_pow2_div, variance_div): 110000000 1 277.18999887842824 16.64902396173506\n",
      "standard_error: [0.02934072 0.00064455]\n",
      "--- i = 82, 4.257929801940918 seconds ---\n",
      "beta: [-31.74756122  14.77124576]\n",
      "(n, m, variance_pow2_div, variance_div): 110000000 1 277.0908133642224 16.646044976637015\n",
      "standard_error: [0.02933547 0.00064444]\n",
      "--- i = 83, 4.262908220291138 seconds ---\n",
      "beta: [-31.74756122  14.77124576]\n",
      "(n, m, variance_pow2_div, variance_div): 110000000 1 276.9782665789326 16.642664046928683\n",
      "standard_error: [0.02932952 0.0006443 ]\n",
      "--- i = 84, 4.264907121658325 seconds ---\n",
      "beta: [-31.74756122  14.77124576]\n",
      "(n, m, variance_pow2_div, variance_div): 110000000 1 276.9851044462949 16.642869477535864\n",
      "standard_error: [0.02932988 0.00064431]\n",
      "--- i = 85, 4.271947145462036 seconds ---\n",
      "beta: [-31.74756122  14.77124576]\n",
      "(n, m, variance_pow2_div, variance_div): 110000000 1 276.9621069783977 16.642178552653426\n",
      "standard_error: [0.02932866 0.00064429]\n",
      "--- i = 86, 4.265393018722534 seconds ---\n",
      "beta: [-31.74756122  14.77124576]\n",
      "(n, m, variance_pow2_div, variance_div): 110000000 1 276.9753208536524 16.6425755474822\n",
      "standard_error: [0.02932936 0.0006443 ]\n",
      "--- i = 87, 4.267472982406616 seconds ---\n",
      "beta: [-31.74756122  14.77124576]\n",
      "(n, m, variance_pow2_div, variance_div): 110000000 1 277.00654177189335 16.643513504422476\n",
      "standard_error: [0.02933101 0.00064434]\n",
      "--- i = 88, 4.273285865783691 seconds ---\n",
      "beta: [-31.74756122  14.77124576]\n",
      "(n, m, variance_pow2_div, variance_div): 110000000 1 276.98199328079085 16.642776008851133\n",
      "standard_error: [0.02932971 0.00064431]\n",
      "--- i = 89, 4.276233911514282 seconds ---\n",
      "beta: [-31.74756122  14.77124576]\n",
      "(n, m, variance_pow2_div, variance_div): 110000000 1 276.96248266623707 16.642189839868944\n",
      "standard_error: [0.02932868 0.00064429]\n",
      "--- i = 90, 4.284337997436523 seconds ---\n",
      "beta: [-31.74756122  14.77124576]\n",
      "(n, m, variance_pow2_div, variance_div): 110000000 1 276.9075807003503 16.640540276696257\n",
      "standard_error: [0.02932577 0.00064422]\n",
      "--- i = 91, 4.293184995651245 seconds ---\n",
      "beta: [-31.74756122  14.77124576]\n",
      "(n, m, variance_pow2_div, variance_div): 110000000 1 276.9187396725956 16.640875568088227\n",
      "standard_error: [0.02932636 0.00064424]\n",
      "--- i = 92, 4.27630615234375 seconds ---\n",
      "beta: [-31.74756122  14.77124576]\n",
      "(n, m, variance_pow2_div, variance_div): 110000000 1 277.02941654026415 16.644200687935246\n",
      "standard_error: [0.02933222 0.00064436]\n",
      "--- i = 93, 4.282340049743652 seconds ---\n",
      "beta: [-31.74756122  14.77124576]\n",
      "(n, m, variance_pow2_div, variance_div): 110000000 1 276.9187979600365 16.640877319421488\n",
      "standard_error: [0.02932637 0.00064424]\n",
      "--- i = 94, 4.2920989990234375 seconds ---\n",
      "beta: [-31.74756122  14.77124576]\n",
      "(n, m, variance_pow2_div, variance_div): 110000000 1 276.82899593242144 16.63817886466008\n",
      "standard_error: [0.02932161 0.00064413]\n",
      "--- i = 95, 4.294445037841797 seconds ---\n",
      "beta: [-31.74756122  14.77124576]\n",
      "(n, m, variance_pow2_div, variance_div): 110000000 1 276.6759888888754 16.633580158488893\n",
      "standard_error: [0.02931351 0.00064395]\n",
      "--- i = 96, 4.315028190612793 seconds ---\n",
      "beta: [-31.74756122  14.77124576]\n",
      "(n, m, variance_pow2_div, variance_div): 110000000 1 276.7354514486843 16.63536748763562\n",
      "standard_error: [0.02931666 0.00064402]\n",
      "--- i = 97, 4.29867696762085 seconds ---\n",
      "beta: [-31.74756122  14.77124576]\n",
      "(n, m, variance_pow2_div, variance_div): 110000000 1 276.79008350924215 16.63700945209932\n",
      "standard_error: [0.02931955 0.00064409]\n",
      "--- i = 98, 4.307709217071533 seconds ---\n",
      "beta: [-31.74756122  14.77124576]\n",
      "(n, m, variance_pow2_div, variance_div): 110000000 1 276.685280534555 16.633859459985675\n",
      "standard_error: [0.029314   0.00064396]\n",
      "--- i = 99, 4.316742181777954 seconds ---\n",
      "beta: [-31.74756122  14.77124576]\n",
      "(n, m, variance_pow2_div, variance_div): 110000000 1 276.58678758566913 16.63089858022317\n",
      "standard_error: [0.02930878 0.00064385]\n"
     ]
    }
   ],
   "source": [
    "# With Segmentation\n",
    "\n",
    "import time\n",
    "\n",
    "y_plot = []\n",
    "x_plot = []\n",
    "\n",
    "for i in range(1, 100, 1):\n",
    "    start_time = time.time()\n",
    "    div = math.ceil(len(df) / i)\n",
    "    xtx = 0\n",
    "    xty = 0\n",
    "    x_all = []\n",
    "    y_all = []\n",
    "    for j in range(0, len(df), div):\n",
    "        minidx = min(len(df), j + div)\n",
    "        \n",
    "        x_div = df['x'][j:minidx].to_numpy().reshape((-1, 1))\n",
    "        y_div = df['y'][j:minidx].to_numpy()\n",
    "        \n",
    "        model = LinearRegression().fit(x_div, y_div)\n",
    "        \n",
    "        matrix = np.ones((len(x_div), 2))\n",
    "        matrix[:, 1] = x_div.reshape(-1)\n",
    "        \n",
    "        xtx = xtx + np.transpose(matrix) @ matrix\n",
    "        xty = xty + np.transpose(matrix) @ y_div\n",
    "        \n",
    "        x_all.append(x_div)\n",
    "        y_all.append(y_div)\n",
    "    \n",
    "    xtx_inv = inv(xtx)\n",
    "    beta = xtx_inv @ xty\n",
    "    \n",
    "    rss_div = 0\n",
    "    for idx in range(len(x_all)):\n",
    "        y_pred_div = model.predict(x_all[idx])\n",
    "        r_div = y_all[idx] - y_pred_div\n",
    "        rss_div += np.transpose(r_div) @ r_div\n",
    "\n",
    "    n = len(df)\n",
    "    m = matrix_rank(df['x'])\n",
    "    variance_pow2_div = rss_div / (n - m)\n",
    "    variance_div = math.sqrt(variance_pow2_div)\n",
    "    standard_error = np.sqrt(np.diag(variance_pow2_div * xtx_inv))\n",
    "        \n",
    "    print(\"--- i = {0}, {1} seconds ---\".format(i, time.time() - start_time))\n",
    "    print(\"beta:\", beta)\n",
    "    print('(n, m, variance_pow2_div, variance_div):', n, m, variance_pow2_div, variance_div)\n",
    "    print('standard_error:', standard_error)\n",
    "    x_plot.append(i)\n",
    "    y_plot.append(time.time() - start_time)"
   ]
  },
  {
   "cell_type": "code",
   "execution_count": 57,
   "metadata": {},
   "outputs": [
    {
     "data": {
      "image/png": "[encoded data removed]",
      "text/plain": [
       "<Figure size 432x288 with 1 Axes>"
      ]
     },
     "metadata": {
      "needs_background": "light"
     },
     "output_type": "display_data"
    }
   ],
   "source": [
    "# Plot outputs\n",
    "plt.scatter(x_plot, y_plot, color=\"black\")\n",
    "plt.title('Chunks and Time')\n",
    "\n",
    "plt.xlabel('Chunks')\n",
    "plt.ylabel('Time')\n",
    "plt.show()"
   ]
  },
  {
   "cell_type": "code",
   "execution_count": 62,
   "metadata": {
    "scrolled": true
   },
   "outputs": [
    {
     "data": {
      "text/plain": [
       "66"
      ]
     },
     "execution_count": 62,
     "metadata": {},
     "output_type": "execute_result"
    }
   ],
   "source": [
    "y_plot.index(min(y_plot)) + 1"
   ]
  },
  {
   "cell_type": "markdown",
   "metadata": {},
   "source": [
    "### Answer:\n",
    "**Without Segmentation:**\n",
    "- Standard errors of the parameters: **[0.01872012 0.00041124]** <br>\n",
    "- Variance of the errors: **112.837458774905** <br>\n",
    "\n",
    "**With Segmentation:**\n",
    "- Investigate which is the number of chunks optimum to minimize the execution time: **66** <br>\n",
    "- Standard errors of the parameters: **[0.02934596 0.00064467]** <br>\n",
    "- Variance of the errors: **277.2890280047774** <br>"
   ]
  }
 ],
 "metadata": {
  "kernelspec": {
   "display_name": "Python 3 (ipykernel)",
   "language": "python",
   "name": "python3"
  },
  "language_info": {
   "codemirror_mode": {
    "name": "ipython",
    "version": 3
   },
   "file_extension": ".py",
   "mimetype": "text/x-python",
   "name": "python",
   "nbconvert_exporter": "python",
   "pygments_lexer": "ipython3",
   "version": "3.9.7"
  }
 },
 "nbformat": 4,
 "nbformat_minor": 4
}
