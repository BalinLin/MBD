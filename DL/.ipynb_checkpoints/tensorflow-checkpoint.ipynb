{
 "cells": [
  {
   "cell_type": "markdown",
   "metadata": {},
   "source": [
    "<div style=\"width: 100%; clear: both;\">\n",
    "<div style=\"float: right; width: 40%;\">\n",
    "<img src=\"http://mat.uab.cat/~tonilb/aa2/img/logo_uab.png\", alt=\"Logo UAB\", align=\"left\", width=\"500\">\n",
    "</div>\n",
    "<div style=\"float: left; width: 60%;\">\n",
    "<p style=\"margin: 0; padding-top: 10px; font-size:24px; font-weight:bold;\">Introduction to Deep Learning</p>\n",
    "<p style=\"margin: 0; padding-top: 10px; font-size:20px;\">Master's Degree in Modelling for Science and Engineering</p>\n",
    "<p style=\"margin: 0; padding-top: 5px; font-size:20px;\">Year 2021-2022</p>\n",
    "</div>\n",
    "</div>"
   ]
  },
  {
   "cell_type": "markdown",
   "metadata": {},
   "source": [
    "## Import Libraries"
   ]
  },
  {
   "cell_type": "code",
   "execution_count": 1,
   "metadata": {},
   "outputs": [],
   "source": [
    "import numpy as np\n",
    "import tensorflow as tf\n",
    "from sklearn.preprocessing import StandardScaler\n",
    "import matplotlib.pyplot as plt\n",
    "%matplotlib inline"
   ]
  },
  {
   "cell_type": "markdown",
   "metadata": {},
   "source": [
    "# Fully Connected Neural Networks"
   ]
  },
  {
   "cell_type": "markdown",
   "metadata": {},
   "source": [
    "To train a fully connected neural network we will use the Boston Housing Dataset."
   ]
  },
  {
   "cell_type": "code",
   "execution_count": 2,
   "metadata": {},
   "outputs": [
    {
     "name": "stdout",
     "output_type": "stream",
     "text": [
      "Downloading data from https://storage.googleapis.com/tensorflow/tf-keras-datasets/boston_housing.npz\n",
      "57344/57026 [==============================] - 0s 1us/step\n",
      "65536/57026 [==================================] - 0s 0us/step\n",
      "Boston Housing\n",
      "Trainset data dimensions: (404, 13)\n",
      "Trainset labels dimensions: (404,)\n",
      "Testset data dimensions: (102, 13)\n",
      "Testset labels dimensions: (102,)\n"
     ]
    }
   ],
   "source": [
    "(boston_train_x, boston_train_y), (boston_test_x, boston_test_y) = tf.keras.datasets.boston_housing.load_data()\n",
    "\n",
    "print(\"Boston Housing\")\n",
    "print(\"Trainset data dimensions: {}\".format(boston_train_x.shape))\n",
    "print(\"Trainset labels dimensions: {}\".format(boston_train_y.shape))\n",
    "print(\"Testset data dimensions: {}\".format(boston_test_x.shape))\n",
    "print(\"Testset labels dimensions: {}\".format(boston_test_y.shape))"
   ]
  },
  {
   "cell_type": "markdown",
   "metadata": {},
   "source": [
    "The next cell shows the data and label in one of the examples."
   ]
  },
  {
   "cell_type": "code",
   "execution_count": 3,
   "metadata": {},
   "outputs": [
    {
     "name": "stdout",
     "output_type": "stream",
     "text": [
      "Boston Housing\n",
      "Variables: [  1.23247   0.        8.14      0.        0.538     6.142    91.7\n",
      "   3.9769    4.      307.       21.      396.9      18.72   ]\n",
      "Target: 15.2\n"
     ]
    }
   ],
   "source": [
    "print(\"Boston Housing\")\n",
    "print(\"Variables: {}\".format(boston_train_x[0]))\n",
    "print(\"Target: {}\".format(boston_train_y[0]))"
   ]
  },
  {
   "cell_type": "markdown",
   "metadata": {},
   "source": [
    "To train the neural network we will first use a StandardScaler to normalize the data"
   ]
  },
  {
   "cell_type": "code",
   "execution_count": 4,
   "metadata": {},
   "outputs": [],
   "source": [
    "scaler = StandardScaler()\n",
    "scaler.fit(boston_train_x)\n",
    "boston_train_x = scaler.transform(boston_train_x)\n",
    "boston_test_x = scaler.transform(boston_test_x)"
   ]
  },
  {
   "cell_type": "markdown",
   "metadata": {},
   "source": [
    "We define a fully connected neural network architecture using Dense layers."
   ]
  },
  {
   "cell_type": "code",
   "execution_count": 5,
   "metadata": {},
   "outputs": [
    {
     "name": "stderr",
     "output_type": "stream",
     "text": [
      "2022-04-07 17:27:58.532549: I tensorflow/core/platform/cpu_feature_guard.cc:151] This TensorFlow binary is optimized with oneAPI Deep Neural Network Library (oneDNN) to use the following CPU instructions in performance-critical operations:  AVX2 FMA\n",
      "To enable them in other operations, rebuild TensorFlow with the appropriate compiler flags.\n"
     ]
    }
   ],
   "source": [
    "model = tf.keras.Sequential()\n",
    "\n",
    "model.add(tf.keras.layers.Dense(10, activation=\"relu\", input_dim=(13)))\n",
    "model.add(tf.keras.layers.Dense(10, activation=\"relu\"))\n",
    "model.add(tf.keras.layers.Dense(1, activation=\"linear\"))\n",
    "\n",
    "model.compile(optimizer=\"Adam\", loss=\"mse\")"
   ]
  },
  {
   "cell_type": "code",
   "execution_count": 6,
   "metadata": {
    "scrolled": true
   },
   "outputs": [
    {
     "name": "stdout",
     "output_type": "stream",
     "text": [
      "Epoch 1/20\n",
      "26/26 [==============================] - 0s 6ms/step - loss: 553.2474 - val_loss: 575.6619\n",
      "Epoch 2/20\n",
      "26/26 [==============================] - 0s 2ms/step - loss: 531.1183 - val_loss: 550.4206\n",
      "Epoch 3/20\n",
      "26/26 [==============================] - 0s 2ms/step - loss: 502.8513 - val_loss: 516.2960\n",
      "Epoch 4/20\n",
      "26/26 [==============================] - 0s 2ms/step - loss: 464.2634 - val_loss: 469.7788\n",
      "Epoch 5/20\n",
      "26/26 [==============================] - 0s 2ms/step - loss: 411.6335 - val_loss: 407.9267\n",
      "Epoch 6/20\n",
      "26/26 [==============================] - 0s 2ms/step - loss: 345.6436 - val_loss: 335.2270\n",
      "Epoch 7/20\n",
      "26/26 [==============================] - 0s 2ms/step - loss: 273.6278 - val_loss: 261.5620\n",
      "Epoch 8/20\n",
      "26/26 [==============================] - 0s 2ms/step - loss: 204.1141 - val_loss: 192.6238\n",
      "Epoch 9/20\n",
      "26/26 [==============================] - 0s 2ms/step - loss: 144.3297 - val_loss: 140.1528\n",
      "Epoch 10/20\n",
      "26/26 [==============================] - 0s 2ms/step - loss: 103.7299 - val_loss: 103.8338\n",
      "Epoch 11/20\n",
      "26/26 [==============================] - 0s 2ms/step - loss: 76.1147 - val_loss: 81.2543\n",
      "Epoch 12/20\n",
      "26/26 [==============================] - 0s 2ms/step - loss: 61.1941 - val_loss: 66.4102\n",
      "Epoch 13/20\n",
      "26/26 [==============================] - 0s 2ms/step - loss: 51.7018 - val_loss: 57.7172\n",
      "Epoch 14/20\n",
      "26/26 [==============================] - 0s 2ms/step - loss: 45.4610 - val_loss: 51.1808\n",
      "Epoch 15/20\n",
      "26/26 [==============================] - 0s 2ms/step - loss: 40.7513 - val_loss: 45.7365\n",
      "Epoch 16/20\n",
      "26/26 [==============================] - 0s 2ms/step - loss: 37.1243 - val_loss: 41.7871\n",
      "Epoch 17/20\n",
      "26/26 [==============================] - 0s 2ms/step - loss: 34.4507 - val_loss: 38.5868\n",
      "Epoch 18/20\n",
      "26/26 [==============================] - 0s 2ms/step - loss: 32.4378 - val_loss: 36.4670\n",
      "Epoch 19/20\n",
      "26/26 [==============================] - 0s 2ms/step - loss: 30.8522 - val_loss: 34.6677\n",
      "Epoch 20/20\n",
      "26/26 [==============================] - 0s 2ms/step - loss: 29.6906 - val_loss: 33.0697\n"
     ]
    }
   ],
   "source": [
    "history = model.fit(boston_train_x, boston_train_y, epochs=20, batch_size=16, validation_data=(boston_test_x, boston_test_y))"
   ]
  },
  {
   "cell_type": "markdown",
   "metadata": {},
   "source": [
    "The next function plots the evolution of the training process."
   ]
  },
  {
   "cell_type": "code",
   "execution_count": 7,
   "metadata": {},
   "outputs": [],
   "source": [
    "def loss_plot(history):\n",
    "    plt.plot(history.history[\"loss\"])\n",
    "    plt.plot(history.history[\"val_loss\"])\n",
    "    plt.title(\"Model loss\")\n",
    "    plt.ylabel(\"Loss\")\n",
    "    plt.xlabel(\"Epoch\")\n",
    "    plt.legend([\"Train_loss\", \"Test_loss\"], loc=\"upper left\")\n",
    "    plt.show()"
   ]
  },
  {
   "cell_type": "code",
   "execution_count": 8,
   "metadata": {},
   "outputs": [
    {
     "data": {
      "image/png": "[encoded data removed]",
      "text/plain": [
       "<Figure size 432x288 with 1 Axes>"
      ]
     },
     "metadata": {
      "needs_background": "light"
     },
     "output_type": "display_data"
    }
   ],
   "source": [
    "loss_plot(history)"
   ]
  },
  {
   "cell_type": "markdown",
   "metadata": {},
   "source": [
    "# Convolutional Neural Networks"
   ]
  },
  {
   "cell_type": "markdown",
   "metadata": {},
   "source": [
    "To work with convolutional neural networks we will use the MNIST dataset."
   ]
  },
  {
   "cell_type": "code",
   "execution_count": 18,
   "metadata": {
    "scrolled": true
   },
   "outputs": [
    {
     "name": "stdout",
     "output_type": "stream",
     "text": [
      "MNIST\n",
      "Trainset data dimensions: (60000, 28, 28)\n",
      "Trainset labels dimensions: (60000,)\n",
      "Testset data dimensions: (10000, 28, 28)\n",
      "Testset labels dimensions: (10000,)\n",
      "[5 0 4 ... 5 6 8]\n"
     ]
    }
   ],
   "source": [
    "(mnist_train_images, mnist_train_labels), (mnist_test_images, mnist_test_labels) = tf.keras.datasets.mnist.load_data()\n",
    "\n",
    "print(\"MNIST\")\n",
    "print(\"Trainset data dimensions: {}\".format(mnist_train_images.shape))\n",
    "print(\"Trainset labels dimensions: {}\".format(mnist_train_labels.shape))\n",
    "print(\"Testset data dimensions: {}\".format(mnist_test_images.shape))\n",
    "print(\"Testset labels dimensions: {}\".format(mnist_test_labels.shape))"
   ]
  },
  {
   "cell_type": "markdown",
   "metadata": {},
   "source": [
    "The next cell shows images and labels for several examples."
   ]
  },
  {
   "cell_type": "code",
   "execution_count": 10,
   "metadata": {},
   "outputs": [
    {
     "data": {
      "image/png": "[encoded data removed]",
      "text/plain": [
       "<Figure size 720x2880 with 4 Axes>"
      ]
     },
     "metadata": {
      "needs_background": "light"
     },
     "output_type": "display_data"
    }
   ],
   "source": [
    "images = mnist_train_images[:4]\n",
    "\n",
    "fig, ax = plt.subplots(1, 4, figsize=(10, 40))\n",
    "\n",
    "for i in range(4):\n",
    "    ax[i].imshow(images[i].reshape(28,28), cmap=\"gray\")\n",
    "    ax[i].set_title(\"{}\".format(mnist_train_labels[i]))\n",
    "    ax[i].axis(\"off\")"
   ]
  },
  {
   "cell_type": "markdown",
   "metadata": {},
   "source": [
    "To normalize the values of the pixels we divide all values in the image by 255. We also add an extra dimension to the images since we will need it in the definition of the neural network."
   ]
  },
  {
   "cell_type": "code",
   "execution_count": 11,
   "metadata": {},
   "outputs": [],
   "source": [
    "mnist_train_images = np.true_divide(mnist_train_images, 255)\n",
    "mnist_train_images = np.expand_dims(mnist_train_images, axis=3)\n",
    "\n",
    "mnist_test_images = np.true_divide(mnist_test_images, 255)\n",
    "mnist_test_images = np.expand_dims(mnist_test_images, axis=3)"
   ]
  },
  {
   "cell_type": "markdown",
   "metadata": {},
   "source": [
    "Now we train a convolutional neural network using Conv2D layers."
   ]
  },
  {
   "cell_type": "code",
   "execution_count": 12,
   "metadata": {},
   "outputs": [],
   "source": [
    "model = tf.keras.Sequential()\n",
    "\n",
    "model.add(tf.keras.layers.Conv2D(32, kernel_size=(3, 3), activation=\"relu\", padding='same',\n",
    "                                 input_shape=mnist_train_images.shape[1:]))\n",
    "model.add(tf.keras.layers.Conv2D(32, kernel_size=(3, 3), activation=\"relu\", padding='same'))\n",
    "model.add(tf.keras.layers.MaxPooling2D(pool_size=(2, 2)))\n",
    "model.add(tf.keras.layers.Dropout(rate=0.25))\n",
    "model.add(tf.keras.layers.Flatten())\n",
    "model.add(tf.keras.layers.Dense(512, activation=\"relu\"))\n",
    "model.add(tf.keras.layers.Dropout(rate=0.5))\n",
    "model.add(tf.keras.layers.Dense(10, activation=\"softmax\"))\n",
    "\n",
    "model.compile(loss=\"sparse_categorical_crossentropy\", optimizer=\"adam\", metrics=[\"accuracy\"])"
   ]
  },
  {
   "cell_type": "code",
   "execution_count": 13,
   "metadata": {
    "scrolled": true
   },
   "outputs": [
    {
     "name": "stdout",
     "output_type": "stream",
     "text": [
      "Epoch 1/5\n",
      "1688/1688 [==============================] - 72s 42ms/step - loss: 0.1576 - accuracy: 0.9519 - val_loss: 0.0449 - val_accuracy: 0.9890\n",
      "Epoch 2/5\n",
      "1688/1688 [==============================] - 71s 42ms/step - loss: 0.0612 - accuracy: 0.9806 - val_loss: 0.0353 - val_accuracy: 0.9903\n",
      "Epoch 3/5\n",
      "1688/1688 [==============================] - 71s 42ms/step - loss: 0.0435 - accuracy: 0.9863 - val_loss: 0.0333 - val_accuracy: 0.9888\n",
      "Epoch 4/5\n",
      "1688/1688 [==============================] - 70s 41ms/step - loss: 0.0363 - accuracy: 0.9880 - val_loss: 0.0283 - val_accuracy: 0.9925\n",
      "Epoch 5/5\n",
      "1688/1688 [==============================] - 71s 42ms/step - loss: 0.0287 - accuracy: 0.9908 - val_loss: 0.0395 - val_accuracy: 0.9908\n"
     ]
    }
   ],
   "source": [
    "history = model.fit(mnist_train_images, mnist_train_labels, validation_split=0.1, batch_size=32, epochs=5)"
   ]
  },
  {
   "cell_type": "code",
   "execution_count": 17,
   "metadata": {},
   "outputs": [
    {
     "data": {
      "text/plain": [
       "(28, 28, 1)"
      ]
     },
     "execution_count": 17,
     "metadata": {},
     "output_type": "execute_result"
    }
   ],
   "source": [
    "mnist_train_images.shape[1:]"
   ]
  },
  {
   "cell_type": "markdown",
   "metadata": {},
   "source": [
    "In this case, since we have also an accuracy metric, we can plot the evolution of the training process for the loss and the accuracy."
   ]
  },
  {
   "cell_type": "code",
   "execution_count": 14,
   "metadata": {},
   "outputs": [],
   "source": [
    "def accuracy_plot(history):\n",
    "    plt.plot(history.history[\"accuracy\"])\n",
    "    plt.plot(history.history[\"val_accuracy\"])\n",
    "    plt.title(\"Model accuracy\")\n",
    "    plt.ylabel(\"Accuracy\")\n",
    "    plt.xlabel(\"Epoch\")\n",
    "    plt.legend([\"Train_val\", \"Test_val\"], loc=\"upper left\")\n",
    "    plt.show()"
   ]
  },
  {
   "cell_type": "code",
   "execution_count": 15,
   "metadata": {},
   "outputs": [
    {
     "data": {
      "image/png": "[encoded data removed]",
      "text/plain": [
       "<Figure size 432x288 with 1 Axes>"
      ]
     },
     "metadata": {
      "needs_background": "light"
     },
     "output_type": "display_data"
    },
    {
     "data": {
      "image/png": "[encoded data removed]",
      "text/plain": [
       "<Figure size 432x288 with 1 Axes>"
      ]
     },
     "metadata": {
      "needs_background": "light"
     },
     "output_type": "display_data"
    }
   ],
   "source": [
    "accuracy_plot(history)\n",
    "loss_plot(history)"
   ]
  },
  {
   "cell_type": "markdown",
   "metadata": {},
   "source": [
    "Since we have used a part of the trainset to do the evaluation, we can now measure the performance of the model on the testset."
   ]
  },
  {
   "cell_type": "code",
   "execution_count": 16,
   "metadata": {},
   "outputs": [
    {
     "name": "stdout",
     "output_type": "stream",
     "text": [
      "313/313 [==============================] - 2s 6ms/step - loss: 0.0313 - accuracy: 0.9901\n",
      "Test loss: 0.03133747726678848\n",
      "Test accuracy: 0.9901000261306763\n"
     ]
    }
   ],
   "source": [
    "score = model.evaluate(mnist_test_images, mnist_test_labels)\n",
    "print(\"Test loss: {}\".format(score[0]))\n",
    "print(\"Test accuracy: {}\".format(score[1]))"
   ]
  },
  {
   "cell_type": "markdown",
   "metadata": {},
   "source": [
    "# Recurrent Neural Networks"
   ]
  },
  {
   "cell_type": "markdown",
   "metadata": {},
   "source": [
    "For the recurrent neural networks we will use a dataset with the text of some news and the corresponding category."
   ]
  },
  {
   "cell_type": "code",
   "execution_count": 17,
   "metadata": {},
   "outputs": [],
   "source": [
    "num_words = 2000\n",
    "(reuters_train_x, reuters_train_y), (reuters_test_x, reuters_test_y) = tf.keras.datasets.reuters.load_data(num_words=num_words)"
   ]
  },
  {
   "cell_type": "markdown",
   "metadata": {},
   "source": [
    "The following code computes the total number of different categories and shows the data in the first example."
   ]
  },
  {
   "cell_type": "code",
   "execution_count": 18,
   "metadata": {},
   "outputs": [
    {
     "name": "stdout",
     "output_type": "stream",
     "text": [
      "Number of different labels: 46\n"
     ]
    }
   ],
   "source": [
    "n_labels = np.unique(reuters_train_y).shape[0]\n",
    "print(\"Number of different labels: {}\".format(n_labels))"
   ]
  },
  {
   "cell_type": "code",
   "execution_count": 19,
   "metadata": {},
   "outputs": [
    {
     "name": "stdout",
     "output_type": "stream",
     "text": [
      "[1, 2, 2, 8, 43, 10, 447, 5, 25, 207, 270, 5, 2, 111, 16, 369, 186, 90, 67, 7, 89, 5, 19, 102, 6, 19, 124, 15, 90, 67, 84, 22, 482, 26, 7, 48, 4, 49, 8, 864, 39, 209, 154, 6, 151, 6, 83, 11, 15, 22, 155, 11, 15, 7, 48, 9, 2, 1005, 504, 6, 258, 6, 272, 11, 15, 22, 134, 44, 11, 15, 16, 8, 197, 1245, 90, 67, 52, 29, 209, 30, 32, 132, 6, 109, 15, 17, 12]\n"
     ]
    }
   ],
   "source": [
    "print(reuters_train_x[0])"
   ]
  },
  {
   "cell_type": "markdown",
   "metadata": {},
   "source": [
    "To train a recurrent neural network first we must preprocess the sequences to have all of them with the same length. The following code makes all sequences of length 30, either removing words in the sequence or adding padding tokens."
   ]
  },
  {
   "cell_type": "code",
   "execution_count": 20,
   "metadata": {},
   "outputs": [],
   "source": [
    "reuters_train_x = tf.keras.preprocessing.sequence.pad_sequences(reuters_train_x, maxlen=30)\n",
    "reuters_test_x = tf.keras.preprocessing.sequence.pad_sequences(reuters_test_x, maxlen=30)"
   ]
  },
  {
   "cell_type": "markdown",
   "metadata": {},
   "source": [
    "Now we can define the recurrent neural network architecture and train the model. Note that we add an embedding layer before the LSTM. This is to learn a compact representation of each word."
   ]
  },
  {
   "cell_type": "code",
   "execution_count": 21,
   "metadata": {},
   "outputs": [],
   "source": [
    "n_embedding = 10\n",
    "n_units = 10\n",
    "input_length = 30\n",
    "\n",
    "model = tf.keras.Sequential()\n",
    "model.add(tf.keras.layers.Embedding(num_words, n_embedding, input_length=input_length))\n",
    "model.add(tf.keras.layers.LSTM(units=n_units))\n",
    "model.add(tf.keras.layers.Dense(units = n_labels, activation=\"softmax\"))\n",
    "model.compile(optimizer = \"adam\", loss = \"sparse_categorical_crossentropy\", metrics=[\"accuracy\"])"
   ]
  },
  {
   "cell_type": "code",
   "execution_count": 22,
   "metadata": {},
   "outputs": [
    {
     "name": "stdout",
     "output_type": "stream",
     "text": [
      "Epoch 1/20\n",
      "281/281 [==============================] - 2s 3ms/step - loss: 2.7697 - accuracy: 0.3496 - val_loss: 2.4202 - val_accuracy: 0.3620\n",
      "Epoch 2/20\n",
      "281/281 [==============================] - 1s 3ms/step - loss: 2.4077 - accuracy: 0.3517 - val_loss: 2.4161 - val_accuracy: 0.3620\n",
      "Epoch 3/20\n",
      "281/281 [==============================] - 1s 3ms/step - loss: 2.3257 - accuracy: 0.3517 - val_loss: 2.1322 - val_accuracy: 0.3633\n",
      "Epoch 4/20\n",
      "281/281 [==============================] - 1s 3ms/step - loss: 2.0470 - accuracy: 0.3773 - val_loss: 2.0002 - val_accuracy: 0.4150\n",
      "Epoch 5/20\n",
      "281/281 [==============================] - 1s 3ms/step - loss: 1.9267 - accuracy: 0.4252 - val_loss: 1.9345 - val_accuracy: 0.4475\n",
      "Epoch 6/20\n",
      "281/281 [==============================] - 1s 3ms/step - loss: 1.8142 - accuracy: 0.4912 - val_loss: 1.8548 - val_accuracy: 0.4978\n",
      "Epoch 7/20\n",
      "281/281 [==============================] - 1s 3ms/step - loss: 1.7215 - accuracy: 0.5328 - val_loss: 1.8453 - val_accuracy: 0.5071\n",
      "Epoch 8/20\n",
      "281/281 [==============================] - 1s 3ms/step - loss: 1.6574 - accuracy: 0.5458 - val_loss: 1.8479 - val_accuracy: 0.5240\n",
      "Epoch 9/20\n",
      "281/281 [==============================] - 1s 3ms/step - loss: 1.5967 - accuracy: 0.5642 - val_loss: 1.8269 - val_accuracy: 0.5232\n",
      "Epoch 10/20\n",
      "281/281 [==============================] - 1s 3ms/step - loss: 1.5474 - accuracy: 0.5776 - val_loss: 1.8410 - val_accuracy: 0.5236\n",
      "Epoch 11/20\n",
      "281/281 [==============================] - 1s 3ms/step - loss: 1.5007 - accuracy: 0.5960 - val_loss: 1.8534 - val_accuracy: 0.5361\n",
      "Epoch 12/20\n",
      "281/281 [==============================] - 1s 3ms/step - loss: 1.4523 - accuracy: 0.6091 - val_loss: 1.8624 - val_accuracy: 0.5356\n",
      "Epoch 13/20\n",
      "281/281 [==============================] - 1s 3ms/step - loss: 1.4123 - accuracy: 0.6232 - val_loss: 1.8853 - val_accuracy: 0.5356\n",
      "Epoch 14/20\n",
      "281/281 [==============================] - 1s 3ms/step - loss: 1.3747 - accuracy: 0.6358 - val_loss: 1.8760 - val_accuracy: 0.5356\n",
      "Epoch 15/20\n",
      "281/281 [==============================] - 1s 3ms/step - loss: 1.3380 - accuracy: 0.6507 - val_loss: 1.8873 - val_accuracy: 0.5450\n",
      "Epoch 16/20\n",
      "281/281 [==============================] - 1s 3ms/step - loss: 1.3076 - accuracy: 0.6581 - val_loss: 1.8961 - val_accuracy: 0.5410\n",
      "Epoch 17/20\n",
      "281/281 [==============================] - 1s 3ms/step - loss: 1.2820 - accuracy: 0.6664 - val_loss: 1.9221 - val_accuracy: 0.5423\n",
      "Epoch 18/20\n",
      "281/281 [==============================] - 1s 3ms/step - loss: 1.2512 - accuracy: 0.6789 - val_loss: 1.9377 - val_accuracy: 0.5392\n",
      "Epoch 19/20\n",
      "281/281 [==============================] - 1s 3ms/step - loss: 1.2263 - accuracy: 0.6845 - val_loss: 1.9294 - val_accuracy: 0.5405\n",
      "Epoch 20/20\n",
      "281/281 [==============================] - 1s 3ms/step - loss: 1.2014 - accuracy: 0.6967 - val_loss: 1.9689 - val_accuracy: 0.5338\n"
     ]
    }
   ],
   "source": [
    "history = model.fit(reuters_train_x, reuters_train_y, epochs = 20, validation_data=(reuters_test_x, reuters_test_y))"
   ]
  },
  {
   "cell_type": "code",
   "execution_count": 23,
   "metadata": {},
   "outputs": [
    {
     "data": {
      "image/png": "[encoded data removed]",
      "text/plain": [
       "<Figure size 432x288 with 1 Axes>"
      ]
     },
     "metadata": {
      "needs_background": "light"
     },
     "output_type": "display_data"
    },
    {
     "data": {
      "image/png": "[encoded data removed]",
      "text/plain": [
       "<Figure size 432x288 with 1 Axes>"
      ]
     },
     "metadata": {
      "needs_background": "light"
     },
     "output_type": "display_data"
    }
   ],
   "source": [
    "accuracy_plot(history)\n",
    "loss_plot(history)"
   ]
  }
 ],
 "metadata": {
  "kernelspec": {
   "display_name": "Python 3 (ipykernel)",
   "language": "python",
   "name": "python3"
  },
  "language_info": {
   "codemirror_mode": {
    "name": "ipython",
    "version": 3
   },
   "file_extension": ".py",
   "mimetype": "text/x-python",
   "name": "python",
   "nbconvert_exporter": "python",
   "pygments_lexer": "ipython3",
   "version": "3.9.7"
  }
 },
 "nbformat": 4,
 "nbformat_minor": 2
}
