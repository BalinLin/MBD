{
  "cells": [
    {
      "cell_type": "markdown",
      "metadata": {
        "id": "yO7FmqmMJzo6"
      },
      "source": [
        "# Import Libraries"
      ]
    },
    {
      "cell_type": "code",
      "execution_count": null,
      "metadata": {
        "id": "AXV46h_IKAUZ"
      },
      "outputs": [],
      "source": [
        "import pandas as pd\n",
        "import numpy as np\n",
        "\n",
        "import tensorflow as tf\n",
        "import glob\n",
        "from sklearn import preprocessing\n",
        "\n",
        "import matplotlib.pyplot as plt\n",
        "\n",
        "import tensorflow as tf\n",
        "from tensorflow.keras.models import Sequential\n",
        "from tensorflow.keras.layers import Dense\n",
        "from tensorflow.keras import Input\n",
        "\n",
        "from tensorflow.keras import layers\n",
        "from tensorflow.random import normal\n",
        "\n"
      ]
    },
    {
      "cell_type": "markdown",
      "metadata": {
        "id": "-Y4G9Q1TvvC2"
      },
      "source": [
        "# 1. Read data"
      ]
    },
    {
      "cell_type": "code",
      "execution_count": null,
      "metadata": {
        "colab": {
          "base_uri": "https://localhost:8080/"
        },
        "id": "K3WVIQYcsSU7",
        "outputId": "e581c959-b48f-4e11-adcc-4defeb110c45"
      },
      "outputs": [
        {
          "output_type": "stream",
          "name": "stdout",
          "text": [
            "Mounted at /content/drive\n"
          ]
        }
      ],
      "source": [
        "from google.colab import drive\n",
        "drive.mount('/content/drive')"
      ]
    },
    {
      "cell_type": "markdown",
      "metadata": {
        "id": "oh8cHJZ8Kv5z"
      },
      "source": [
        "## 1.1 Load Label .csv file into dataframe"
      ]
    },
    {
      "cell_type": "code",
      "execution_count": null,
      "metadata": {
        "colab": {
          "base_uri": "https://localhost:8080/",
          "height": 363
        },
        "id": "8aaoe4FTthA8",
        "outputId": "83a273f9-8c9d-402e-96dd-1cf2968c74a5"
      },
      "outputs": [
        {
          "output_type": "execute_result",
          "data": {
            "text/plain": [
              "   id values\n",
              "0   0    oō\n",
              "1   1     oö\n",
              "2   2     eê\n",
              "3   3     oó\n",
              "4   4     ii\n",
              "5   5     eë\n",
              "6   6    uū\n",
              "7   7     ii\n",
              "8   8     eè\n",
              "9   9     oò"
            ],
            "text/html": [
              "\n",
              "  <div id=\"df-02302c68-762c-40d2-96cb-d747f855607c\">\n",
              "    <div class=\"colab-df-container\">\n",
              "      <div>\n",
              "<style scoped>\n",
              "    .dataframe tbody tr th:only-of-type {\n",
              "        vertical-align: middle;\n",
              "    }\n",
              "\n",
              "    .dataframe tbody tr th {\n",
              "        vertical-align: top;\n",
              "    }\n",
              "\n",
              "    .dataframe thead th {\n",
              "        text-align: right;\n",
              "    }\n",
              "</style>\n",
              "<table border=\"1\" class=\"dataframe\">\n",
              "  <thead>\n",
              "    <tr style=\"text-align: right;\">\n",
              "      <th></th>\n",
              "      <th>id</th>\n",
              "      <th>values</th>\n",
              "    </tr>\n",
              "  </thead>\n",
              "  <tbody>\n",
              "    <tr>\n",
              "      <th>0</th>\n",
              "      <td>0</td>\n",
              "      <td>oō</td>\n",
              "    </tr>\n",
              "    <tr>\n",
              "      <th>1</th>\n",
              "      <td>1</td>\n",
              "      <td>oö</td>\n",
              "    </tr>\n",
              "    <tr>\n",
              "      <th>2</th>\n",
              "      <td>2</td>\n",
              "      <td>eê</td>\n",
              "    </tr>\n",
              "    <tr>\n",
              "      <th>3</th>\n",
              "      <td>3</td>\n",
              "      <td>oó</td>\n",
              "    </tr>\n",
              "    <tr>\n",
              "      <th>4</th>\n",
              "      <td>4</td>\n",
              "      <td>ii</td>\n",
              "    </tr>\n",
              "    <tr>\n",
              "      <th>5</th>\n",
              "      <td>5</td>\n",
              "      <td>eë</td>\n",
              "    </tr>\n",
              "    <tr>\n",
              "      <th>6</th>\n",
              "      <td>6</td>\n",
              "      <td>uū</td>\n",
              "    </tr>\n",
              "    <tr>\n",
              "      <th>7</th>\n",
              "      <td>7</td>\n",
              "      <td>ii</td>\n",
              "    </tr>\n",
              "    <tr>\n",
              "      <th>8</th>\n",
              "      <td>8</td>\n",
              "      <td>eè</td>\n",
              "    </tr>\n",
              "    <tr>\n",
              "      <th>9</th>\n",
              "      <td>9</td>\n",
              "      <td>oò</td>\n",
              "    </tr>\n",
              "  </tbody>\n",
              "</table>\n",
              "</div>\n",
              "      <button class=\"colab-df-convert\" onclick=\"convertToInteractive('df-02302c68-762c-40d2-96cb-d747f855607c')\"\n",
              "              title=\"Convert this dataframe to an interactive table.\"\n",
              "              style=\"display:none;\">\n",
              "        \n",
              "  <svg xmlns=\"http://www.w3.org/2000/svg\" height=\"24px\"viewBox=\"0 0 24 24\"\n",
              "       width=\"24px\">\n",
              "    <path d=\"M0 0h24v24H0V0z\" fill=\"none\"/>\n",
              "    <path d=\"M18.56 5.44l.94 2.06.94-2.06 2.06-.94-2.06-.94-.94-2.06-.94 2.06-2.06.94zm-11 1L8.5 8.5l.94-2.06 2.06-.94-2.06-.94L8.5 2.5l-.94 2.06-2.06.94zm10 10l.94 2.06.94-2.06 2.06-.94-2.06-.94-.94-2.06-.94 2.06-2.06.94z\"/><path d=\"M17.41 7.96l-1.37-1.37c-.4-.4-.92-.59-1.43-.59-.52 0-1.04.2-1.43.59L10.3 9.45l-7.72 7.72c-.78.78-.78 2.05 0 2.83L4 21.41c.39.39.9.59 1.41.59.51 0 1.02-.2 1.41-.59l7.78-7.78 2.81-2.81c.8-.78.8-2.07 0-2.86zM5.41 20L4 18.59l7.72-7.72 1.47 1.35L5.41 20z\"/>\n",
              "  </svg>\n",
              "      </button>\n",
              "      \n",
              "  <style>\n",
              "    .colab-df-container {\n",
              "      display:flex;\n",
              "      flex-wrap:wrap;\n",
              "      gap: 12px;\n",
              "    }\n",
              "\n",
              "    .colab-df-convert {\n",
              "      background-color: #E8F0FE;\n",
              "      border: none;\n",
              "      border-radius: 50%;\n",
              "      cursor: pointer;\n",
              "      display: none;\n",
              "      fill: #1967D2;\n",
              "      height: 32px;\n",
              "      padding: 0 0 0 0;\n",
              "      width: 32px;\n",
              "    }\n",
              "\n",
              "    .colab-df-convert:hover {\n",
              "      background-color: #E2EBFA;\n",
              "      box-shadow: 0px 1px 2px rgba(60, 64, 67, 0.3), 0px 1px 3px 1px rgba(60, 64, 67, 0.15);\n",
              "      fill: #174EA6;\n",
              "    }\n",
              "\n",
              "    [theme=dark] .colab-df-convert {\n",
              "      background-color: #3B4455;\n",
              "      fill: #D2E3FC;\n",
              "    }\n",
              "\n",
              "    [theme=dark] .colab-df-convert:hover {\n",
              "      background-color: #434B5C;\n",
              "      box-shadow: 0px 1px 3px 1px rgba(0, 0, 0, 0.15);\n",
              "      filter: drop-shadow(0px 1px 2px rgba(0, 0, 0, 0.3));\n",
              "      fill: #FFFFFF;\n",
              "    }\n",
              "  </style>\n",
              "\n",
              "      <script>\n",
              "        const buttonEl =\n",
              "          document.querySelector('#df-02302c68-762c-40d2-96cb-d747f855607c button.colab-df-convert');\n",
              "        buttonEl.style.display =\n",
              "          google.colab.kernel.accessAllowed ? 'block' : 'none';\n",
              "\n",
              "        async function convertToInteractive(key) {\n",
              "          const element = document.querySelector('#df-02302c68-762c-40d2-96cb-d747f855607c');\n",
              "          const dataTable =\n",
              "            await google.colab.kernel.invokeFunction('convertToInteractive',\n",
              "                                                     [key], {});\n",
              "          if (!dataTable) return;\n",
              "\n",
              "          const docLinkHtml = 'Like what you see? Visit the ' +\n",
              "            '<a target=\"_blank\" href=https://colab.research.google.com/notebooks/data_table.ipynb>data table notebook</a>'\n",
              "            + ' to learn more about interactive tables.';\n",
              "          element.innerHTML = '';\n",
              "          dataTable['output_type'] = 'display_data';\n",
              "          await google.colab.output.renderOutput(dataTable, element);\n",
              "          const docLink = document.createElement('div');\n",
              "          docLink.innerHTML = docLinkHtml;\n",
              "          element.appendChild(docLink);\n",
              "        }\n",
              "      </script>\n",
              "    </div>\n",
              "  </div>\n",
              "  "
            ]
          },
          "metadata": {},
          "execution_count": 3
        }
      ],
      "source": [
        "# df = pd.read_csv('/content/drive/MyDrive/Studies/mabd/trainset/data.csv')\n",
        "# Have a first look at csv file \n",
        "df = pd.read_csv('/content/drive/MyDrive/data.csv')\n",
        "\n",
        "# df = pd.read_csv('/content/drive/MyDrive/Colab Notebooks/data.csv')\n",
        "df.head(10)"
      ]
    },
    {
      "cell_type": "code",
      "execution_count": null,
      "metadata": {
        "colab": {
          "base_uri": "https://localhost:8080/",
          "height": 143
        },
        "id": "Pcb9G1FBtMt8",
        "outputId": "1874e1c5-c470-4138-99a5-6f770cac9a14"
      },
      "outputs": [
        {
          "output_type": "execute_result",
          "data": {
            "text/plain": [
              "   id values\n",
              "0   0     oo\n",
              "1   1     oö\n",
              "2   2     eê"
            ],
            "text/html": [
              "\n",
              "  <div id=\"df-6e3d2da4-03aa-4321-a234-13f138150dfd\">\n",
              "    <div class=\"colab-df-container\">\n",
              "      <div>\n",
              "<style scoped>\n",
              "    .dataframe tbody tr th:only-of-type {\n",
              "        vertical-align: middle;\n",
              "    }\n",
              "\n",
              "    .dataframe tbody tr th {\n",
              "        vertical-align: top;\n",
              "    }\n",
              "\n",
              "    .dataframe thead th {\n",
              "        text-align: right;\n",
              "    }\n",
              "</style>\n",
              "<table border=\"1\" class=\"dataframe\">\n",
              "  <thead>\n",
              "    <tr style=\"text-align: right;\">\n",
              "      <th></th>\n",
              "      <th>id</th>\n",
              "      <th>values</th>\n",
              "    </tr>\n",
              "  </thead>\n",
              "  <tbody>\n",
              "    <tr>\n",
              "      <th>0</th>\n",
              "      <td>0</td>\n",
              "      <td>oo</td>\n",
              "    </tr>\n",
              "    <tr>\n",
              "      <th>1</th>\n",
              "      <td>1</td>\n",
              "      <td>oö</td>\n",
              "    </tr>\n",
              "    <tr>\n",
              "      <th>2</th>\n",
              "      <td>2</td>\n",
              "      <td>eê</td>\n",
              "    </tr>\n",
              "  </tbody>\n",
              "</table>\n",
              "</div>\n",
              "      <button class=\"colab-df-convert\" onclick=\"convertToInteractive('df-6e3d2da4-03aa-4321-a234-13f138150dfd')\"\n",
              "              title=\"Convert this dataframe to an interactive table.\"\n",
              "              style=\"display:none;\">\n",
              "        \n",
              "  <svg xmlns=\"http://www.w3.org/2000/svg\" height=\"24px\"viewBox=\"0 0 24 24\"\n",
              "       width=\"24px\">\n",
              "    <path d=\"M0 0h24v24H0V0z\" fill=\"none\"/>\n",
              "    <path d=\"M18.56 5.44l.94 2.06.94-2.06 2.06-.94-2.06-.94-.94-2.06-.94 2.06-2.06.94zm-11 1L8.5 8.5l.94-2.06 2.06-.94-2.06-.94L8.5 2.5l-.94 2.06-2.06.94zm10 10l.94 2.06.94-2.06 2.06-.94-2.06-.94-.94-2.06-.94 2.06-2.06.94z\"/><path d=\"M17.41 7.96l-1.37-1.37c-.4-.4-.92-.59-1.43-.59-.52 0-1.04.2-1.43.59L10.3 9.45l-7.72 7.72c-.78.78-.78 2.05 0 2.83L4 21.41c.39.39.9.59 1.41.59.51 0 1.02-.2 1.41-.59l7.78-7.78 2.81-2.81c.8-.78.8-2.07 0-2.86zM5.41 20L4 18.59l7.72-7.72 1.47 1.35L5.41 20z\"/>\n",
              "  </svg>\n",
              "      </button>\n",
              "      \n",
              "  <style>\n",
              "    .colab-df-container {\n",
              "      display:flex;\n",
              "      flex-wrap:wrap;\n",
              "      gap: 12px;\n",
              "    }\n",
              "\n",
              "    .colab-df-convert {\n",
              "      background-color: #E8F0FE;\n",
              "      border: none;\n",
              "      border-radius: 50%;\n",
              "      cursor: pointer;\n",
              "      display: none;\n",
              "      fill: #1967D2;\n",
              "      height: 32px;\n",
              "      padding: 0 0 0 0;\n",
              "      width: 32px;\n",
              "    }\n",
              "\n",
              "    .colab-df-convert:hover {\n",
              "      background-color: #E2EBFA;\n",
              "      box-shadow: 0px 1px 2px rgba(60, 64, 67, 0.3), 0px 1px 3px 1px rgba(60, 64, 67, 0.15);\n",
              "      fill: #174EA6;\n",
              "    }\n",
              "\n",
              "    [theme=dark] .colab-df-convert {\n",
              "      background-color: #3B4455;\n",
              "      fill: #D2E3FC;\n",
              "    }\n",
              "\n",
              "    [theme=dark] .colab-df-convert:hover {\n",
              "      background-color: #434B5C;\n",
              "      box-shadow: 0px 1px 3px 1px rgba(0, 0, 0, 0.15);\n",
              "      filter: drop-shadow(0px 1px 2px rgba(0, 0, 0, 0.3));\n",
              "      fill: #FFFFFF;\n",
              "    }\n",
              "  </style>\n",
              "\n",
              "      <script>\n",
              "        const buttonEl =\n",
              "          document.querySelector('#df-6e3d2da4-03aa-4321-a234-13f138150dfd button.colab-df-convert');\n",
              "        buttonEl.style.display =\n",
              "          google.colab.kernel.accessAllowed ? 'block' : 'none';\n",
              "\n",
              "        async function convertToInteractive(key) {\n",
              "          const element = document.querySelector('#df-6e3d2da4-03aa-4321-a234-13f138150dfd');\n",
              "          const dataTable =\n",
              "            await google.colab.kernel.invokeFunction('convertToInteractive',\n",
              "                                                     [key], {});\n",
              "          if (!dataTable) return;\n",
              "\n",
              "          const docLinkHtml = 'Like what you see? Visit the ' +\n",
              "            '<a target=\"_blank\" href=https://colab.research.google.com/notebooks/data_table.ipynb>data table notebook</a>'\n",
              "            + ' to learn more about interactive tables.';\n",
              "          element.innerHTML = '';\n",
              "          dataTable['output_type'] = 'display_data';\n",
              "          await google.colab.output.renderOutput(dataTable, element);\n",
              "          const docLink = document.createElement('div');\n",
              "          docLink.innerHTML = docLinkHtml;\n",
              "          element.appendChild(docLink);\n",
              "        }\n",
              "      </script>\n",
              "    </div>\n",
              "  </div>\n",
              "  "
            ]
          },
          "metadata": {},
          "execution_count": 4
        }
      ],
      "source": [
        "# Correct the label of the first image, as it is wronlgy labeled.\n",
        "df.loc[0, \"values\"] = \"oo\"\n",
        "df.head(3)"
      ]
    },
    {
      "cell_type": "markdown",
      "source": [
        " ## 1.2. Data Pre Analysis\n"
      ],
      "metadata": {
        "id": "H0SfE1OMqOFk"
      }
    },
    {
      "cell_type": "code",
      "source": [
        "# Histogram of classes \n",
        "# (make sample weighting???) \n",
        "df.groupby('values').count().plot(kind = 'bar')"
      ],
      "metadata": {
        "colab": {
          "base_uri": "https://localhost:8080/",
          "height": 299
        },
        "id": "uwWKTzLnrETS",
        "outputId": "8df4b8c2-6f6b-4fa1-a065-5953287f0609"
      },
      "execution_count": null,
      "outputs": [
        {
          "output_type": "execute_result",
          "data": {
            "text/plain": [
              "<matplotlib.axes._subplots.AxesSubplot at 0x7f89ee08ff10>"
            ]
          },
          "metadata": {},
          "execution_count": 5
        },
        {
          "output_type": "display_data",
          "data": {
            "text/plain": [
              "<Figure size 432x288 with 1 Axes>"
            ],
            "image/png": "[encoded data removed]"
          },
          "metadata": {
            "needs_background": "light"
          }
        }
      ]
    },
    {
      "cell_type": "code",
      "source": [
        "# check for font and for color distribution of letters \n",
        "counts = df.groupby('values').count().to_dict()\n",
        "counts = counts['id']\n",
        "df['sample_weight']= df['values'].map(counts)\n",
        "df['sample_weight'] = (100 - df['sample_weight'])/100\n",
        "sample_weight = df['sample_weight'].values"
      ],
      "metadata": {
        "id": "Sb-Vx6MSrYHm"
      },
      "execution_count": null,
      "outputs": []
    },
    {
      "cell_type": "code",
      "source": [
        "sample_weight"
      ],
      "metadata": {
        "colab": {
          "base_uri": "https://localhost:8080/"
        },
        "id": "0Y-NdACL6p7a",
        "outputId": "735c3285-31bd-46e3-fbeb-e2552a909b7f"
      },
      "execution_count": null,
      "outputs": [
        {
          "output_type": "execute_result",
          "data": {
            "text/plain": [
              "array([0.33, 0.28, 0.38, ..., 0.32, 0.28, 0.35])"
            ]
          },
          "metadata": {},
          "execution_count": 8
        }
      ]
    },
    {
      "cell_type": "markdown",
      "source": [
        "# 2. Label Preprocessing"
      ],
      "metadata": {
        "id": "GhWuVGevqkfO"
      }
    },
    {
      "cell_type": "markdown",
      "metadata": {
        "id": "H7QDylsBK4l1"
      },
      "source": [
        "## 2.1 One hot encode the labels "
      ]
    },
    {
      "cell_type": "code",
      "execution_count": null,
      "metadata": {
        "id": "0sEXbLaESZbO"
      },
      "outputs": [],
      "source": [
        "le = preprocessing.LabelEncoder()\n",
        "df[\"label\"] = le.fit_transform(df['values'])\n",
        "labels = df[\"label\"].to_list()\n",
        "n_classes = len(df[\"values\"].unique())\n",
        "\n",
        "indices = labels\n",
        "depth = n_classes\n",
        "labels = tf.one_hot(indices, depth, on_value=1.0, off_value=0.0)"
      ]
    },
    {
      "cell_type": "markdown",
      "metadata": {
        "id": "KwteNoFKLKpl"
      },
      "source": [
        "## 2.2 Create tensorflow dataset from images and ohe labels"
      ]
    },
    {
      "cell_type": "code",
      "execution_count": null,
      "metadata": {
        "id": "JlVhDiCdLVHM"
      },
      "outputs": [],
      "source": [
        "# im_dir = '/content/drive/MyDrive/Studies/mabd/trainset/images_train/'\n",
        "# im_dir = '/content/drive/MyDrive/Colab Notebooks/images_train/'\n",
        "im_dir = '/content/drive/MyDrive/images_train/'\n",
        "\n",
        "\n",
        "ext = ['png'] # Multiple images' formats accepted\n",
        "\n",
        "files = []\n",
        "[files.extend(glob.glob(im_dir + '*.' + e)) for e in ext]\n",
        "files.sort()\n",
        "\n",
        "filenames = tf.constant(files)\n",
        "len_data = len(df['id'])\n",
        "# print(len_data)\n",
        "\n",
        "dataset = tf.data.Dataset.from_tensor_slices((filenames, labels))#, sample_weight))"
      ]
    },
    {
      "cell_type": "markdown",
      "metadata": {
        "id": "A25pqDwCLrim"
      },
      "source": [
        "# 3. Preprocess images \n",
        "## 3.1 Crop and cast to float "
      ]
    },
    {
      "cell_type": "code",
      "execution_count": null,
      "metadata": {
        "id": "QCNq1I0-Ilsh"
      },
      "outputs": [],
      "source": [
        "def _parse_function(filename, label):\n",
        "    image_string = tf.io.read_file(filename)\n",
        "    image_decoded = tf.image.decode_png(image_string, channels=3)\n",
        "    image_cropped = tf.image.crop_to_bounding_box(\n",
        "        image_decoded, 35, 56, 80, 72\n",
        "    )\n",
        "    # image, offset_height, offset_width, target_height, target_width\n",
        "    image = tf.cast(image_cropped, tf.float32) / 255\n",
        "    \n",
        "    return image, label #, sample_weight\n",
        "\n",
        "dataset = dataset.map(_parse_function)\n",
        "dataset = dataset.batch(len_data)\n",
        "\n",
        "iterator = iter(dataset)\n",
        "images, labels = iterator.get_next()"
      ]
    },
    {
      "cell_type": "code",
      "execution_count": null,
      "metadata": {
        "colab": {
          "base_uri": "https://localhost:8080/",
          "height": 378
        },
        "id": "t2E4lHLROQMp",
        "outputId": "f10046ce-84b0-4a4e-b511-d34b7f233016"
      },
      "outputs": [
        {
          "output_type": "display_data",
          "data": {
            "text/plain": [
              "<Figure size 1080x432 with 15 Axes>"
            ],
            "image/png": "[encoded data removed]"
          },
          "metadata": {
            "needs_background": "light"
          }
        }
      ],
      "source": [
        "# print some examples of first preprocessing result\n",
        "def print_examples(x, df):\n",
        "    fig, axs = plt.subplots(3, 5, figsize=(15, 6))\n",
        "    fig.subplots_adjust(hspace = .5, wspace=.001)\n",
        "\n",
        "    axs = axs.ravel()\n",
        "\n",
        "    for i in range(15):\n",
        "        axs[i].imshow(x[i])\n",
        "        # axs[i].set_title(f\"{i}: {df.loc[i, 'values']}\")\n",
        "    \n",
        "print_examples(images, df)"
      ]
    },
    {
      "cell_type": "markdown",
      "metadata": {
        "id": "GdrkLe3kxUa2"
      },
      "source": [
        "## 3.2 Convert to grayscale"
      ]
    },
    {
      "cell_type": "code",
      "execution_count": null,
      "metadata": {
        "colab": {
          "base_uri": "https://localhost:8080/",
          "height": 284
        },
        "id": "AbJRWr8KOBPG",
        "outputId": "23065563-b714-4f01-f5ea-2cc0438f0bdf"
      },
      "outputs": [
        {
          "output_type": "stream",
          "name": "stdout",
          "text": [
            "tf.Tensor([56 56  1], shape=(3,), dtype=int32)\n"
          ]
        },
        {
          "output_type": "display_data",
          "data": {
            "text/plain": [
              "<Figure size 432x288 with 1 Axes>"
            ],
            "image/png": "[encoded data removed]"
          },
          "metadata": {
            "needs_background": "light"
          }
        }
      ],
      "source": [
        "gray_images = tf.image.rgb_to_grayscale(images)\n",
        "# gray_images = gray_images *(-1) # trial to see if images work inverted better \n",
        "gray_images = tf.image.resize(gray_images, [56,56])\n",
        "plt.imshow(gray_images[0].numpy().squeeze(axis=2), cmap='gray')\n",
        "\n",
        "# plt.imshow(gray_images[0].numpy().squeeze(axis=2), cmap='gray')\n",
        "\n",
        "shape = tf.shape(gray_images[0])\n",
        "print(tf.shape(gray_images[0]))"
      ]
    },
    {
      "cell_type": "code",
      "execution_count": null,
      "metadata": {
        "colab": {
          "base_uri": "https://localhost:8080/",
          "height": 284
        },
        "id": "kfPFWypUtHzY",
        "outputId": "2db3d48a-9bea-4b96-c3a2-c5b4b713e031"
      },
      "outputs": [
        {
          "output_type": "execute_result",
          "data": {
            "text/plain": [
              "<matplotlib.image.AxesImage at 0x7f89e6bb81d0>"
            ]
          },
          "metadata": {},
          "execution_count": 12
        },
        {
          "output_type": "display_data",
          "data": {
            "text/plain": [
              "<Figure size 432x288 with 1 Axes>"
            ],
            "image/png": "[encoded data removed]"
          },
          "metadata": {
            "needs_background": "light"
          }
        }
      ],
      "source": [
        "# Adding Gaussian noise to one image \n",
        "noise = tf.random.normal(shape=shape, mean=0.0, stddev=.02, dtype=tf.float32)\n",
        "noise_img = tf.add(gray_images[0], noise)#*(-1)\n",
        "\n",
        "plt.imshow(noise_img.numpy().squeeze(axis=2), cmap='gray')"
      ]
    },
    {
      "cell_type": "markdown",
      "metadata": {
        "id": "SmcHqKDcMllw"
      },
      "source": [
        "## 3.3 Data augmentation"
      ]
    },
    {
      "cell_type": "code",
      "execution_count": null,
      "metadata": {
        "colab": {
          "base_uri": "https://localhost:8080/"
        },
        "id": "hkMot1mlOBKz",
        "outputId": "57b3515b-30d2-480c-c11c-24d520b9e489"
      },
      "outputs": [
        {
          "output_type": "stream",
          "name": "stdout",
          "text": [
            "4000\n",
            "8000\n"
          ]
        }
      ],
      "source": [
        "data_augmentation = tf.keras.Sequential([\n",
        "    layers.RandomRotation(0.00),\n",
        "    # layers.RandomFlip(mode=\"horizontal_and_vertical\"),\n",
        "    # layers.RandomFlip(mode=\"horizontal\"), \n",
        "    # layers.RandomZoom(\n",
        "        # height_factor=(-0.3, 0),\n",
        "        # width_factor=(-0.3, 0),\n",
        "        # seed=42,\n",
        "    # ), \n",
        "    # layers.GaussianNoise(stddev=0.01, seed=None)\n",
        "])\n",
        "\n",
        "# aug_images = tf.concat([gray_images, data_augmentation(gray_images, training=True)], 0)\n",
        "aug_images = tf.concat([gray_images, gray_images], 0)\n",
        "labels_long = tf.concat([labels, labels], 0)\n",
        "sample_weight_long = tf.concat([sample_weight, sample_weight], 0)\n",
        "data_len = len(labels_long)\n",
        "print(data_len)\n",
        "\n",
        "# aug_ds = tf.data.Dataset.from_tensor_slices((aug_images, labels_long))\n",
        "\n",
        "# aug_images_1 = tf.concat([aug_images, data_augmentation(aug_images, training = True)], 0)\n",
        "aug_images_1 = tf.concat([aug_images, aug_images], 0)\n",
        "\n",
        "labels_long_long = tf.concat([labels_long, labels_long], 0)\n",
        "sample_weight_long_long = tf.concat([sample_weight_long, sample_weight_long], 0)\n",
        "\n",
        "data_len = len(labels_long_long)\n",
        "print(data_len)\n",
        "\n",
        "aug_ds = tf.data.Dataset.from_tensor_slices((aug_images_1, labels_long_long))#, sample_weight_long_long))\n",
        "aug_ds = aug_ds#.shuffle(data_len, reshuffle_each_iteration=True)\n"
      ]
    },
    {
      "cell_type": "code",
      "execution_count": null,
      "metadata": {
        "colab": {
          "base_uri": "https://localhost:8080/",
          "height": 284
        },
        "id": "X_iwLgOLr_a8",
        "outputId": "b9a15c2e-8aff-4344-f0db-7af9169527dd"
      },
      "outputs": [
        {
          "output_type": "execute_result",
          "data": {
            "text/plain": [
              "<matplotlib.image.AxesImage at 0x7f9d51933310>"
            ]
          },
          "metadata": {},
          "execution_count": 19
        },
        {
          "output_type": "display_data",
          "data": {
            "text/plain": [
              "<Figure size 432x288 with 1 Axes>"
            ],
            "image/png": "[encoded data removed]"
          },
          "metadata": {
            "needs_background": "light"
          }
        }
      ],
      "source": [
        "plt.imshow(aug_images_1[4010].numpy().squeeze(axis=2), cmap='gray')\n"
      ]
    },
    {
      "cell_type": "markdown",
      "metadata": {
        "id": "Bb3lKdFLNfGu"
      },
      "source": [
        "## 3.4. Train- Validation Split"
      ]
    },
    {
      "cell_type": "code",
      "execution_count": null,
      "metadata": {
        "colab": {
          "base_uri": "https://localhost:8080/"
        },
        "id": "Uu1U2RygNlmt",
        "outputId": "b2f5baca-d028-49e1-e769-1b9d5092656a"
      },
      "outputs": [
        {
          "output_type": "stream",
          "name": "stdout",
          "text": [
            "6400\n",
            "1600\n",
            "<TensorSliceDataset element_spec=(TensorSpec(shape=(56, 56, 1), dtype=tf.float32, name=None), TensorSpec(shape=(30,), dtype=tf.float32, name=None))>\n",
            "<ShuffleDataset element_spec=(TensorSpec(shape=(None, 56, 56, 1), dtype=tf.float32, name=None), TensorSpec(shape=(None, 30), dtype=tf.float32, name=None))>\n"
          ]
        }
      ],
      "source": [
        "batch_size = 50\n",
        "\n",
        "train_split = 0.8\n",
        "val_split = 0.2\n",
        "\n",
        "train_size = int(train_split * data_len)\n",
        "val_size = int(val_split * data_len)\n",
        "\n",
        "train_ds = aug_ds.take(train_size).batch(batch_size).shuffle(train_size, reshuffle_each_iteration=True)\n",
        "val_ds = aug_ds.skip(train_size).take(val_size).batch(batch_size)#.shuffle(val_size, reshuffle_each_iteration=True)\n",
        "\n",
        "# train_ds = aug_ds.take(train_size).shuffle(train_size, reshuffle_each_iteration=True)\n",
        "# val_ds = aug_ds.skip(train_size).take(val_size)\n",
        "\n",
        "print(train_size)\n",
        "print(val_size)\n",
        "print(aug_ds)\n",
        "print(train_ds)\n",
        "\n",
        "# print_examples(aug_images.numpy().squeeze(axis=-1), df)"
      ]
    },
    {
      "cell_type": "markdown",
      "metadata": {
        "id": "iRsdLc-82uqG"
      },
      "source": [
        "# 4. Create a model"
      ]
    },
    {
      "cell_type": "code",
      "execution_count": null,
      "metadata": {
        "id": "L_6YYFu6148i"
      },
      "outputs": [],
      "source": [
        "from tensorflow.keras import regularizers\n",
        "\n",
        "def create_model_small():\n",
        "  model = tf.keras.Sequential()\n",
        "  model.add(Input(shape=(56, 56, 1)))\n",
        "  model.add(tf.keras.layers.Conv2D(32, kernel_size=(3, 3), activation=\"relu\", padding='same'))\n",
        "  model.add(tf.keras.layers.Conv2D(32, kernel_size=(3, 3), activation=\"relu\", padding='same'))\n",
        "  model.add(tf.keras.layers.MaxPooling2D(pool_size=(2, 2)))\n",
        "  model.add(tf.keras.layers.Dropout(rate=0.0)) #0.25\n",
        "  \n",
        "  # model.add(tf.keras.layers.Conv2D(32, kernel_size=(3, 3), activation=\"relu\", padding='same'))\n",
        "  # model.add(tf.keras.layers.Conv2D(32, kernel_size=(3, 3), activation=\"relu\", padding='same'))\n",
        "  # model.add(tf.keras.layers.MaxPooling2D(pool_size=(2, 2)))\n",
        "  # model.add(tf.keras.layers.BatchNormalization())\n",
        "  # model.add(tf.keras.layers.Dropout(rate=0.25))\n",
        "  \n",
        "  model.add(tf.keras.layers.Flatten())\n",
        "  model.add(tf.keras.layers.Dense(512, activation=\"relu\", kernel_regularizer=regularizers.l2(l2=0.01)))\n",
        "  model.add(tf.keras.layers.Dropout(rate=0.0)) #0.5\n",
        "  model.add(tf.keras.layers.Dense(128, activation=\"relu\"))\n",
        "  model.add(tf.keras.layers.Dropout(rate=0.0)) #0.5\n",
        "  model.add(tf.keras.layers.Dense(30, activation=\"softmax\"))\n",
        "\n",
        "  return model\n",
        "\n",
        "# inpiration for the big model: 784 - [32C3-32C3-32C5S2] - [64C3-64C3-64C5S2] - 128 - 10\n",
        "# with 40% dropout, batch normalization, and data augmentation added\n",
        "# https://www.kaggle.com/code/cdeotte/how-to-choose-cnn-architecture-mnist/notebook"
      ]
    },
    {
      "cell_type": "code",
      "execution_count": null,
      "metadata": {
        "colab": {
          "base_uri": "https://localhost:8080/"
        },
        "id": "xoyKHDWA2Fc7",
        "outputId": "819819c7-07d9-4263-d81e-161ab42f8aea"
      },
      "outputs": [
        {
          "output_type": "stream",
          "name": "stdout",
          "text": [
            "Model: \"sequential_20\"\n",
            "_________________________________________________________________\n",
            " Layer (type)                Output Shape              Param #   \n",
            "=================================================================\n",
            " conv2d_40 (Conv2D)          (None, 56, 56, 32)        320       \n",
            "                                                                 \n",
            " conv2d_41 (Conv2D)          (None, 56, 56, 32)        9248      \n",
            "                                                                 \n",
            " max_pooling2d_20 (MaxPoolin  (None, 28, 28, 32)       0         \n",
            " g2D)                                                            \n",
            "                                                                 \n",
            " dropout_45 (Dropout)        (None, 28, 28, 32)        0         \n",
            "                                                                 \n",
            " flatten_17 (Flatten)        (None, 25088)             0         \n",
            "                                                                 \n",
            " dense_51 (Dense)            (None, 512)               12845568  \n",
            "                                                                 \n",
            " dropout_46 (Dropout)        (None, 512)               0         \n",
            "                                                                 \n",
            " dense_52 (Dense)            (None, 128)               65664     \n",
            "                                                                 \n",
            " dropout_47 (Dropout)        (None, 128)               0         \n",
            "                                                                 \n",
            " dense_53 (Dense)            (None, 30)                3870      \n",
            "                                                                 \n",
            "=================================================================\n",
            "Total params: 12,924,670\n",
            "Trainable params: 12,924,670\n",
            "Non-trainable params: 0\n",
            "_________________________________________________________________\n"
          ]
        }
      ],
      "source": [
        "model_6 = create_model_small()\n",
        "checkpoint_filepath = '/content/drive/MyDrive/Colab Notebooks/checkpoints_6'\n",
        "model_6.load_weights(checkpoint_filepath)\n",
        "model_6.summary(line_length=None, positions=None, print_fn=None)"
      ]
    },
    {
      "cell_type": "markdown",
      "metadata": {
        "id": "b7iwSS9p20Xf"
      },
      "source": [
        "# 5. Train model"
      ]
    },
    {
      "cell_type": "code",
      "execution_count": null,
      "metadata": {
        "colab": {
          "base_uri": "https://localhost:8080/"
        },
        "id": "ObscDr3I2ckG",
        "outputId": "5f9dcb03-0572-4c2f-93e1-dbad343484bb"
      },
      "outputs": [
        {
          "output_type": "stream",
          "name": "stdout",
          "text": [
            "50\n",
            "Epoch 1/2\n",
            "128/128 [==============================] - 7s 39ms/step - loss: 0.3106 - accuracy: 0.9994 - val_loss: 0.2513 - val_accuracy: 1.0000\n",
            "Epoch 2/2\n",
            "128/128 [==============================] - 4s 30ms/step - loss: 0.2120 - accuracy: 0.9998 - val_loss: 0.1771 - val_accuracy: 0.9994\n"
          ]
        }
      ],
      "source": [
        "# before creating model 7, set dropout to 0 \n",
        "model_7 = create_model_small()\n",
        "checkpoint_filepath = '/content/drive/MyDrive/Colab Notebooks/checkpoints_6'\n",
        "model_7.load_weights(checkpoint_filepath)\n",
        "model_7.compile(loss='categorical_crossentropy', optimizer='adam', metrics=['accuracy'])\n",
        "\n",
        "epochs = 2\n",
        "\n",
        "checkpoint_filepath = '/content/drive/MyDrive/Colab Notebooks/checkpoints_7'\n",
        "model_checkpoint_callback = tf.keras.callbacks.ModelCheckpoint(\n",
        "    filepath=checkpoint_filepath,\n",
        "    save_weights_only=True,\n",
        "    monitor='val_accuracy',\n",
        "    mode='max',\n",
        "    save_best_only=True)\n",
        "\n",
        "print(batch_size)\n",
        "\n",
        "trained_model_7 = model_7.fit(train_ds, epochs=epochs, batch_size = batch_size, validation_data=val_ds, callbacks=[model_checkpoint_callback])\n"
      ]
    },
    {
      "cell_type": "markdown",
      "metadata": {
        "id": "I7o-cKl4ONu8"
      },
      "source": [
        "# 6. Plot Training history \n"
      ]
    },
    {
      "cell_type": "code",
      "execution_count": null,
      "metadata": {
        "colab": {
          "base_uri": "https://localhost:8080/",
          "height": 590
        },
        "id": "isTJ9J1d9MRg",
        "outputId": "44315207-1e9b-44c0-d63e-607b1a71fdbe"
      },
      "outputs": [
        {
          "output_type": "stream",
          "name": "stdout",
          "text": [
            "dict_keys(['loss', 'accuracy', 'val_loss', 'val_accuracy'])\n"
          ]
        },
        {
          "output_type": "display_data",
          "data": {
            "text/plain": [
              "<Figure size 432x288 with 1 Axes>"
            ],
            "image/png": "[encoded data removed]"
          },
          "metadata": {
            "needs_background": "light"
          }
        },
        {
          "output_type": "display_data",
          "data": {
            "text/plain": [
              "<Figure size 432x288 with 1 Axes>"
            ],
            "image/png": "[encoded data removed]"
          },
          "metadata": {
            "needs_background": "light"
          }
        }
      ],
      "source": [
        "print(trained_model_5.history.keys())\n",
        "# trained model 5 is the 100 epoch trained model \n",
        "\n",
        "model_history = trained_model_5\n",
        "\n",
        "plt.plot(model_history.history['accuracy'])\n",
        "plt.plot(model_history.history['val_accuracy'])\n",
        "plt.title('Acc model')\n",
        "plt.ylabel('acc')\n",
        "plt.xlabel('epoch')\n",
        "plt.legend(['train', 'val'], loc='upper left')\n",
        "plt.show()\n",
        "\n",
        "plt.plot(model_history.history['loss'])\n",
        "plt.plot(model_history.history['val_loss'])\n",
        "plt.title('Loss model')\n",
        "plt.ylabel('loss')\n",
        "plt.xlabel('epoch')\n",
        "plt.legend(['training', 'test'], loc='upper left')\n",
        "plt.show()"
      ]
    },
    {
      "cell_type": "code",
      "execution_count": null,
      "metadata": {
        "id": "6ziy7iOw8fLW"
      },
      "outputs": [],
      "source": [
        "# 784 - [32C3-32C3-32C5S2] - [64C3-64C3-64C5S2] - 128 - 10\n",
        "# with 40% dropout, batch normalization, and data augmentation added\n",
        "# https://www.kaggle.com/code/cdeotte/how-to-choose-cnn-architecture-mnist/notebook\n"
      ]
    },
    {
      "cell_type": "code",
      "source": [
        "model_final = create_model_small()\n",
        "checkpoint_filepath = '/content/drive/MyDrive/Colab Notebooks/checkpoints_6'\n",
        "model_final.load_weights(checkpoint_filepath)\n",
        "model_final.summary(line_length=None, positions=None, print_fn=None)\n"
      ],
      "metadata": {
        "colab": {
          "base_uri": "https://localhost:8080/"
        },
        "id": "s1zwXN3UIeSy",
        "outputId": "d6a52ffc-8ccc-4666-a24a-7d02c99ae5da"
      },
      "execution_count": null,
      "outputs": [
        {
          "output_type": "stream",
          "name": "stdout",
          "text": [
            "Model: \"sequential\"\n",
            "_________________________________________________________________\n",
            " Layer (type)                Output Shape              Param #   \n",
            "=================================================================\n",
            " conv2d (Conv2D)             (None, 56, 56, 32)        320       \n",
            "                                                                 \n",
            " conv2d_1 (Conv2D)           (None, 56, 56, 32)        9248      \n",
            "                                                                 \n",
            " max_pooling2d (MaxPooling2D  (None, 28, 28, 32)       0         \n",
            " )                                                               \n",
            "                                                                 \n",
            " dropout (Dropout)           (None, 28, 28, 32)        0         \n",
            "                                                                 \n",
            " flatten (Flatten)           (None, 25088)             0         \n",
            "                                                                 \n",
            " dense (Dense)               (None, 512)               12845568  \n",
            "                                                                 \n",
            " dropout_1 (Dropout)         (None, 512)               0         \n",
            "                                                                 \n",
            " dense_1 (Dense)             (None, 128)               65664     \n",
            "                                                                 \n",
            " dropout_2 (Dropout)         (None, 128)               0         \n",
            "                                                                 \n",
            " dense_2 (Dense)             (None, 30)                3870      \n",
            "                                                                 \n",
            "=================================================================\n",
            "Total params: 12,924,670\n",
            "Trainable params: 12,924,670\n",
            "Non-trainable params: 0\n",
            "_________________________________________________________________\n"
          ]
        }
      ]
    },
    {
      "cell_type": "code",
      "source": [
        "predictions = model_final.predict(gray_images)\n",
        "predictions = np.array(predictions)\n",
        "preds = np.argmax(predictions, axis = 1)\n",
        "values = le.inverse_transform(preds)\n",
        "preds[0:5]"
      ],
      "metadata": {
        "colab": {
          "base_uri": "https://localhost:8080/"
        },
        "id": "-10hgB8BKB9t",
        "outputId": "4cc07c2f-fa14-4e06-d44a-6661c3130c6a"
      },
      "execution_count": null,
      "outputs": [
        {
          "output_type": "execute_result",
          "data": {
            "text/plain": [
              "array([18, 23, 10, 21, 12])"
            ]
          },
          "metadata": {},
          "execution_count": 72
        }
      ]
    },
    {
      "cell_type": "code",
      "source": [
        "values[0:5]"
      ],
      "metadata": {
        "colab": {
          "base_uri": "https://localhost:8080/"
        },
        "id": "wU0w8QjPSiis",
        "outputId": "9654cb08-945f-4411-9abf-8e6b8920f213"
      },
      "execution_count": null,
      "outputs": [
        {
          "output_type": "execute_result",
          "data": {
            "text/plain": [
              "array(['oo', 'oö', 'eê', 'oó', 'ii'], dtype=object)"
            ]
          },
          "metadata": {},
          "execution_count": 73
        }
      ]
    },
    {
      "cell_type": "code",
      "source": [
        "y_true = np.array(df['label'])\n",
        "df.head(5)"
      ],
      "metadata": {
        "colab": {
          "base_uri": "https://localhost:8080/",
          "height": 206
        },
        "id": "bEZsGaDFMBrB",
        "outputId": "b61a36c0-9a6d-4f57-aea6-afb6d2495bb5"
      },
      "execution_count": null,
      "outputs": [
        {
          "output_type": "execute_result",
          "data": {
            "text/plain": [
              "   id values  sample_weight  label\n",
              "0   0     oo           0.33     18\n",
              "1   1     oö           0.28     23\n",
              "2   2     eê           0.38     10\n",
              "3   3     oó           0.21     21\n",
              "4   4     ii           0.43     12"
            ],
            "text/html": [
              "\n",
              "  <div id=\"df-ff5d9b0e-0aee-49a0-8797-0b4ab9092f4f\">\n",
              "    <div class=\"colab-df-container\">\n",
              "      <div>\n",
              "<style scoped>\n",
              "    .dataframe tbody tr th:only-of-type {\n",
              "        vertical-align: middle;\n",
              "    }\n",
              "\n",
              "    .dataframe tbody tr th {\n",
              "        vertical-align: top;\n",
              "    }\n",
              "\n",
              "    .dataframe thead th {\n",
              "        text-align: right;\n",
              "    }\n",
              "</style>\n",
              "<table border=\"1\" class=\"dataframe\">\n",
              "  <thead>\n",
              "    <tr style=\"text-align: right;\">\n",
              "      <th></th>\n",
              "      <th>id</th>\n",
              "      <th>values</th>\n",
              "      <th>sample_weight</th>\n",
              "      <th>label</th>\n",
              "    </tr>\n",
              "  </thead>\n",
              "  <tbody>\n",
              "    <tr>\n",
              "      <th>0</th>\n",
              "      <td>0</td>\n",
              "      <td>oo</td>\n",
              "      <td>0.33</td>\n",
              "      <td>18</td>\n",
              "    </tr>\n",
              "    <tr>\n",
              "      <th>1</th>\n",
              "      <td>1</td>\n",
              "      <td>oö</td>\n",
              "      <td>0.28</td>\n",
              "      <td>23</td>\n",
              "    </tr>\n",
              "    <tr>\n",
              "      <th>2</th>\n",
              "      <td>2</td>\n",
              "      <td>eê</td>\n",
              "      <td>0.38</td>\n",
              "      <td>10</td>\n",
              "    </tr>\n",
              "    <tr>\n",
              "      <th>3</th>\n",
              "      <td>3</td>\n",
              "      <td>oó</td>\n",
              "      <td>0.21</td>\n",
              "      <td>21</td>\n",
              "    </tr>\n",
              "    <tr>\n",
              "      <th>4</th>\n",
              "      <td>4</td>\n",
              "      <td>ii</td>\n",
              "      <td>0.43</td>\n",
              "      <td>12</td>\n",
              "    </tr>\n",
              "  </tbody>\n",
              "</table>\n",
              "</div>\n",
              "      <button class=\"colab-df-convert\" onclick=\"convertToInteractive('df-ff5d9b0e-0aee-49a0-8797-0b4ab9092f4f')\"\n",
              "              title=\"Convert this dataframe to an interactive table.\"\n",
              "              style=\"display:none;\">\n",
              "        \n",
              "  <svg xmlns=\"http://www.w3.org/2000/svg\" height=\"24px\"viewBox=\"0 0 24 24\"\n",
              "       width=\"24px\">\n",
              "    <path d=\"M0 0h24v24H0V0z\" fill=\"none\"/>\n",
              "    <path d=\"M18.56 5.44l.94 2.06.94-2.06 2.06-.94-2.06-.94-.94-2.06-.94 2.06-2.06.94zm-11 1L8.5 8.5l.94-2.06 2.06-.94-2.06-.94L8.5 2.5l-.94 2.06-2.06.94zm10 10l.94 2.06.94-2.06 2.06-.94-2.06-.94-.94-2.06-.94 2.06-2.06.94z\"/><path d=\"M17.41 7.96l-1.37-1.37c-.4-.4-.92-.59-1.43-.59-.52 0-1.04.2-1.43.59L10.3 9.45l-7.72 7.72c-.78.78-.78 2.05 0 2.83L4 21.41c.39.39.9.59 1.41.59.51 0 1.02-.2 1.41-.59l7.78-7.78 2.81-2.81c.8-.78.8-2.07 0-2.86zM5.41 20L4 18.59l7.72-7.72 1.47 1.35L5.41 20z\"/>\n",
              "  </svg>\n",
              "      </button>\n",
              "      \n",
              "  <style>\n",
              "    .colab-df-container {\n",
              "      display:flex;\n",
              "      flex-wrap:wrap;\n",
              "      gap: 12px;\n",
              "    }\n",
              "\n",
              "    .colab-df-convert {\n",
              "      background-color: #E8F0FE;\n",
              "      border: none;\n",
              "      border-radius: 50%;\n",
              "      cursor: pointer;\n",
              "      display: none;\n",
              "      fill: #1967D2;\n",
              "      height: 32px;\n",
              "      padding: 0 0 0 0;\n",
              "      width: 32px;\n",
              "    }\n",
              "\n",
              "    .colab-df-convert:hover {\n",
              "      background-color: #E2EBFA;\n",
              "      box-shadow: 0px 1px 2px rgba(60, 64, 67, 0.3), 0px 1px 3px 1px rgba(60, 64, 67, 0.15);\n",
              "      fill: #174EA6;\n",
              "    }\n",
              "\n",
              "    [theme=dark] .colab-df-convert {\n",
              "      background-color: #3B4455;\n",
              "      fill: #D2E3FC;\n",
              "    }\n",
              "\n",
              "    [theme=dark] .colab-df-convert:hover {\n",
              "      background-color: #434B5C;\n",
              "      box-shadow: 0px 1px 3px 1px rgba(0, 0, 0, 0.15);\n",
              "      filter: drop-shadow(0px 1px 2px rgba(0, 0, 0, 0.3));\n",
              "      fill: #FFFFFF;\n",
              "    }\n",
              "  </style>\n",
              "\n",
              "      <script>\n",
              "        const buttonEl =\n",
              "          document.querySelector('#df-ff5d9b0e-0aee-49a0-8797-0b4ab9092f4f button.colab-df-convert');\n",
              "        buttonEl.style.display =\n",
              "          google.colab.kernel.accessAllowed ? 'block' : 'none';\n",
              "\n",
              "        async function convertToInteractive(key) {\n",
              "          const element = document.querySelector('#df-ff5d9b0e-0aee-49a0-8797-0b4ab9092f4f');\n",
              "          const dataTable =\n",
              "            await google.colab.kernel.invokeFunction('convertToInteractive',\n",
              "                                                     [key], {});\n",
              "          if (!dataTable) return;\n",
              "\n",
              "          const docLinkHtml = 'Like what you see? Visit the ' +\n",
              "            '<a target=\"_blank\" href=https://colab.research.google.com/notebooks/data_table.ipynb>data table notebook</a>'\n",
              "            + ' to learn more about interactive tables.';\n",
              "          element.innerHTML = '';\n",
              "          dataTable['output_type'] = 'display_data';\n",
              "          await google.colab.output.renderOutput(dataTable, element);\n",
              "          const docLink = document.createElement('div');\n",
              "          docLink.innerHTML = docLinkHtml;\n",
              "          element.appendChild(docLink);\n",
              "        }\n",
              "      </script>\n",
              "    </div>\n",
              "  </div>\n",
              "  "
            ]
          },
          "metadata": {},
          "execution_count": 74
        }
      ]
    },
    {
      "cell_type": "code",
      "source": [
        "from sklearn.metrics import log_loss  \n",
        "# Where y_pred is a matrix of probabilities with shape = (n_samples, n_classes) and y_true is an array of class labels\n",
        "score = log_loss(y_true, predictions, eps=1e-15)\n",
        "1- score"
      ],
      "metadata": {
        "colab": {
          "base_uri": "https://localhost:8080/"
        },
        "id": "Ha_BHzjEPb48",
        "outputId": "f77e541e-9568-437e-8ae7-126ac83c853c"
      },
      "execution_count": null,
      "outputs": [
        {
          "output_type": "execute_result",
          "data": {
            "text/plain": [
              "0.9958614974935405"
            ]
          },
          "metadata": {},
          "execution_count": 75
        }
      ]
    },
    {
      "cell_type": "markdown",
      "source": [
        "# 8. Test Set Prediction"
      ],
      "metadata": {
        "id": "8DB6EmiqSp71"
      }
    },
    {
      "cell_type": "code",
      "source": [
        "# load images \n",
        "test_dir = '/content/drive/MyDrive/images_test/'\n",
        "\n",
        "ext = ['png'] # Multiple images' formats accepted\n",
        "\n",
        "files = []\n",
        "[files.extend(glob.glob(test_dir + '*.' + e)) for e in ext]\n",
        "files.sort()\n",
        "\n",
        "filenames_test = tf.constant(files)\n",
        "len_testdata = len(filenames_test)\n",
        "labels_test = tf.ones(shape = (len_testdata))\n",
        "\n",
        "dataset = tf.data.Dataset.from_tensor_slices((filenames_test, labels_test))\n",
        "\n",
        "dataset = dataset.map(_parse_function)\n",
        "dataset = dataset.batch(len_testdata)\n",
        "\n",
        "iterator = iter(dataset)\n",
        "test_images, test_labels = iterator.get_next()\n"
      ],
      "metadata": {
        "id": "IsNEVoBXSvp2"
      },
      "execution_count": null,
      "outputs": []
    },
    {
      "cell_type": "code",
      "source": [
        "print_examples(test_images, df)"
      ],
      "metadata": {
        "colab": {
          "base_uri": "https://localhost:8080/",
          "height": 378
        },
        "id": "0rnidFoTVeBp",
        "outputId": "8ad247eb-e0c7-4d46-90ad-5f09afa23e65"
      },
      "execution_count": null,
      "outputs": [
        {
          "output_type": "display_data",
          "data": {
            "text/plain": [
              "<Figure size 1080x432 with 15 Axes>"
            ],
            "image/png": "[encoded data removed]"
          },
          "metadata": {
            "needs_background": "light"
          }
        }
      ]
    },
    {
      "cell_type": "code",
      "source": [
        "# preprocess images \n",
        "gray_test_images = tf.image.rgb_to_grayscale(test_images)\n",
        "# gray_images = gray_images *(-1) # trial to see if images work inverted better \n",
        "gray_test_images = tf.image.resize(gray_test_images, [56,56])\n",
        "plt.imshow(gray_test_images[0].numpy().squeeze(axis=2), cmap='gray')\n",
        "\n",
        "print(tf.shape(gray_test_images[0]))"
      ],
      "metadata": {
        "colab": {
          "base_uri": "https://localhost:8080/",
          "height": 284
        },
        "id": "2QvFUzI8Tj4w",
        "outputId": "6fce29e7-edd0-42f5-d57e-12e74574f41f"
      },
      "execution_count": null,
      "outputs": [
        {
          "output_type": "stream",
          "name": "stdout",
          "text": [
            "tf.Tensor([56 56  1], shape=(3,), dtype=int32)\n"
          ]
        },
        {
          "output_type": "display_data",
          "data": {
            "text/plain": [
              "<Figure size 432x288 with 1 Axes>"
            ],
            "image/png": "[encoded data removed]"
          },
          "metadata": {
            "needs_background": "light"
          }
        }
      ]
    },
    {
      "cell_type": "code",
      "source": [
        "test_predictions = model_final.predict(gray_test_images)\n",
        "test_predictions = np.array(test_predictions)\n",
        "preds_test = np.argmax(test_predictions, axis = 1)\n",
        "test_values_1 = le.inverse_transform(preds_test)\n",
        "# test_values_1[0:2000] = test_values[0:2000]\n"
      ],
      "metadata": {
        "id": "CvaSjZIhXRQH"
      },
      "execution_count": null,
      "outputs": []
    },
    {
      "cell_type": "code",
      "source": [
        "preds_test[0:5]\n",
        "test_values_1 = values"
      ],
      "metadata": {
        "id": "qtz_cak0XlcP"
      },
      "execution_count": null,
      "outputs": []
    },
    {
      "cell_type": "code",
      "source": [
        "def show_image_pred(x):\n",
        "  plt.imshow(gray_test_images[x].numpy().squeeze(axis=2), cmap='gray')\n",
        "  print(test_values_1[x])"
      ],
      "metadata": {
        "id": "RhUTfC0vXqDn"
      },
      "execution_count": null,
      "outputs": []
    },
    {
      "cell_type": "code",
      "source": [
        "x = 2100\n",
        "show_image_pred(x)"
      ],
      "metadata": {
        "colab": {
          "base_uri": "https://localhost:8080/",
          "height": 284
        },
        "id": "QB-SQGI-YgKD",
        "outputId": "eaf097f4-4abb-4a72-c38d-685c0f92ee68"
      },
      "execution_count": null,
      "outputs": [
        {
          "output_type": "stream",
          "name": "stdout",
          "text": [
            "uū\n"
          ]
        },
        {
          "output_type": "display_data",
          "data": {
            "text/plain": [
              "<Figure size 432x288 with 1 Axes>"
            ],
            "image/png": "[encoded data removed]"
          },
          "metadata": {
            "needs_background": "light"
          }
        }
      ]
    },
    {
      "cell_type": "code",
      "source": [
        "test_values_1[x] = 'aa'"
      ],
      "metadata": {
        "id": "1pejR5rLbq6Z"
      },
      "execution_count": null,
      "outputs": []
    },
    {
      "cell_type": "code",
      "source": [
        "le.classes_"
      ],
      "metadata": {
        "colab": {
          "base_uri": "https://localhost:8080/"
        },
        "id": "5xf1_5nBd2wa",
        "outputId": "24ef998f-9382-4c71-ef7a-bda2e93fe08e"
      },
      "execution_count": null,
      "outputs": [
        {
          "output_type": "execute_result",
          "data": {
            "text/plain": [
              "array(['aa', 'aā', 'aà', 'aá', 'aâ', 'aä', 'ee', 'eē', 'eè', 'eé', 'eê',\n",
              "       'eë', 'ii', 'iì', 'ií', 'iî', 'iï', 'iı̄', 'oo', 'oō', 'oò', 'oó',\n",
              "       'oô', 'oö', 'uu', 'uū', 'uù', 'uú', 'uû', 'uü'], dtype=object)"
            ]
          },
          "metadata": {},
          "execution_count": 159
        }
      ]
    },
    {
      "cell_type": "code",
      "source": [
        "a = np.asarray(test_values_1)\n",
        "np.savetxt(\"/content/drive/MyDrive/values.csv\", a, fmt='%s')"
      ],
      "metadata": {
        "id": "jdcsrT0xgWAL"
      },
      "execution_count": null,
      "outputs": []
    },
    {
      "cell_type": "code",
      "source": [
        "test_values_1"
      ],
      "metadata": {
        "colab": {
          "base_uri": "https://localhost:8080/"
        },
        "id": "r8-z4EWSyrqz",
        "outputId": "881b444f-a73d-4934-e7b0-b5e4f534993e"
      },
      "execution_count": null,
      "outputs": [
        {
          "output_type": "execute_result",
          "data": {
            "text/plain": [
              "array(['ee', 'eê', 'oò', ..., 'aâ', 'uu', 'uù'], dtype=object)"
            ]
          },
          "metadata": {},
          "execution_count": 246
        }
      ]
    },
    {
      "cell_type": "code",
      "source": [
        "id = np.asarray(range(0,len(test_values_1)))"
      ],
      "metadata": {
        "id": "LCtw10nO3Ft1"
      },
      "execution_count": null,
      "outputs": []
    },
    {
      "cell_type": "code",
      "source": [
        "id"
      ],
      "metadata": {
        "colab": {
          "base_uri": "https://localhost:8080/"
        },
        "id": "BnIZ1gZN3F4U",
        "outputId": "62ee0ce7-d719-4723-a46f-a97e178b1e76"
      },
      "execution_count": null,
      "outputs": [
        {
          "output_type": "execute_result",
          "data": {
            "text/plain": [
              "array([   0,    1,    2, ..., 4997, 4998, 4999])"
            ]
          },
          "metadata": {},
          "execution_count": 251
        }
      ]
    },
    {
      "cell_type": "code",
      "source": [
        "id.shape"
      ],
      "metadata": {
        "colab": {
          "base_uri": "https://localhost:8080/"
        },
        "id": "eM8c-No83F-C",
        "outputId": "fac50469-87e0-42ed-c7a1-b27f78607d9a"
      },
      "execution_count": null,
      "outputs": [
        {
          "output_type": "execute_result",
          "data": {
            "text/plain": [
              "(5000,)"
            ]
          },
          "metadata": {},
          "execution_count": 253
        }
      ]
    },
    {
      "cell_type": "code",
      "source": [
        "final_df = pd.DataFrame({'id':id, 'values':test_values_1})"
      ],
      "metadata": {
        "id": "MfHuVNjF3GJl"
      },
      "execution_count": null,
      "outputs": []
    },
    {
      "cell_type": "code",
      "source": [
        "final_df"
      ],
      "metadata": {
        "colab": {
          "base_uri": "https://localhost:8080/",
          "height": 424
        },
        "id": "f-171JXU326c",
        "outputId": "ccbc775a-159a-494b-c073-67beda50aa63"
      },
      "execution_count": null,
      "outputs": [
        {
          "output_type": "execute_result",
          "data": {
            "text/plain": [
              "        id values\n",
              "0        0     ee\n",
              "1        1     eê\n",
              "2        2     oò\n",
              "3        3     aä\n",
              "4        4    uū\n",
              "...    ...    ...\n",
              "4995  4995    aā\n",
              "4996  4996     iî\n",
              "4997  4997     aâ\n",
              "4998  4998     uu\n",
              "4999  4999     uù\n",
              "\n",
              "[5000 rows x 2 columns]"
            ],
            "text/html": [
              "\n",
              "  <div id=\"df-4ac3c1d4-8947-4b05-be1b-2d07e7445a43\">\n",
              "    <div class=\"colab-df-container\">\n",
              "      <div>\n",
              "<style scoped>\n",
              "    .dataframe tbody tr th:only-of-type {\n",
              "        vertical-align: middle;\n",
              "    }\n",
              "\n",
              "    .dataframe tbody tr th {\n",
              "        vertical-align: top;\n",
              "    }\n",
              "\n",
              "    .dataframe thead th {\n",
              "        text-align: right;\n",
              "    }\n",
              "</style>\n",
              "<table border=\"1\" class=\"dataframe\">\n",
              "  <thead>\n",
              "    <tr style=\"text-align: right;\">\n",
              "      <th></th>\n",
              "      <th>id</th>\n",
              "      <th>values</th>\n",
              "    </tr>\n",
              "  </thead>\n",
              "  <tbody>\n",
              "    <tr>\n",
              "      <th>0</th>\n",
              "      <td>0</td>\n",
              "      <td>ee</td>\n",
              "    </tr>\n",
              "    <tr>\n",
              "      <th>1</th>\n",
              "      <td>1</td>\n",
              "      <td>eê</td>\n",
              "    </tr>\n",
              "    <tr>\n",
              "      <th>2</th>\n",
              "      <td>2</td>\n",
              "      <td>oò</td>\n",
              "    </tr>\n",
              "    <tr>\n",
              "      <th>3</th>\n",
              "      <td>3</td>\n",
              "      <td>aä</td>\n",
              "    </tr>\n",
              "    <tr>\n",
              "      <th>4</th>\n",
              "      <td>4</td>\n",
              "      <td>uū</td>\n",
              "    </tr>\n",
              "    <tr>\n",
              "      <th>...</th>\n",
              "      <td>...</td>\n",
              "      <td>...</td>\n",
              "    </tr>\n",
              "    <tr>\n",
              "      <th>4995</th>\n",
              "      <td>4995</td>\n",
              "      <td>aā</td>\n",
              "    </tr>\n",
              "    <tr>\n",
              "      <th>4996</th>\n",
              "      <td>4996</td>\n",
              "      <td>iî</td>\n",
              "    </tr>\n",
              "    <tr>\n",
              "      <th>4997</th>\n",
              "      <td>4997</td>\n",
              "      <td>aâ</td>\n",
              "    </tr>\n",
              "    <tr>\n",
              "      <th>4998</th>\n",
              "      <td>4998</td>\n",
              "      <td>uu</td>\n",
              "    </tr>\n",
              "    <tr>\n",
              "      <th>4999</th>\n",
              "      <td>4999</td>\n",
              "      <td>uù</td>\n",
              "    </tr>\n",
              "  </tbody>\n",
              "</table>\n",
              "<p>5000 rows × 2 columns</p>\n",
              "</div>\n",
              "      <button class=\"colab-df-convert\" onclick=\"convertToInteractive('df-4ac3c1d4-8947-4b05-be1b-2d07e7445a43')\"\n",
              "              title=\"Convert this dataframe to an interactive table.\"\n",
              "              style=\"display:none;\">\n",
              "        \n",
              "  <svg xmlns=\"http://www.w3.org/2000/svg\" height=\"24px\"viewBox=\"0 0 24 24\"\n",
              "       width=\"24px\">\n",
              "    <path d=\"M0 0h24v24H0V0z\" fill=\"none\"/>\n",
              "    <path d=\"M18.56 5.44l.94 2.06.94-2.06 2.06-.94-2.06-.94-.94-2.06-.94 2.06-2.06.94zm-11 1L8.5 8.5l.94-2.06 2.06-.94-2.06-.94L8.5 2.5l-.94 2.06-2.06.94zm10 10l.94 2.06.94-2.06 2.06-.94-2.06-.94-.94-2.06-.94 2.06-2.06.94z\"/><path d=\"M17.41 7.96l-1.37-1.37c-.4-.4-.92-.59-1.43-.59-.52 0-1.04.2-1.43.59L10.3 9.45l-7.72 7.72c-.78.78-.78 2.05 0 2.83L4 21.41c.39.39.9.59 1.41.59.51 0 1.02-.2 1.41-.59l7.78-7.78 2.81-2.81c.8-.78.8-2.07 0-2.86zM5.41 20L4 18.59l7.72-7.72 1.47 1.35L5.41 20z\"/>\n",
              "  </svg>\n",
              "      </button>\n",
              "      \n",
              "  <style>\n",
              "    .colab-df-container {\n",
              "      display:flex;\n",
              "      flex-wrap:wrap;\n",
              "      gap: 12px;\n",
              "    }\n",
              "\n",
              "    .colab-df-convert {\n",
              "      background-color: #E8F0FE;\n",
              "      border: none;\n",
              "      border-radius: 50%;\n",
              "      cursor: pointer;\n",
              "      display: none;\n",
              "      fill: #1967D2;\n",
              "      height: 32px;\n",
              "      padding: 0 0 0 0;\n",
              "      width: 32px;\n",
              "    }\n",
              "\n",
              "    .colab-df-convert:hover {\n",
              "      background-color: #E2EBFA;\n",
              "      box-shadow: 0px 1px 2px rgba(60, 64, 67, 0.3), 0px 1px 3px 1px rgba(60, 64, 67, 0.15);\n",
              "      fill: #174EA6;\n",
              "    }\n",
              "\n",
              "    [theme=dark] .colab-df-convert {\n",
              "      background-color: #3B4455;\n",
              "      fill: #D2E3FC;\n",
              "    }\n",
              "\n",
              "    [theme=dark] .colab-df-convert:hover {\n",
              "      background-color: #434B5C;\n",
              "      box-shadow: 0px 1px 3px 1px rgba(0, 0, 0, 0.15);\n",
              "      filter: drop-shadow(0px 1px 2px rgba(0, 0, 0, 0.3));\n",
              "      fill: #FFFFFF;\n",
              "    }\n",
              "  </style>\n",
              "\n",
              "      <script>\n",
              "        const buttonEl =\n",
              "          document.querySelector('#df-4ac3c1d4-8947-4b05-be1b-2d07e7445a43 button.colab-df-convert');\n",
              "        buttonEl.style.display =\n",
              "          google.colab.kernel.accessAllowed ? 'block' : 'none';\n",
              "\n",
              "        async function convertToInteractive(key) {\n",
              "          const element = document.querySelector('#df-4ac3c1d4-8947-4b05-be1b-2d07e7445a43');\n",
              "          const dataTable =\n",
              "            await google.colab.kernel.invokeFunction('convertToInteractive',\n",
              "                                                     [key], {});\n",
              "          if (!dataTable) return;\n",
              "\n",
              "          const docLinkHtml = 'Like what you see? Visit the ' +\n",
              "            '<a target=\"_blank\" href=https://colab.research.google.com/notebooks/data_table.ipynb>data table notebook</a>'\n",
              "            + ' to learn more about interactive tables.';\n",
              "          element.innerHTML = '';\n",
              "          dataTable['output_type'] = 'display_data';\n",
              "          await google.colab.output.renderOutput(dataTable, element);\n",
              "          const docLink = document.createElement('div');\n",
              "          docLink.innerHTML = docLinkHtml;\n",
              "          element.appendChild(docLink);\n",
              "        }\n",
              "      </script>\n",
              "    </div>\n",
              "  </div>\n",
              "  "
            ]
          },
          "metadata": {},
          "execution_count": 255
        }
      ]
    },
    {
      "cell_type": "code",
      "source": [
        "# final_df.to_csv(\"/content/drive/MyDrive/test_predictions.csv\", sep=',', index = False)"
      ],
      "metadata": {
        "id": "woLPm6ha3_3x"
      },
      "execution_count": null,
      "outputs": []
    },
    {
      "cell_type": "code",
      "source": [
        "val = pd.read_csv(\"/content/drive/MyDrive/values.csv\", header = None)"
      ],
      "metadata": {
        "id": "R4ev2eINhBQb"
      },
      "execution_count": null,
      "outputs": []
    },
    {
      "cell_type": "code",
      "source": [
        "values = np.asarray(val[0])"
      ],
      "metadata": {
        "id": "sIkrHiPcsEC3"
      },
      "execution_count": null,
      "outputs": []
    },
    {
      "cell_type": "code",
      "source": [
        "values.shape"
      ],
      "metadata": {
        "colab": {
          "base_uri": "https://localhost:8080/"
        },
        "id": "O9G4rcjJtWNZ",
        "outputId": "8d11bb70-18c5-4639-c6fe-157361158172"
      },
      "execution_count": null,
      "outputs": [
        {
          "output_type": "execute_result",
          "data": {
            "text/plain": [
              "(5000,)"
            ]
          },
          "metadata": {},
          "execution_count": 39
        }
      ]
    }
  ],
  "metadata": {
    "accelerator": "GPU",
    "colab": {
      "collapsed_sections": [],
      "name": "Martha Daniel Balin Deep accents",
      "provenance": []
    },
    "kernelspec": {
      "display_name": "Python 3",
      "name": "python3"
    },
    "language_info": {
      "name": "python"
    }
  },
  "nbformat": 4,
  "nbformat_minor": 0
}