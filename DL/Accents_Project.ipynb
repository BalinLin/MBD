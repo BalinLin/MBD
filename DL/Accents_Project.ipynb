{
  "cells": [
    {
      "cell_type": "markdown",
      "source": [
        "## 0. Run on GPU and Mount google drive."
      ],
      "metadata": {
        "id": "geP5xQ46QOrk"
      }
    },
    {
      "cell_type": "code",
      "source": [
        "import tensorflow as tf\n",
        "device_name = tf.test.gpu_device_name()\n",
        "if device_name != '/device:GPU:0':\n",
        "  raise SystemError('GPU device not found')\n",
        "print('Found GPU at: {}'.format(device_name))"
      ],
      "metadata": {
        "colab": {
          "base_uri": "https://localhost:8080/"
        },
        "id": "Kb137qtWdika",
        "outputId": "866bedfe-76e0-41bd-f479-49e9ed827e30"
      },
      "execution_count": null,
      "outputs": [
        {
          "output_type": "stream",
          "name": "stdout",
          "text": [
            "Found GPU at: /device:GPU:0\n"
          ]
        }
      ]
    },
    {
      "cell_type": "code",
      "source": [
        "from google.colab import drive\n",
        "drive.mount('/content/drive')"
      ],
      "metadata": {
        "id": "3tqbrmB0xXsF",
        "colab": {
          "base_uri": "https://localhost:8080/"
        },
        "outputId": "4a002331-cc8f-4078-8203-eba29583417e"
      },
      "execution_count": null,
      "outputs": [
        {
          "output_type": "stream",
          "name": "stdout",
          "text": [
            "Mounted at /content/drive\n"
          ]
        }
      ]
    },
    {
      "cell_type": "markdown",
      "metadata": {
        "id": "JmM0yemRdPG0"
      },
      "source": [
        "## 1. Import Libraries"
      ]
    },
    {
      "cell_type": "code",
      "execution_count": null,
      "metadata": {
        "id": "CPPtTXI4dPG4"
      },
      "outputs": [],
      "source": [
        "import numpy as np\n",
        "import tensorflow as tf\n",
        "import pandas as pd\n",
        "from sklearn import preprocessing\n",
        "from sklearn.preprocessing import StandardScaler\n",
        "from PIL import Image, ImageOps\n",
        "from tensorflow.keras.models import Sequential\n",
        "from tensorflow.keras.layers import Dense\n",
        "from tensorflow.keras import Input\n",
        "from tensorflow.keras import layers\n",
        "from tensorflow.keras.utils import to_categorical\n",
        "from tensorflow.random import normal\n",
        "import glob\n",
        "import matplotlib.pyplot as plt\n",
        "\n",
        "%matplotlib inline"
      ]
    },
    {
      "cell_type": "markdown",
      "metadata": {
        "id": "eaFZtUfRdPG5"
      },
      "source": [
        "## 2. Read data\n"
      ]
    },
    {
      "cell_type": "markdown",
      "metadata": {
        "id": "r7lOGXRndPG6"
      },
      "source": [
        "### 2.1. Read labels of training data from csv file."
      ]
    },
    {
      "cell_type": "code",
      "execution_count": null,
      "metadata": {
        "scrolled": false,
        "id": "DSTuO3g0dPG6",
        "colab": {
          "base_uri": "https://localhost:8080/",
          "height": 206
        },
        "outputId": "13b552ee-7cfd-4d36-fb60-ea379943f3ca"
      },
      "outputs": [
        {
          "output_type": "execute_result",
          "data": {
            "text/plain": [
              "   id values\n",
              "0   0    oō\n",
              "1   1     oö\n",
              "2   2     eê\n",
              "3   3     oó\n",
              "4   4     ii"
            ],
            "text/html": [
              "\n",
              "  <div id=\"df-9ac5906c-2274-4249-bf3e-688da94dbd4f\">\n",
              "    <div class=\"colab-df-container\">\n",
              "      <div>\n",
              "<style scoped>\n",
              "    .dataframe tbody tr th:only-of-type {\n",
              "        vertical-align: middle;\n",
              "    }\n",
              "\n",
              "    .dataframe tbody tr th {\n",
              "        vertical-align: top;\n",
              "    }\n",
              "\n",
              "    .dataframe thead th {\n",
              "        text-align: right;\n",
              "    }\n",
              "</style>\n",
              "<table border=\"1\" class=\"dataframe\">\n",
              "  <thead>\n",
              "    <tr style=\"text-align: right;\">\n",
              "      <th></th>\n",
              "      <th>id</th>\n",
              "      <th>values</th>\n",
              "    </tr>\n",
              "  </thead>\n",
              "  <tbody>\n",
              "    <tr>\n",
              "      <th>0</th>\n",
              "      <td>0</td>\n",
              "      <td>oō</td>\n",
              "    </tr>\n",
              "    <tr>\n",
              "      <th>1</th>\n",
              "      <td>1</td>\n",
              "      <td>oö</td>\n",
              "    </tr>\n",
              "    <tr>\n",
              "      <th>2</th>\n",
              "      <td>2</td>\n",
              "      <td>eê</td>\n",
              "    </tr>\n",
              "    <tr>\n",
              "      <th>3</th>\n",
              "      <td>3</td>\n",
              "      <td>oó</td>\n",
              "    </tr>\n",
              "    <tr>\n",
              "      <th>4</th>\n",
              "      <td>4</td>\n",
              "      <td>ii</td>\n",
              "    </tr>\n",
              "  </tbody>\n",
              "</table>\n",
              "</div>\n",
              "      <button class=\"colab-df-convert\" onclick=\"convertToInteractive('df-9ac5906c-2274-4249-bf3e-688da94dbd4f')\"\n",
              "              title=\"Convert this dataframe to an interactive table.\"\n",
              "              style=\"display:none;\">\n",
              "        \n",
              "  <svg xmlns=\"http://www.w3.org/2000/svg\" height=\"24px\"viewBox=\"0 0 24 24\"\n",
              "       width=\"24px\">\n",
              "    <path d=\"M0 0h24v24H0V0z\" fill=\"none\"/>\n",
              "    <path d=\"M18.56 5.44l.94 2.06.94-2.06 2.06-.94-2.06-.94-.94-2.06-.94 2.06-2.06.94zm-11 1L8.5 8.5l.94-2.06 2.06-.94-2.06-.94L8.5 2.5l-.94 2.06-2.06.94zm10 10l.94 2.06.94-2.06 2.06-.94-2.06-.94-.94-2.06-.94 2.06-2.06.94z\"/><path d=\"M17.41 7.96l-1.37-1.37c-.4-.4-.92-.59-1.43-.59-.52 0-1.04.2-1.43.59L10.3 9.45l-7.72 7.72c-.78.78-.78 2.05 0 2.83L4 21.41c.39.39.9.59 1.41.59.51 0 1.02-.2 1.41-.59l7.78-7.78 2.81-2.81c.8-.78.8-2.07 0-2.86zM5.41 20L4 18.59l7.72-7.72 1.47 1.35L5.41 20z\"/>\n",
              "  </svg>\n",
              "      </button>\n",
              "      \n",
              "  <style>\n",
              "    .colab-df-container {\n",
              "      display:flex;\n",
              "      flex-wrap:wrap;\n",
              "      gap: 12px;\n",
              "    }\n",
              "\n",
              "    .colab-df-convert {\n",
              "      background-color: #E8F0FE;\n",
              "      border: none;\n",
              "      border-radius: 50%;\n",
              "      cursor: pointer;\n",
              "      display: none;\n",
              "      fill: #1967D2;\n",
              "      height: 32px;\n",
              "      padding: 0 0 0 0;\n",
              "      width: 32px;\n",
              "    }\n",
              "\n",
              "    .colab-df-convert:hover {\n",
              "      background-color: #E2EBFA;\n",
              "      box-shadow: 0px 1px 2px rgba(60, 64, 67, 0.3), 0px 1px 3px 1px rgba(60, 64, 67, 0.15);\n",
              "      fill: #174EA6;\n",
              "    }\n",
              "\n",
              "    [theme=dark] .colab-df-convert {\n",
              "      background-color: #3B4455;\n",
              "      fill: #D2E3FC;\n",
              "    }\n",
              "\n",
              "    [theme=dark] .colab-df-convert:hover {\n",
              "      background-color: #434B5C;\n",
              "      box-shadow: 0px 1px 3px 1px rgba(0, 0, 0, 0.15);\n",
              "      filter: drop-shadow(0px 1px 2px rgba(0, 0, 0, 0.3));\n",
              "      fill: #FFFFFF;\n",
              "    }\n",
              "  </style>\n",
              "\n",
              "      <script>\n",
              "        const buttonEl =\n",
              "          document.querySelector('#df-9ac5906c-2274-4249-bf3e-688da94dbd4f button.colab-df-convert');\n",
              "        buttonEl.style.display =\n",
              "          google.colab.kernel.accessAllowed ? 'block' : 'none';\n",
              "\n",
              "        async function convertToInteractive(key) {\n",
              "          const element = document.querySelector('#df-9ac5906c-2274-4249-bf3e-688da94dbd4f');\n",
              "          const dataTable =\n",
              "            await google.colab.kernel.invokeFunction('convertToInteractive',\n",
              "                                                     [key], {});\n",
              "          if (!dataTable) return;\n",
              "\n",
              "          const docLinkHtml = 'Like what you see? Visit the ' +\n",
              "            '<a target=\"_blank\" href=https://colab.research.google.com/notebooks/data_table.ipynb>data table notebook</a>'\n",
              "            + ' to learn more about interactive tables.';\n",
              "          element.innerHTML = '';\n",
              "          dataTable['output_type'] = 'display_data';\n",
              "          await google.colab.output.renderOutput(dataTable, element);\n",
              "          const docLink = document.createElement('div');\n",
              "          docLink.innerHTML = docLinkHtml;\n",
              "          element.appendChild(docLink);\n",
              "        }\n",
              "      </script>\n",
              "    </div>\n",
              "  </div>\n",
              "  "
            ]
          },
          "metadata": {},
          "execution_count": 4
        }
      ],
      "source": [
        "train_data = pd.read_csv(\"/content/drive/MyDrive/images_train/data.csv\")\n",
        "\n",
        "train_data.head()"
      ]
    },
    {
      "cell_type": "markdown",
      "metadata": {
        "id": "qkNARNuBdPG7"
      },
      "source": [
        "### 2.2. Correct the label of the first image, as it is wronlgy labeled."
      ]
    },
    {
      "cell_type": "code",
      "source": [
        "train_data.loc[0, \"values\"] = \"oo\"\n",
        "train_data.head(3)"
      ],
      "metadata": {
        "colab": {
          "base_uri": "https://localhost:8080/",
          "height": 143
        },
        "id": "5acJDf_CRZ7v",
        "outputId": "1146229d-37d8-44a9-82f3-12048af97936"
      },
      "execution_count": null,
      "outputs": [
        {
          "output_type": "execute_result",
          "data": {
            "text/plain": [
              "   id values\n",
              "0   0     oo\n",
              "1   1     oö\n",
              "2   2     eê"
            ],
            "text/html": [
              "\n",
              "  <div id=\"df-0672bbd0-da1c-4ac7-89f0-7ae9214e4ac8\">\n",
              "    <div class=\"colab-df-container\">\n",
              "      <div>\n",
              "<style scoped>\n",
              "    .dataframe tbody tr th:only-of-type {\n",
              "        vertical-align: middle;\n",
              "    }\n",
              "\n",
              "    .dataframe tbody tr th {\n",
              "        vertical-align: top;\n",
              "    }\n",
              "\n",
              "    .dataframe thead th {\n",
              "        text-align: right;\n",
              "    }\n",
              "</style>\n",
              "<table border=\"1\" class=\"dataframe\">\n",
              "  <thead>\n",
              "    <tr style=\"text-align: right;\">\n",
              "      <th></th>\n",
              "      <th>id</th>\n",
              "      <th>values</th>\n",
              "    </tr>\n",
              "  </thead>\n",
              "  <tbody>\n",
              "    <tr>\n",
              "      <th>0</th>\n",
              "      <td>0</td>\n",
              "      <td>oo</td>\n",
              "    </tr>\n",
              "    <tr>\n",
              "      <th>1</th>\n",
              "      <td>1</td>\n",
              "      <td>oö</td>\n",
              "    </tr>\n",
              "    <tr>\n",
              "      <th>2</th>\n",
              "      <td>2</td>\n",
              "      <td>eê</td>\n",
              "    </tr>\n",
              "  </tbody>\n",
              "</table>\n",
              "</div>\n",
              "      <button class=\"colab-df-convert\" onclick=\"convertToInteractive('df-0672bbd0-da1c-4ac7-89f0-7ae9214e4ac8')\"\n",
              "              title=\"Convert this dataframe to an interactive table.\"\n",
              "              style=\"display:none;\">\n",
              "        \n",
              "  <svg xmlns=\"http://www.w3.org/2000/svg\" height=\"24px\"viewBox=\"0 0 24 24\"\n",
              "       width=\"24px\">\n",
              "    <path d=\"M0 0h24v24H0V0z\" fill=\"none\"/>\n",
              "    <path d=\"M18.56 5.44l.94 2.06.94-2.06 2.06-.94-2.06-.94-.94-2.06-.94 2.06-2.06.94zm-11 1L8.5 8.5l.94-2.06 2.06-.94-2.06-.94L8.5 2.5l-.94 2.06-2.06.94zm10 10l.94 2.06.94-2.06 2.06-.94-2.06-.94-.94-2.06-.94 2.06-2.06.94z\"/><path d=\"M17.41 7.96l-1.37-1.37c-.4-.4-.92-.59-1.43-.59-.52 0-1.04.2-1.43.59L10.3 9.45l-7.72 7.72c-.78.78-.78 2.05 0 2.83L4 21.41c.39.39.9.59 1.41.59.51 0 1.02-.2 1.41-.59l7.78-7.78 2.81-2.81c.8-.78.8-2.07 0-2.86zM5.41 20L4 18.59l7.72-7.72 1.47 1.35L5.41 20z\"/>\n",
              "  </svg>\n",
              "      </button>\n",
              "      \n",
              "  <style>\n",
              "    .colab-df-container {\n",
              "      display:flex;\n",
              "      flex-wrap:wrap;\n",
              "      gap: 12px;\n",
              "    }\n",
              "\n",
              "    .colab-df-convert {\n",
              "      background-color: #E8F0FE;\n",
              "      border: none;\n",
              "      border-radius: 50%;\n",
              "      cursor: pointer;\n",
              "      display: none;\n",
              "      fill: #1967D2;\n",
              "      height: 32px;\n",
              "      padding: 0 0 0 0;\n",
              "      width: 32px;\n",
              "    }\n",
              "\n",
              "    .colab-df-convert:hover {\n",
              "      background-color: #E2EBFA;\n",
              "      box-shadow: 0px 1px 2px rgba(60, 64, 67, 0.3), 0px 1px 3px 1px rgba(60, 64, 67, 0.15);\n",
              "      fill: #174EA6;\n",
              "    }\n",
              "\n",
              "    [theme=dark] .colab-df-convert {\n",
              "      background-color: #3B4455;\n",
              "      fill: #D2E3FC;\n",
              "    }\n",
              "\n",
              "    [theme=dark] .colab-df-convert:hover {\n",
              "      background-color: #434B5C;\n",
              "      box-shadow: 0px 1px 3px 1px rgba(0, 0, 0, 0.15);\n",
              "      filter: drop-shadow(0px 1px 2px rgba(0, 0, 0, 0.3));\n",
              "      fill: #FFFFFF;\n",
              "    }\n",
              "  </style>\n",
              "\n",
              "      <script>\n",
              "        const buttonEl =\n",
              "          document.querySelector('#df-0672bbd0-da1c-4ac7-89f0-7ae9214e4ac8 button.colab-df-convert');\n",
              "        buttonEl.style.display =\n",
              "          google.colab.kernel.accessAllowed ? 'block' : 'none';\n",
              "\n",
              "        async function convertToInteractive(key) {\n",
              "          const element = document.querySelector('#df-0672bbd0-da1c-4ac7-89f0-7ae9214e4ac8');\n",
              "          const dataTable =\n",
              "            await google.colab.kernel.invokeFunction('convertToInteractive',\n",
              "                                                     [key], {});\n",
              "          if (!dataTable) return;\n",
              "\n",
              "          const docLinkHtml = 'Like what you see? Visit the ' +\n",
              "            '<a target=\"_blank\" href=https://colab.research.google.com/notebooks/data_table.ipynb>data table notebook</a>'\n",
              "            + ' to learn more about interactive tables.';\n",
              "          element.innerHTML = '';\n",
              "          dataTable['output_type'] = 'display_data';\n",
              "          await google.colab.output.renderOutput(dataTable, element);\n",
              "          const docLink = document.createElement('div');\n",
              "          docLink.innerHTML = docLinkHtml;\n",
              "          element.appendChild(docLink);\n",
              "        }\n",
              "      </script>\n",
              "    </div>\n",
              "  </div>\n",
              "  "
            ]
          },
          "metadata": {},
          "execution_count": 10
        }
      ]
    },
    {
      "cell_type": "code",
      "execution_count": null,
      "metadata": {
        "scrolled": true,
        "id": "jTlTf3qfdPG7",
        "colab": {
          "base_uri": "https://localhost:8080/"
        },
        "outputId": "85242f9f-de24-4ae2-ee1e-56b2fe89f7b8"
      },
      "outputs": [
        {
          "output_type": "stream",
          "name": "stdout",
          "text": [
            "data.csv\n",
            "Trainset data dimensions: (2000, 2)\n"
          ]
        }
      ],
      "source": [
        "print(\"data.csv\")\n",
        "print(\"Trainset data dimensions: {}\".format(train_data.shape))"
      ]
    },
    {
      "cell_type": "markdown",
      "metadata": {
        "id": "zhSYz0fQdPG8"
      },
      "source": [
        "### 2.3. One hot encode the labels."
      ]
    },
    {
      "cell_type": "markdown",
      "metadata": {
        "id": "axOREztedPG_"
      },
      "source": [
        "- Give the letters with corresponding number in order to train model."
      ]
    },
    {
      "cell_type": "markdown",
      "metadata": {
        "id": "kAIiGFUudPHA"
      },
      "source": [
        "- Apply \"one_hot\" to get the corresponding one hot vectors."
      ]
    },
    {
      "cell_type": "code",
      "source": [
        "le = preprocessing.LabelEncoder()\n",
        "train_data[\"label\"] = le.fit_transform(train_data['values'])\n",
        "labels = train_data[\"label\"].to_list()\n",
        "n_classes = len(train_data[\"values\"].unique())\n",
        "\n",
        "indices = labels\n",
        "depth = n_classes\n",
        "labels = tf.one_hot(indices, depth, on_value=1.0, off_value=0.0)"
      ],
      "metadata": {
        "id": "My7XXTXXT3f4"
      },
      "execution_count": null,
      "outputs": []
    },
    {
      "cell_type": "markdown",
      "source": [
        "### 2.4. Create tensorflow dataset from images and ohe labels"
      ],
      "metadata": {
        "id": "lidcIptrhWyW"
      }
    },
    {
      "cell_type": "code",
      "source": [
        "im_dir = '/content/drive/MyDrive/images_train/'\n",
        "\n",
        "ext = ['png'] # Multiple images' formats accepted\n",
        "\n",
        "files = []\n",
        "[files.extend(glob.glob(im_dir + '*.' + e)) for e in ext]\n",
        "files.sort()\n",
        "\n",
        "filenames = tf.constant(files)\n",
        "len_data = len(train_data['id'])\n",
        "\n",
        "dataset = tf.data.Dataset.from_tensor_slices((filenames, labels))"
      ],
      "metadata": {
        "id": "WkKVchHxTrxl"
      },
      "execution_count": null,
      "outputs": []
    },
    {
      "cell_type": "markdown",
      "source": [
        "## 3. Preprocess images"
      ],
      "metadata": {
        "id": "8AvgG6Ncghvx"
      }
    },
    {
      "cell_type": "markdown",
      "source": [
        "### 3.1. Crop and cast to float\n",
        "- To normalize the values of the pixels we divide all values in the image by 255."
      ],
      "metadata": {
        "id": "ia6VtpecgnSt"
      }
    },
    {
      "cell_type": "code",
      "source": [
        "def _parse_function(filename, label):\n",
        "    image_string = tf.io.read_file(filename)\n",
        "    image_decoded = tf.image.decode_png(image_string, channels=3)\n",
        "    image_cropped = tf.image.crop_to_bounding_box(\n",
        "        image_decoded, 35, 56, 80, 72\n",
        "    )\n",
        "    image = tf.cast(image_cropped, tf.float32) / 255\n",
        "    \n",
        "    return image, label\n",
        "\n",
        "dataset = dataset.map(_parse_function)\n",
        "dataset = dataset.batch(len_data)\n",
        "\n",
        "iterator = iter(dataset)\n",
        "images, labels = iterator.get_next()"
      ],
      "metadata": {
        "id": "kAhqNZ0aU3jX"
      },
      "execution_count": null,
      "outputs": []
    },
    {
      "cell_type": "markdown",
      "metadata": {
        "id": "QhFs12gSdPG-"
      },
      "source": [
        "### 3.2. The next cell shows some examples of first preprocessing result."
      ]
    },
    {
      "cell_type": "code",
      "source": [
        "def print_examples(x, df):\n",
        "    fig, axs = plt.subplots(3, 5, figsize=(15, 6))\n",
        "    fig.subplots_adjust(hspace = .5, wspace=.001)\n",
        "\n",
        "    axs = axs.ravel()\n",
        "\n",
        "    for i in range(15):\n",
        "        axs[i].imshow(x[i])\n",
        "        axs[i].set_title(f\"{i}: {df.loc[i, 'values']}\")\n",
        "    \n",
        "print_examples(images, train_data)"
      ],
      "metadata": {
        "colab": {
          "base_uri": "https://localhost:8080/",
          "height": 390
        },
        "id": "KIu1zBHOVhBh",
        "outputId": "fef22ec4-aeab-4b7c-bce2-9fb23021a8a8"
      },
      "execution_count": null,
      "outputs": [
        {
          "output_type": "display_data",
          "data": {
            "text/plain": [
              "<Figure size 1080x432 with 15 Axes>"
            ],
            "image/png": "[encoded data removed]"
          },
          "metadata": {
            "needs_background": "light"
          }
        }
      ]
    },
    {
      "cell_type": "markdown",
      "source": [
        "### 3.3. Transform the images to grayscale."
      ],
      "metadata": {
        "id": "Dz8I6eU3hLFw"
      }
    },
    {
      "cell_type": "code",
      "execution_count": null,
      "metadata": {
        "id": "ctEkBZJvdPG-",
        "colab": {
          "base_uri": "https://localhost:8080/",
          "height": 267
        },
        "outputId": "cb19b3ea-1227-439b-f01d-ddae61d11659"
      },
      "outputs": [
        {
          "output_type": "display_data",
          "data": {
            "text/plain": [
              "<Figure size 432x288 with 1 Axes>"
            ],
            "image/png": "[encoded data removed]"
          },
          "metadata": {
            "needs_background": "light"
          }
        }
      ],
      "source": [
        "gray_images = tf.image.rgb_to_grayscale(images)\n",
        "gray_images = tf.image.resize(gray_images, [56,56])\n",
        "plt.imshow(gray_images[0].numpy().squeeze(axis=2), cmap='gray')\n",
        "\n",
        "shape = tf.shape(gray_images[0])"
      ]
    },
    {
      "cell_type": "code",
      "source": [
        "print(tf.shape(gray_images[0]))"
      ],
      "metadata": {
        "colab": {
          "base_uri": "https://localhost:8080/"
        },
        "id": "kqV36gAQWWA5",
        "outputId": "dd23be0f-f15b-4681-c6c4-6f38d97bb0aa"
      },
      "execution_count": null,
      "outputs": [
        {
          "output_type": "stream",
          "name": "stdout",
          "text": [
            "tf.Tensor([56 56  1], shape=(3,), dtype=int32)\n"
          ]
        }
      ]
    },
    {
      "cell_type": "markdown",
      "source": [
        "### 3.4. Data augmentation"
      ],
      "metadata": {
        "id": "3t4ZqekJiUrY"
      }
    },
    {
      "cell_type": "code",
      "source": [
        "data_augmentation = tf.keras.Sequential([\n",
        "    layers.RandomRotation(0.05),\n",
        "    # layers.RandomFlip(mode=\"horizontal_and_vertical\"),\n",
        "    # layers.RandomFlip(mode=\"horizontal\"), \n",
        "    layers.RandomZoom(\n",
        "        height_factor=(-0.3, 0),\n",
        "        width_factor=(-0.3, 0),\n",
        "        seed=42,\n",
        "    ), \n",
        "    # layers.GaussianNoise(stddev=0.01, seed=None)\n",
        "])\n",
        "\n",
        "aug_images = tf.concat([gray_images, data_augmentation(gray_images, training = True)], 0)\n",
        "labels_long = tf.concat([labels, labels], 0)\n",
        "data_len = len(labels_long)\n",
        "\n",
        "aug_images_1 = tf.concat([aug_images, data_augmentation(aug_images, training = True)], 0)\n",
        "labels_long_long = tf.concat([labels_long, labels_long], 0)\n",
        "data_len = len(labels_long_long)\n",
        "\n",
        "# aug_ds = tf.data.Dataset.from_tensor_slices((aug_images_1, labels_long_long))\n",
        "# aug_ds = aug_ds.shuffle(data_len, reshuffle_each_iteration=True)"
      ],
      "metadata": {
        "id": "a84Di6CGXSi3"
      },
      "execution_count": null,
      "outputs": []
    },
    {
      "cell_type": "markdown",
      "source": [
        "## 4. Experiments"
      ],
      "metadata": {
        "id": "qaVand1Oia7q"
      }
    },
    {
      "cell_type": "markdown",
      "source": [
        "### 4.1. Create a model"
      ],
      "metadata": {
        "id": "RbqGl_QTiuPF"
      }
    },
    {
      "cell_type": "code",
      "execution_count": null,
      "metadata": {
        "id": "NLli4OTadPHB"
      },
      "outputs": [],
      "source": [
        "# without aug\n",
        "def create_model_small_without_aug():\n",
        "  model = tf.keras.Sequential()\n",
        "\n",
        "  model.add(tf.keras.layers.Conv2D(32, kernel_size=(3, 3), activation=\"relu\", padding='same', input_shape=gray_images.shape[1:]))\n",
        "  model.add(tf.keras.layers.Conv2D(32, kernel_size=(3, 3), activation=\"relu\", padding='same'))\n",
        "  model.add(tf.keras.layers.MaxPooling2D(pool_size=(2, 2)))\n",
        "  model.add(tf.keras.layers.Dropout(rate=0.25))\n",
        "  model.add(tf.keras.layers.Flatten())\n",
        "  model.add(tf.keras.layers.Dense(512, activation=\"relu\"))\n",
        "  model.add(tf.keras.layers.Dropout(rate=0.5))\n",
        "  model.add(tf.keras.layers.Dense(128, activation=\"relu\"))\n",
        "  model.add(tf.keras.layers.Dropout(rate=0.5))\n",
        "  model.add(tf.keras.layers.Dense(30, activation=\"softmax\"))\n",
        "\n",
        "  model.compile(loss=\"categorical_crossentropy\", optimizer=\"adam\", metrics=[\"accuracy\"])\n",
        "\n",
        "  return model"
      ]
    },
    {
      "cell_type": "code",
      "execution_count": null,
      "metadata": {
        "scrolled": true,
        "id": "rcL39wmLdPHC"
      },
      "outputs": [],
      "source": [
        "# with aug\n",
        "def create_model_big_with_aug():\n",
        "  model = tf.keras.Sequential()\n",
        "\n",
        "  model.add(tf.keras.layers.Conv2D(32, kernel_size=(3, 3), activation=\"relu\", padding='same', input_shape=aug_images_1.shape[1:]))\n",
        "  model.add(tf.keras.layers.Conv2D(32, kernel_size=(3, 3), activation=\"relu\", padding='same'))\n",
        "  model.add(tf.keras.layers.MaxPooling2D(pool_size=(2, 2)))\n",
        "  model.add(tf.keras.layers.Dropout(rate=0.25))\n",
        "  model.add(tf.keras.layers.Flatten())\n",
        "  model.add(tf.keras.layers.Dense(512, activation=\"relu\"))\n",
        "  model.add(tf.keras.layers.Dropout(rate=0.5))\n",
        "  model.add(tf.keras.layers.Dense(128, activation=\"relu\"))\n",
        "  model.add(tf.keras.layers.Dropout(rate=0.5))\n",
        "  model.add(tf.keras.layers.Dense(30, activation=\"softmax\"))\n",
        "\n",
        "  model.compile(loss=\"categorical_crossentropy\", optimizer=\"adam\", metrics=[\"accuracy\"])\n",
        "\n",
        "  return model"
      ]
    },
    {
      "cell_type": "code",
      "source": [
        "validation_size = 0.2\n",
        "batch_size = 50\n",
        "epochs = 300\n",
        "\n",
        "model_small = create_model_small_without_aug()\n",
        "model_big = create_model_big_with_aug()"
      ],
      "metadata": {
        "id": "rYYLYc5Mj5DL"
      },
      "execution_count": null,
      "outputs": []
    },
    {
      "cell_type": "code",
      "source": [
        "model_small.summary(line_length=None, positions=None, print_fn=None)"
      ],
      "metadata": {
        "colab": {
          "base_uri": "https://localhost:8080/"
        },
        "id": "OUdOQxHglmWm",
        "outputId": "79d6e4cc-85c2-4e6e-cbaf-67c276138602"
      },
      "execution_count": null,
      "outputs": [
        {
          "output_type": "stream",
          "name": "stdout",
          "text": [
            "Model: \"sequential_13\"\n",
            "_________________________________________________________________\n",
            " Layer (type)                Output Shape              Param #   \n",
            "=================================================================\n",
            " conv2d_14 (Conv2D)          (None, 56, 56, 32)        320       \n",
            "                                                                 \n",
            " conv2d_15 (Conv2D)          (None, 56, 56, 32)        9248      \n",
            "                                                                 \n",
            " max_pooling2d_7 (MaxPooling  (None, 28, 28, 32)       0         \n",
            " 2D)                                                             \n",
            "                                                                 \n",
            " dropout_21 (Dropout)        (None, 28, 28, 32)        0         \n",
            "                                                                 \n",
            " flatten_7 (Flatten)         (None, 25088)             0         \n",
            "                                                                 \n",
            " dense_21 (Dense)            (None, 512)               12845568  \n",
            "                                                                 \n",
            " dropout_22 (Dropout)        (None, 512)               0         \n",
            "                                                                 \n",
            " dense_22 (Dense)            (None, 128)               65664     \n",
            "                                                                 \n",
            " dropout_23 (Dropout)        (None, 128)               0         \n",
            "                                                                 \n",
            " dense_23 (Dense)            (None, 30)                3870      \n",
            "                                                                 \n",
            "=================================================================\n",
            "Total params: 12,924,670\n",
            "Trainable params: 12,924,670\n",
            "Non-trainable params: 0\n",
            "_________________________________________________________________\n"
          ]
        }
      ]
    },
    {
      "cell_type": "code",
      "source": [
        "model_big.summary(line_length=None, positions=None, print_fn=None)"
      ],
      "metadata": {
        "colab": {
          "base_uri": "https://localhost:8080/"
        },
        "id": "-P09_kTClkHl",
        "outputId": "d03fa523-a275-4e46-b011-071f98808ab6"
      },
      "execution_count": null,
      "outputs": [
        {
          "output_type": "stream",
          "name": "stdout",
          "text": [
            "Model: \"sequential_19\"\n",
            "_________________________________________________________________\n",
            " Layer (type)                Output Shape              Param #   \n",
            "=================================================================\n",
            " conv2d_24 (Conv2D)          (None, 56, 56, 32)        320       \n",
            "                                                                 \n",
            " conv2d_25 (Conv2D)          (None, 56, 56, 32)        9248      \n",
            "                                                                 \n",
            " max_pooling2d_12 (MaxPoolin  (None, 28, 28, 32)       0         \n",
            " g2D)                                                            \n",
            "                                                                 \n",
            " dropout_36 (Dropout)        (None, 28, 28, 32)        0         \n",
            "                                                                 \n",
            " flatten_12 (Flatten)        (None, 25088)             0         \n",
            "                                                                 \n",
            " dense_36 (Dense)            (None, 512)               12845568  \n",
            "                                                                 \n",
            " dropout_37 (Dropout)        (None, 512)               0         \n",
            "                                                                 \n",
            " dense_37 (Dense)            (None, 128)               65664     \n",
            "                                                                 \n",
            " dropout_38 (Dropout)        (None, 128)               0         \n",
            "                                                                 \n",
            " dense_38 (Dense)            (None, 30)                3870      \n",
            "                                                                 \n",
            "=================================================================\n",
            "Total params: 12,924,670\n",
            "Trainable params: 12,924,670\n",
            "Non-trainable params: 0\n",
            "_________________________________________________________________\n"
          ]
        }
      ]
    },
    {
      "cell_type": "markdown",
      "source": [
        "### 4.2. Train models\n",
        "- Now we train a convolutional neural network using Conv2D layers and connected neural network."
      ],
      "metadata": {
        "id": "Cp7GM7n7mhfn"
      }
    },
    {
      "cell_type": "code",
      "source": [
        "# without aug\n",
        "history_small = model_small.fit(gray_images, labels, validation_split=validation_size, batch_size=batch_size, epochs=epochs)"
      ],
      "metadata": {
        "id": "iGYA3mcejxVc"
      },
      "execution_count": null,
      "outputs": []
    },
    {
      "cell_type": "code",
      "source": [
        "# with aug\n",
        "history_big = model_big.fit(aug_images_1, labels_long_long, validation_split=validation_size, batch_size=batch_size, epochs=epochs)"
      ],
      "metadata": {
        "colab": {
          "base_uri": "https://localhost:8080/"
        },
        "id": "EMw1U1Irj1ql",
        "outputId": "433287df-1441-4f06-94df-db80e0def6f0"
      },
      "execution_count": null,
      "outputs": [
        {
          "output_type": "stream",
          "name": "stdout",
          "text": [
            "Epoch 1/300\n",
            "128/128 [==============================] - 5s 32ms/step - loss: 3.3621 - accuracy: 0.0506 - val_loss: 3.0924 - val_accuracy: 0.1187\n",
            "Epoch 2/300\n",
            "128/128 [==============================] - 4s 30ms/step - loss: 2.7844 - accuracy: 0.1533 - val_loss: 2.4211 - val_accuracy: 0.2556\n",
            "Epoch 3/300\n",
            "128/128 [==============================] - 4s 29ms/step - loss: 2.1637 - accuracy: 0.2970 - val_loss: 2.0549 - val_accuracy: 0.3344\n",
            "Epoch 4/300\n",
            "128/128 [==============================] - 4s 29ms/step - loss: 1.7105 - accuracy: 0.4273 - val_loss: 1.7916 - val_accuracy: 0.4325\n",
            "Epoch 5/300\n",
            "128/128 [==============================] - 4s 29ms/step - loss: 1.3606 - accuracy: 0.5311 - val_loss: 1.5118 - val_accuracy: 0.5175\n",
            "Epoch 6/300\n",
            "128/128 [==============================] - 4s 29ms/step - loss: 1.0839 - accuracy: 0.6230 - val_loss: 1.3589 - val_accuracy: 0.5738\n",
            "Epoch 7/300\n",
            "128/128 [==============================] - 4s 29ms/step - loss: 0.9054 - accuracy: 0.6928 - val_loss: 1.2600 - val_accuracy: 0.6144\n",
            "Epoch 8/300\n",
            "128/128 [==============================] - 4s 29ms/step - loss: 0.7730 - accuracy: 0.7361 - val_loss: 1.1769 - val_accuracy: 0.6488\n",
            "Epoch 9/300\n",
            "128/128 [==============================] - 4s 29ms/step - loss: 0.6445 - accuracy: 0.7812 - val_loss: 1.1170 - val_accuracy: 0.6737\n",
            "Epoch 10/300\n",
            "128/128 [==============================] - 4s 29ms/step - loss: 0.5716 - accuracy: 0.8100 - val_loss: 1.0566 - val_accuracy: 0.6925\n",
            "Epoch 11/300\n",
            "128/128 [==============================] - 4s 29ms/step - loss: 0.4961 - accuracy: 0.8356 - val_loss: 1.0166 - val_accuracy: 0.7225\n",
            "Epoch 12/300\n",
            "128/128 [==============================] - 4s 29ms/step - loss: 0.4156 - accuracy: 0.8653 - val_loss: 1.0222 - val_accuracy: 0.7163\n",
            "Epoch 13/300\n",
            "128/128 [==============================] - 4s 29ms/step - loss: 0.3846 - accuracy: 0.8755 - val_loss: 0.9937 - val_accuracy: 0.7175\n",
            "Epoch 14/300\n",
            "128/128 [==============================] - 4s 29ms/step - loss: 0.3175 - accuracy: 0.8944 - val_loss: 1.0279 - val_accuracy: 0.7188\n",
            "Epoch 15/300\n",
            "128/128 [==============================] - 4s 29ms/step - loss: 0.3168 - accuracy: 0.8986 - val_loss: 0.9322 - val_accuracy: 0.7412\n",
            "Epoch 16/300\n",
            "128/128 [==============================] - 4s 29ms/step - loss: 0.2996 - accuracy: 0.9028 - val_loss: 1.0162 - val_accuracy: 0.7163\n",
            "Epoch 17/300\n",
            "128/128 [==============================] - 4s 29ms/step - loss: 0.2675 - accuracy: 0.9137 - val_loss: 0.9987 - val_accuracy: 0.7294\n",
            "Epoch 18/300\n",
            "128/128 [==============================] - 4s 29ms/step - loss: 0.2423 - accuracy: 0.9233 - val_loss: 0.9823 - val_accuracy: 0.7531\n",
            "Epoch 19/300\n",
            "128/128 [==============================] - 4s 29ms/step - loss: 0.2280 - accuracy: 0.9253 - val_loss: 1.0019 - val_accuracy: 0.7544\n",
            "Epoch 20/300\n",
            "128/128 [==============================] - 4s 29ms/step - loss: 0.2291 - accuracy: 0.9256 - val_loss: 0.9788 - val_accuracy: 0.7525\n",
            "Epoch 21/300\n",
            "128/128 [==============================] - 4s 29ms/step - loss: 0.2137 - accuracy: 0.9341 - val_loss: 1.0700 - val_accuracy: 0.7350\n",
            "Epoch 22/300\n",
            "128/128 [==============================] - 4s 29ms/step - loss: 0.1872 - accuracy: 0.9405 - val_loss: 0.9643 - val_accuracy: 0.7594\n",
            "Epoch 23/300\n",
            "128/128 [==============================] - 4s 29ms/step - loss: 0.1791 - accuracy: 0.9453 - val_loss: 1.0397 - val_accuracy: 0.7431\n",
            "Epoch 24/300\n",
            "128/128 [==============================] - 4s 29ms/step - loss: 0.1756 - accuracy: 0.9445 - val_loss: 0.9564 - val_accuracy: 0.7688\n",
            "Epoch 25/300\n",
            "128/128 [==============================] - 4s 29ms/step - loss: 0.1639 - accuracy: 0.9455 - val_loss: 1.0399 - val_accuracy: 0.7575\n",
            "Epoch 26/300\n",
            "128/128 [==============================] - 4s 30ms/step - loss: 0.1594 - accuracy: 0.9517 - val_loss: 1.0424 - val_accuracy: 0.7538\n",
            "Epoch 27/300\n",
            "128/128 [==============================] - 4s 29ms/step - loss: 0.1589 - accuracy: 0.9508 - val_loss: 0.9956 - val_accuracy: 0.7663\n",
            "Epoch 28/300\n",
            "128/128 [==============================] - 4s 30ms/step - loss: 0.1286 - accuracy: 0.9592 - val_loss: 1.0762 - val_accuracy: 0.7450\n",
            "Epoch 29/300\n",
            "128/128 [==============================] - 4s 30ms/step - loss: 0.1395 - accuracy: 0.9541 - val_loss: 0.9744 - val_accuracy: 0.7744\n",
            "Epoch 30/300\n",
            "128/128 [==============================] - 4s 29ms/step - loss: 0.1382 - accuracy: 0.9548 - val_loss: 0.9594 - val_accuracy: 0.7738\n",
            "Epoch 31/300\n",
            "128/128 [==============================] - 4s 30ms/step - loss: 0.1292 - accuracy: 0.9580 - val_loss: 0.9715 - val_accuracy: 0.7750\n",
            "Epoch 32/300\n",
            "128/128 [==============================] - 4s 29ms/step - loss: 0.1198 - accuracy: 0.9625 - val_loss: 0.9633 - val_accuracy: 0.7744\n",
            "Epoch 33/300\n",
            "128/128 [==============================] - 4s 30ms/step - loss: 0.1255 - accuracy: 0.9603 - val_loss: 0.9334 - val_accuracy: 0.7812\n",
            "Epoch 34/300\n",
            "128/128 [==============================] - 4s 29ms/step - loss: 0.1184 - accuracy: 0.9622 - val_loss: 1.0017 - val_accuracy: 0.7756\n",
            "Epoch 35/300\n",
            "128/128 [==============================] - 4s 29ms/step - loss: 0.1160 - accuracy: 0.9631 - val_loss: 1.0517 - val_accuracy: 0.7744\n",
            "Epoch 36/300\n",
            "128/128 [==============================] - 4s 29ms/step - loss: 0.1020 - accuracy: 0.9691 - val_loss: 1.0192 - val_accuracy: 0.7731\n",
            "Epoch 37/300\n",
            "128/128 [==============================] - 4s 30ms/step - loss: 0.1102 - accuracy: 0.9659 - val_loss: 1.0400 - val_accuracy: 0.7763\n",
            "Epoch 38/300\n",
            "128/128 [==============================] - 4s 29ms/step - loss: 0.0948 - accuracy: 0.9712 - val_loss: 1.0571 - val_accuracy: 0.7775\n",
            "Epoch 39/300\n",
            "128/128 [==============================] - 4s 29ms/step - loss: 0.0928 - accuracy: 0.9702 - val_loss: 1.1623 - val_accuracy: 0.7681\n",
            "Epoch 40/300\n",
            "128/128 [==============================] - 4s 29ms/step - loss: 0.1025 - accuracy: 0.9698 - val_loss: 1.0667 - val_accuracy: 0.7788\n",
            "Epoch 41/300\n",
            "128/128 [==============================] - 4s 29ms/step - loss: 0.0984 - accuracy: 0.9692 - val_loss: 1.0766 - val_accuracy: 0.7763\n",
            "Epoch 42/300\n",
            "128/128 [==============================] - 4s 29ms/step - loss: 0.0957 - accuracy: 0.9716 - val_loss: 0.9694 - val_accuracy: 0.7819\n",
            "Epoch 43/300\n",
            "128/128 [==============================] - 4s 29ms/step - loss: 0.1006 - accuracy: 0.9686 - val_loss: 1.1454 - val_accuracy: 0.7744\n",
            "Epoch 44/300\n",
            "128/128 [==============================] - 4s 29ms/step - loss: 0.0891 - accuracy: 0.9728 - val_loss: 0.9875 - val_accuracy: 0.7812\n",
            "Epoch 45/300\n",
            "128/128 [==============================] - 4s 29ms/step - loss: 0.0870 - accuracy: 0.9723 - val_loss: 1.0262 - val_accuracy: 0.7844\n",
            "Epoch 46/300\n",
            "128/128 [==============================] - 4s 29ms/step - loss: 0.0902 - accuracy: 0.9741 - val_loss: 1.0514 - val_accuracy: 0.7756\n",
            "Epoch 47/300\n",
            "128/128 [==============================] - 4s 29ms/step - loss: 0.0957 - accuracy: 0.9689 - val_loss: 0.9796 - val_accuracy: 0.7837\n",
            "Epoch 48/300\n",
            "128/128 [==============================] - 4s 29ms/step - loss: 0.0844 - accuracy: 0.9739 - val_loss: 1.0347 - val_accuracy: 0.7812\n",
            "Epoch 49/300\n",
            "128/128 [==============================] - 4s 29ms/step - loss: 0.0830 - accuracy: 0.9752 - val_loss: 1.0468 - val_accuracy: 0.7806\n",
            "Epoch 50/300\n",
            "128/128 [==============================] - 4s 30ms/step - loss: 0.0739 - accuracy: 0.9797 - val_loss: 1.0679 - val_accuracy: 0.7800\n",
            "Epoch 51/300\n",
            "128/128 [==============================] - 4s 29ms/step - loss: 0.0648 - accuracy: 0.9775 - val_loss: 1.0043 - val_accuracy: 0.7881\n",
            "Epoch 52/300\n",
            "128/128 [==============================] - 4s 29ms/step - loss: 0.0829 - accuracy: 0.9756 - val_loss: 0.9872 - val_accuracy: 0.7912\n",
            "Epoch 53/300\n",
            "128/128 [==============================] - 4s 29ms/step - loss: 0.0937 - accuracy: 0.9734 - val_loss: 0.9879 - val_accuracy: 0.7856\n",
            "Epoch 54/300\n",
            "128/128 [==============================] - 4s 29ms/step - loss: 0.0763 - accuracy: 0.9778 - val_loss: 1.0611 - val_accuracy: 0.7831\n",
            "Epoch 55/300\n",
            "128/128 [==============================] - 4s 29ms/step - loss: 0.1196 - accuracy: 0.9652 - val_loss: 0.9702 - val_accuracy: 0.7781\n",
            "Epoch 56/300\n",
            "128/128 [==============================] - 4s 29ms/step - loss: 0.0600 - accuracy: 0.9812 - val_loss: 1.1211 - val_accuracy: 0.7713\n",
            "Epoch 57/300\n",
            "128/128 [==============================] - 4s 30ms/step - loss: 0.0681 - accuracy: 0.9797 - val_loss: 1.0827 - val_accuracy: 0.7781\n",
            "Epoch 58/300\n",
            "128/128 [==============================] - 4s 29ms/step - loss: 0.0827 - accuracy: 0.9762 - val_loss: 1.1325 - val_accuracy: 0.7763\n",
            "Epoch 59/300\n",
            "128/128 [==============================] - 4s 30ms/step - loss: 0.0587 - accuracy: 0.9825 - val_loss: 1.0873 - val_accuracy: 0.7825\n",
            "Epoch 60/300\n",
            "128/128 [==============================] - 4s 29ms/step - loss: 0.0693 - accuracy: 0.9759 - val_loss: 1.0262 - val_accuracy: 0.7937\n",
            "Epoch 61/300\n",
            "128/128 [==============================] - 4s 29ms/step - loss: 0.0640 - accuracy: 0.9787 - val_loss: 1.0581 - val_accuracy: 0.7825\n",
            "Epoch 62/300\n",
            "128/128 [==============================] - 4s 29ms/step - loss: 0.0782 - accuracy: 0.9762 - val_loss: 0.9860 - val_accuracy: 0.7975\n",
            "Epoch 63/300\n",
            "128/128 [==============================] - 4s 29ms/step - loss: 0.1858 - accuracy: 0.9467 - val_loss: 1.1453 - val_accuracy: 0.7525\n",
            "Epoch 64/300\n",
            "128/128 [==============================] - 4s 29ms/step - loss: 0.0803 - accuracy: 0.9781 - val_loss: 1.0394 - val_accuracy: 0.7831\n",
            "Epoch 65/300\n",
            "128/128 [==============================] - 4s 29ms/step - loss: 0.0570 - accuracy: 0.9811 - val_loss: 1.1501 - val_accuracy: 0.7975\n",
            "Epoch 66/300\n",
            "128/128 [==============================] - 4s 29ms/step - loss: 0.0535 - accuracy: 0.9814 - val_loss: 1.2740 - val_accuracy: 0.7725\n",
            "Epoch 67/300\n",
            "128/128 [==============================] - 4s 29ms/step - loss: 0.0604 - accuracy: 0.9827 - val_loss: 1.1696 - val_accuracy: 0.7850\n",
            "Epoch 68/300\n",
            "128/128 [==============================] - 4s 29ms/step - loss: 0.0593 - accuracy: 0.9814 - val_loss: 1.0763 - val_accuracy: 0.7956\n",
            "Epoch 69/300\n",
            "128/128 [==============================] - 4s 29ms/step - loss: 0.0607 - accuracy: 0.9819 - val_loss: 1.0283 - val_accuracy: 0.7900\n",
            "Epoch 70/300\n",
            "128/128 [==============================] - 4s 30ms/step - loss: 0.0549 - accuracy: 0.9834 - val_loss: 1.0393 - val_accuracy: 0.7956\n",
            "Epoch 71/300\n",
            "128/128 [==============================] - 4s 29ms/step - loss: 0.0497 - accuracy: 0.9845 - val_loss: 1.0948 - val_accuracy: 0.7794\n",
            "Epoch 72/300\n",
            "128/128 [==============================] - 4s 29ms/step - loss: 0.0448 - accuracy: 0.9877 - val_loss: 1.1440 - val_accuracy: 0.7869\n",
            "Epoch 73/300\n",
            "128/128 [==============================] - 4s 29ms/step - loss: 0.0448 - accuracy: 0.9844 - val_loss: 1.1185 - val_accuracy: 0.7937\n",
            "Epoch 74/300\n",
            "128/128 [==============================] - 4s 29ms/step - loss: 0.0520 - accuracy: 0.9811 - val_loss: 0.9629 - val_accuracy: 0.7962\n",
            "Epoch 75/300\n",
            "128/128 [==============================] - 4s 30ms/step - loss: 0.0500 - accuracy: 0.9859 - val_loss: 0.9975 - val_accuracy: 0.7956\n",
            "Epoch 76/300\n",
            "128/128 [==============================] - 4s 30ms/step - loss: 0.0625 - accuracy: 0.9791 - val_loss: 1.0250 - val_accuracy: 0.7987\n",
            "Epoch 77/300\n",
            "128/128 [==============================] - 4s 30ms/step - loss: 0.0546 - accuracy: 0.9830 - val_loss: 1.1765 - val_accuracy: 0.7806\n",
            "Epoch 78/300\n",
            "128/128 [==============================] - 4s 30ms/step - loss: 0.0546 - accuracy: 0.9850 - val_loss: 1.1425 - val_accuracy: 0.7956\n",
            "Epoch 79/300\n",
            "128/128 [==============================] - 4s 29ms/step - loss: 0.0570 - accuracy: 0.9825 - val_loss: 1.0176 - val_accuracy: 0.8012\n",
            "Epoch 80/300\n",
            "128/128 [==============================] - 4s 30ms/step - loss: 0.0523 - accuracy: 0.9839 - val_loss: 1.1541 - val_accuracy: 0.7894\n",
            "Epoch 81/300\n",
            "128/128 [==============================] - 4s 29ms/step - loss: 0.0516 - accuracy: 0.9837 - val_loss: 1.1231 - val_accuracy: 0.7869\n",
            "Epoch 82/300\n",
            "128/128 [==============================] - 4s 30ms/step - loss: 0.0694 - accuracy: 0.9787 - val_loss: 1.1307 - val_accuracy: 0.7869\n",
            "Epoch 83/300\n",
            "128/128 [==============================] - 4s 30ms/step - loss: 0.0506 - accuracy: 0.9834 - val_loss: 0.9732 - val_accuracy: 0.8062\n",
            "Epoch 84/300\n",
            "128/128 [==============================] - 4s 29ms/step - loss: 0.0536 - accuracy: 0.9827 - val_loss: 1.0163 - val_accuracy: 0.7969\n",
            "Epoch 85/300\n",
            "128/128 [==============================] - 4s 30ms/step - loss: 0.0535 - accuracy: 0.9842 - val_loss: 1.0823 - val_accuracy: 0.8006\n",
            "Epoch 86/300\n",
            "128/128 [==============================] - 4s 29ms/step - loss: 0.0386 - accuracy: 0.9875 - val_loss: 1.1904 - val_accuracy: 0.7919\n",
            "Epoch 87/300\n",
            "128/128 [==============================] - 4s 29ms/step - loss: 0.0518 - accuracy: 0.9850 - val_loss: 1.1237 - val_accuracy: 0.7950\n",
            "Epoch 88/300\n",
            "128/128 [==============================] - 4s 29ms/step - loss: 0.0751 - accuracy: 0.9783 - val_loss: 0.9397 - val_accuracy: 0.8100\n",
            "Epoch 89/300\n",
            "128/128 [==============================] - 4s 30ms/step - loss: 0.0459 - accuracy: 0.9848 - val_loss: 0.9761 - val_accuracy: 0.7894\n",
            "Epoch 90/300\n",
            "128/128 [==============================] - 4s 29ms/step - loss: 0.0528 - accuracy: 0.9870 - val_loss: 0.9700 - val_accuracy: 0.7950\n",
            "Epoch 91/300\n",
            "128/128 [==============================] - 4s 30ms/step - loss: 0.0426 - accuracy: 0.9858 - val_loss: 1.0317 - val_accuracy: 0.7981\n",
            "Epoch 92/300\n",
            "128/128 [==============================] - 4s 30ms/step - loss: 0.0486 - accuracy: 0.9856 - val_loss: 1.0781 - val_accuracy: 0.7962\n",
            "Epoch 93/300\n",
            "128/128 [==============================] - 4s 29ms/step - loss: 0.0420 - accuracy: 0.9875 - val_loss: 1.2433 - val_accuracy: 0.7919\n",
            "Epoch 94/300\n",
            "128/128 [==============================] - 4s 30ms/step - loss: 0.0430 - accuracy: 0.9856 - val_loss: 1.3933 - val_accuracy: 0.7731\n",
            "Epoch 95/300\n",
            "128/128 [==============================] - 4s 30ms/step - loss: 0.0572 - accuracy: 0.9830 - val_loss: 1.1414 - val_accuracy: 0.7881\n",
            "Epoch 96/300\n",
            "128/128 [==============================] - 4s 30ms/step - loss: 0.0477 - accuracy: 0.9880 - val_loss: 1.1804 - val_accuracy: 0.7906\n",
            "Epoch 97/300\n",
            "128/128 [==============================] - 4s 29ms/step - loss: 0.0413 - accuracy: 0.9872 - val_loss: 1.3549 - val_accuracy: 0.7725\n",
            "Epoch 98/300\n",
            "128/128 [==============================] - 4s 30ms/step - loss: 0.0533 - accuracy: 0.9867 - val_loss: 1.0594 - val_accuracy: 0.8025\n",
            "Epoch 99/300\n",
            "128/128 [==============================] - 4s 29ms/step - loss: 0.0463 - accuracy: 0.9855 - val_loss: 1.1042 - val_accuracy: 0.7987\n",
            "Epoch 100/300\n",
            "128/128 [==============================] - 4s 29ms/step - loss: 0.0349 - accuracy: 0.9887 - val_loss: 1.2950 - val_accuracy: 0.7969\n",
            "Epoch 101/300\n",
            "128/128 [==============================] - 4s 29ms/step - loss: 0.0458 - accuracy: 0.9877 - val_loss: 1.1011 - val_accuracy: 0.8000\n",
            "Epoch 102/300\n",
            "128/128 [==============================] - 4s 30ms/step - loss: 0.0416 - accuracy: 0.9862 - val_loss: 1.1546 - val_accuracy: 0.7975\n",
            "Epoch 103/300\n",
            "128/128 [==============================] - 4s 30ms/step - loss: 0.0447 - accuracy: 0.9878 - val_loss: 1.1044 - val_accuracy: 0.7969\n",
            "Epoch 104/300\n",
            "128/128 [==============================] - 4s 29ms/step - loss: 0.0438 - accuracy: 0.9869 - val_loss: 1.0901 - val_accuracy: 0.7900\n",
            "Epoch 105/300\n",
            "128/128 [==============================] - 4s 29ms/step - loss: 0.0489 - accuracy: 0.9844 - val_loss: 1.1573 - val_accuracy: 0.8031\n",
            "Epoch 106/300\n",
            "128/128 [==============================] - 4s 30ms/step - loss: 0.0323 - accuracy: 0.9902 - val_loss: 1.2283 - val_accuracy: 0.8025\n",
            "Epoch 107/300\n",
            "128/128 [==============================] - 4s 31ms/step - loss: 0.0334 - accuracy: 0.9897 - val_loss: 1.0947 - val_accuracy: 0.8006\n",
            "Epoch 108/300\n",
            "128/128 [==============================] - 4s 30ms/step - loss: 0.0487 - accuracy: 0.9866 - val_loss: 1.2497 - val_accuracy: 0.7812\n",
            "Epoch 109/300\n",
            "128/128 [==============================] - 4s 30ms/step - loss: 0.0497 - accuracy: 0.9864 - val_loss: 1.2028 - val_accuracy: 0.7906\n",
            "Epoch 110/300\n",
            "128/128 [==============================] - 4s 30ms/step - loss: 0.0427 - accuracy: 0.9867 - val_loss: 1.1261 - val_accuracy: 0.8012\n",
            "Epoch 111/300\n",
            "128/128 [==============================] - 4s 30ms/step - loss: 0.0437 - accuracy: 0.9894 - val_loss: 1.1484 - val_accuracy: 0.7744\n",
            "Epoch 112/300\n",
            "128/128 [==============================] - 4s 30ms/step - loss: 0.0433 - accuracy: 0.9881 - val_loss: 1.0886 - val_accuracy: 0.8000\n",
            "Epoch 113/300\n",
            "128/128 [==============================] - 4s 30ms/step - loss: 0.0430 - accuracy: 0.9877 - val_loss: 1.1430 - val_accuracy: 0.7894\n",
            "Epoch 114/300\n",
            "128/128 [==============================] - 4s 30ms/step - loss: 0.0449 - accuracy: 0.9884 - val_loss: 1.1728 - val_accuracy: 0.8044\n",
            "Epoch 115/300\n",
            "128/128 [==============================] - 4s 30ms/step - loss: 0.0386 - accuracy: 0.9877 - val_loss: 1.1954 - val_accuracy: 0.8069\n",
            "Epoch 116/300\n",
            "128/128 [==============================] - 4s 30ms/step - loss: 0.0426 - accuracy: 0.9881 - val_loss: 1.2117 - val_accuracy: 0.7944\n",
            "Epoch 117/300\n",
            "128/128 [==============================] - 4s 30ms/step - loss: 0.0404 - accuracy: 0.9886 - val_loss: 1.1448 - val_accuracy: 0.7981\n",
            "Epoch 118/300\n",
            "128/128 [==============================] - 4s 30ms/step - loss: 0.0390 - accuracy: 0.9894 - val_loss: 1.0527 - val_accuracy: 0.8056\n",
            "Epoch 119/300\n",
            "128/128 [==============================] - 4s 30ms/step - loss: 0.0419 - accuracy: 0.9869 - val_loss: 1.1405 - val_accuracy: 0.8019\n",
            "Epoch 120/300\n",
            "128/128 [==============================] - 4s 30ms/step - loss: 0.0345 - accuracy: 0.9894 - val_loss: 1.3221 - val_accuracy: 0.8044\n",
            "Epoch 121/300\n",
            "128/128 [==============================] - 4s 29ms/step - loss: 0.0330 - accuracy: 0.9898 - val_loss: 1.2675 - val_accuracy: 0.7981\n",
            "Epoch 122/300\n",
            "128/128 [==============================] - 4s 29ms/step - loss: 0.0422 - accuracy: 0.9861 - val_loss: 1.3004 - val_accuracy: 0.7869\n",
            "Epoch 123/300\n",
            "128/128 [==============================] - 4s 30ms/step - loss: 0.0371 - accuracy: 0.9898 - val_loss: 1.3463 - val_accuracy: 0.8019\n",
            "Epoch 124/300\n",
            "128/128 [==============================] - 4s 29ms/step - loss: 0.0493 - accuracy: 0.9872 - val_loss: 1.2075 - val_accuracy: 0.7975\n",
            "Epoch 125/300\n",
            "128/128 [==============================] - 4s 30ms/step - loss: 0.0456 - accuracy: 0.9887 - val_loss: 1.0392 - val_accuracy: 0.8019\n",
            "Epoch 126/300\n",
            "128/128 [==============================] - 4s 30ms/step - loss: 0.0346 - accuracy: 0.9897 - val_loss: 1.1623 - val_accuracy: 0.8106\n",
            "Epoch 127/300\n",
            "128/128 [==============================] - 4s 30ms/step - loss: 0.0289 - accuracy: 0.9905 - val_loss: 1.2351 - val_accuracy: 0.8019\n",
            "Epoch 128/300\n",
            "128/128 [==============================] - 4s 29ms/step - loss: 0.0382 - accuracy: 0.9891 - val_loss: 1.3465 - val_accuracy: 0.7669\n",
            "Epoch 129/300\n",
            "128/128 [==============================] - 4s 30ms/step - loss: 0.0432 - accuracy: 0.9872 - val_loss: 1.1188 - val_accuracy: 0.8012\n",
            "Epoch 130/300\n",
            "128/128 [==============================] - 4s 30ms/step - loss: 0.0591 - accuracy: 0.9833 - val_loss: 1.3503 - val_accuracy: 0.7994\n",
            "Epoch 131/300\n",
            "128/128 [==============================] - 4s 30ms/step - loss: 0.0377 - accuracy: 0.9895 - val_loss: 1.1389 - val_accuracy: 0.8144\n",
            "Epoch 132/300\n",
            "128/128 [==============================] - 4s 29ms/step - loss: 0.0336 - accuracy: 0.9900 - val_loss: 1.2355 - val_accuracy: 0.8069\n",
            "Epoch 133/300\n",
            "128/128 [==============================] - 4s 29ms/step - loss: 0.0398 - accuracy: 0.9887 - val_loss: 1.1777 - val_accuracy: 0.8094\n",
            "Epoch 134/300\n",
            "128/128 [==============================] - 4s 30ms/step - loss: 0.0265 - accuracy: 0.9928 - val_loss: 1.3161 - val_accuracy: 0.7956\n",
            "Epoch 135/300\n",
            "128/128 [==============================] - 4s 30ms/step - loss: 0.0422 - accuracy: 0.9887 - val_loss: 1.2715 - val_accuracy: 0.7969\n",
            "Epoch 136/300\n",
            "128/128 [==============================] - 4s 30ms/step - loss: 0.0270 - accuracy: 0.9919 - val_loss: 1.2448 - val_accuracy: 0.8056\n",
            "Epoch 137/300\n",
            "128/128 [==============================] - 4s 30ms/step - loss: 0.0316 - accuracy: 0.9919 - val_loss: 1.1999 - val_accuracy: 0.8163\n",
            "Epoch 138/300\n",
            "128/128 [==============================] - 4s 30ms/step - loss: 0.0405 - accuracy: 0.9894 - val_loss: 1.1563 - val_accuracy: 0.8100\n",
            "Epoch 139/300\n",
            "128/128 [==============================] - 4s 30ms/step - loss: 0.0357 - accuracy: 0.9872 - val_loss: 1.3254 - val_accuracy: 0.8019\n",
            "Epoch 140/300\n",
            "128/128 [==============================] - 4s 30ms/step - loss: 0.0342 - accuracy: 0.9883 - val_loss: 1.2264 - val_accuracy: 0.8213\n",
            "Epoch 141/300\n",
            "128/128 [==============================] - 4s 29ms/step - loss: 0.0375 - accuracy: 0.9889 - val_loss: 1.1167 - val_accuracy: 0.8144\n",
            "Epoch 142/300\n",
            "128/128 [==============================] - 4s 30ms/step - loss: 0.0334 - accuracy: 0.9878 - val_loss: 1.3368 - val_accuracy: 0.7931\n",
            "Epoch 143/300\n",
            "128/128 [==============================] - 4s 30ms/step - loss: 0.0438 - accuracy: 0.9883 - val_loss: 1.2442 - val_accuracy: 0.7931\n",
            "Epoch 144/300\n",
            "128/128 [==============================] - 4s 29ms/step - loss: 0.0382 - accuracy: 0.9900 - val_loss: 1.1731 - val_accuracy: 0.8131\n",
            "Epoch 145/300\n",
            "128/128 [==============================] - 4s 30ms/step - loss: 0.0308 - accuracy: 0.9911 - val_loss: 1.1823 - val_accuracy: 0.8094\n",
            "Epoch 146/300\n",
            "128/128 [==============================] - 4s 29ms/step - loss: 0.0214 - accuracy: 0.9939 - val_loss: 1.1120 - val_accuracy: 0.8156\n",
            "Epoch 147/300\n",
            "128/128 [==============================] - 4s 30ms/step - loss: 0.0259 - accuracy: 0.9931 - val_loss: 1.4267 - val_accuracy: 0.8087\n",
            "Epoch 148/300\n",
            "128/128 [==============================] - 4s 30ms/step - loss: 0.0317 - accuracy: 0.9922 - val_loss: 1.2852 - val_accuracy: 0.8056\n",
            "Epoch 149/300\n",
            "128/128 [==============================] - 4s 30ms/step - loss: 0.0404 - accuracy: 0.9891 - val_loss: 1.2605 - val_accuracy: 0.8037\n",
            "Epoch 150/300\n",
            "128/128 [==============================] - 4s 30ms/step - loss: 0.0306 - accuracy: 0.9920 - val_loss: 1.1378 - val_accuracy: 0.8125\n",
            "Epoch 151/300\n",
            "128/128 [==============================] - 4s 30ms/step - loss: 0.0287 - accuracy: 0.9911 - val_loss: 1.2675 - val_accuracy: 0.8150\n",
            "Epoch 152/300\n",
            "128/128 [==============================] - 4s 30ms/step - loss: 0.0265 - accuracy: 0.9916 - val_loss: 1.2290 - val_accuracy: 0.8062\n",
            "Epoch 153/300\n",
            "128/128 [==============================] - 4s 30ms/step - loss: 0.0340 - accuracy: 0.9902 - val_loss: 1.1083 - val_accuracy: 0.8188\n",
            "Epoch 154/300\n",
            "128/128 [==============================] - 4s 30ms/step - loss: 0.0312 - accuracy: 0.9917 - val_loss: 1.2171 - val_accuracy: 0.8087\n",
            "Epoch 155/300\n",
            "128/128 [==============================] - 4s 29ms/step - loss: 0.0329 - accuracy: 0.9911 - val_loss: 1.3129 - val_accuracy: 0.8037\n",
            "Epoch 156/300\n",
            "128/128 [==============================] - 4s 30ms/step - loss: 0.0261 - accuracy: 0.9923 - val_loss: 1.1839 - val_accuracy: 0.8181\n",
            "Epoch 157/300\n",
            "128/128 [==============================] - 4s 30ms/step - loss: 0.0341 - accuracy: 0.9903 - val_loss: 1.2696 - val_accuracy: 0.7981\n",
            "Epoch 158/300\n",
            "128/128 [==============================] - 4s 30ms/step - loss: 0.0356 - accuracy: 0.9895 - val_loss: 1.2062 - val_accuracy: 0.7981\n",
            "Epoch 159/300\n",
            "128/128 [==============================] - 4s 30ms/step - loss: 0.0344 - accuracy: 0.9909 - val_loss: 1.2274 - val_accuracy: 0.8050\n",
            "Epoch 160/300\n",
            "128/128 [==============================] - 4s 30ms/step - loss: 0.0460 - accuracy: 0.9878 - val_loss: 1.1705 - val_accuracy: 0.7994\n",
            "Epoch 161/300\n",
            "128/128 [==============================] - 4s 30ms/step - loss: 0.0431 - accuracy: 0.9881 - val_loss: 1.1839 - val_accuracy: 0.8012\n",
            "Epoch 162/300\n",
            "128/128 [==============================] - 4s 30ms/step - loss: 0.0326 - accuracy: 0.9902 - val_loss: 1.3448 - val_accuracy: 0.7881\n",
            "Epoch 163/300\n",
            "128/128 [==============================] - 4s 30ms/step - loss: 0.0381 - accuracy: 0.9886 - val_loss: 1.0210 - val_accuracy: 0.8163\n",
            "Epoch 164/300\n",
            "128/128 [==============================] - 4s 30ms/step - loss: 0.0441 - accuracy: 0.9880 - val_loss: 1.1623 - val_accuracy: 0.8075\n",
            "Epoch 165/300\n",
            "128/128 [==============================] - 4s 30ms/step - loss: 0.0285 - accuracy: 0.9919 - val_loss: 1.1621 - val_accuracy: 0.8138\n",
            "Epoch 166/300\n",
            "128/128 [==============================] - 4s 30ms/step - loss: 0.0313 - accuracy: 0.9922 - val_loss: 1.2532 - val_accuracy: 0.8131\n",
            "Epoch 167/300\n",
            "128/128 [==============================] - 4s 30ms/step - loss: 0.0246 - accuracy: 0.9927 - val_loss: 1.0659 - val_accuracy: 0.8069\n",
            "Epoch 168/300\n",
            "128/128 [==============================] - 4s 30ms/step - loss: 0.0285 - accuracy: 0.9914 - val_loss: 1.1421 - val_accuracy: 0.7994\n",
            "Epoch 169/300\n",
            "128/128 [==============================] - 4s 30ms/step - loss: 0.0285 - accuracy: 0.9912 - val_loss: 1.1555 - val_accuracy: 0.8100\n",
            "Epoch 170/300\n",
            "128/128 [==============================] - 4s 30ms/step - loss: 0.0264 - accuracy: 0.9925 - val_loss: 1.1269 - val_accuracy: 0.8225\n",
            "Epoch 171/300\n",
            "128/128 [==============================] - 4s 29ms/step - loss: 0.0281 - accuracy: 0.9919 - val_loss: 1.5101 - val_accuracy: 0.7869\n",
            "Epoch 172/300\n",
            "128/128 [==============================] - 4s 30ms/step - loss: 0.0355 - accuracy: 0.9906 - val_loss: 1.1221 - val_accuracy: 0.8112\n",
            "Epoch 173/300\n",
            "128/128 [==============================] - 4s 30ms/step - loss: 0.0245 - accuracy: 0.9917 - val_loss: 1.3318 - val_accuracy: 0.7975\n",
            "Epoch 174/300\n",
            "128/128 [==============================] - 4s 29ms/step - loss: 0.0338 - accuracy: 0.9916 - val_loss: 1.2993 - val_accuracy: 0.8081\n",
            "Epoch 175/300\n",
            "128/128 [==============================] - 4s 30ms/step - loss: 0.0289 - accuracy: 0.9917 - val_loss: 1.2758 - val_accuracy: 0.7937\n",
            "Epoch 176/300\n",
            "128/128 [==============================] - 4s 30ms/step - loss: 0.0318 - accuracy: 0.9908 - val_loss: 1.0838 - val_accuracy: 0.8112\n",
            "Epoch 177/300\n",
            "128/128 [==============================] - 4s 30ms/step - loss: 0.0438 - accuracy: 0.9869 - val_loss: 1.5442 - val_accuracy: 0.7962\n",
            "Epoch 178/300\n",
            "128/128 [==============================] - 4s 29ms/step - loss: 0.0267 - accuracy: 0.9919 - val_loss: 1.2524 - val_accuracy: 0.8087\n",
            "Epoch 179/300\n",
            "128/128 [==============================] - 4s 30ms/step - loss: 0.0291 - accuracy: 0.9928 - val_loss: 1.3092 - val_accuracy: 0.8075\n",
            "Epoch 180/300\n",
            "128/128 [==============================] - 4s 30ms/step - loss: 0.0273 - accuracy: 0.9914 - val_loss: 1.2659 - val_accuracy: 0.8131\n",
            "Epoch 181/300\n",
            "128/128 [==============================] - 4s 30ms/step - loss: 0.0285 - accuracy: 0.9903 - val_loss: 1.2019 - val_accuracy: 0.8100\n",
            "Epoch 182/300\n",
            "128/128 [==============================] - 4s 30ms/step - loss: 0.0311 - accuracy: 0.9905 - val_loss: 1.0314 - val_accuracy: 0.8081\n",
            "Epoch 183/300\n",
            "128/128 [==============================] - 4s 30ms/step - loss: 0.0242 - accuracy: 0.9923 - val_loss: 1.3458 - val_accuracy: 0.7912\n",
            "Epoch 184/300\n",
            "128/128 [==============================] - 4s 30ms/step - loss: 0.0329 - accuracy: 0.9906 - val_loss: 1.2754 - val_accuracy: 0.8075\n",
            "Epoch 185/300\n",
            "128/128 [==============================] - 4s 30ms/step - loss: 0.0312 - accuracy: 0.9905 - val_loss: 1.3593 - val_accuracy: 0.7975\n",
            "Epoch 186/300\n",
            "128/128 [==============================] - 4s 30ms/step - loss: 0.0271 - accuracy: 0.9934 - val_loss: 1.1262 - val_accuracy: 0.8069\n",
            "Epoch 187/300\n",
            "128/128 [==============================] - 4s 30ms/step - loss: 0.0305 - accuracy: 0.9919 - val_loss: 1.3209 - val_accuracy: 0.7925\n",
            "Epoch 188/300\n",
            "128/128 [==============================] - 4s 30ms/step - loss: 0.0306 - accuracy: 0.9917 - val_loss: 1.3698 - val_accuracy: 0.8012\n",
            "Epoch 189/300\n",
            "128/128 [==============================] - 4s 30ms/step - loss: 0.0294 - accuracy: 0.9911 - val_loss: 1.3074 - val_accuracy: 0.8019\n",
            "Epoch 190/300\n",
            "128/128 [==============================] - 4s 29ms/step - loss: 0.0288 - accuracy: 0.9925 - val_loss: 1.2123 - val_accuracy: 0.8231\n",
            "Epoch 191/300\n",
            "128/128 [==============================] - 4s 30ms/step - loss: 0.0299 - accuracy: 0.9922 - val_loss: 1.2567 - val_accuracy: 0.7925\n",
            "Epoch 192/300\n",
            "128/128 [==============================] - 4s 30ms/step - loss: 0.0245 - accuracy: 0.9925 - val_loss: 1.2606 - val_accuracy: 0.8206\n",
            "Epoch 193/300\n",
            "128/128 [==============================] - 4s 30ms/step - loss: 0.0266 - accuracy: 0.9916 - val_loss: 1.2782 - val_accuracy: 0.8219\n",
            "Epoch 194/300\n",
            "128/128 [==============================] - 4s 30ms/step - loss: 0.0298 - accuracy: 0.9909 - val_loss: 1.1031 - val_accuracy: 0.8263\n",
            "Epoch 195/300\n",
            "128/128 [==============================] - 4s 30ms/step - loss: 0.0200 - accuracy: 0.9939 - val_loss: 1.3374 - val_accuracy: 0.8081\n",
            "Epoch 196/300\n",
            "128/128 [==============================] - 4s 30ms/step - loss: 0.0205 - accuracy: 0.9933 - val_loss: 1.2966 - val_accuracy: 0.7975\n",
            "Epoch 197/300\n",
            "128/128 [==============================] - 4s 30ms/step - loss: 0.0260 - accuracy: 0.9933 - val_loss: 1.2809 - val_accuracy: 0.8131\n",
            "Epoch 198/300\n",
            "128/128 [==============================] - 4s 30ms/step - loss: 0.0282 - accuracy: 0.9925 - val_loss: 1.1559 - val_accuracy: 0.8156\n",
            "Epoch 199/300\n",
            "128/128 [==============================] - 4s 30ms/step - loss: 0.0262 - accuracy: 0.9925 - val_loss: 1.2408 - val_accuracy: 0.8156\n",
            "Epoch 200/300\n",
            "128/128 [==============================] - 4s 30ms/step - loss: 0.0204 - accuracy: 0.9934 - val_loss: 1.3884 - val_accuracy: 0.8069\n",
            "Epoch 201/300\n",
            "128/128 [==============================] - 4s 29ms/step - loss: 0.0341 - accuracy: 0.9916 - val_loss: 1.1379 - val_accuracy: 0.8106\n",
            "Epoch 202/300\n",
            "128/128 [==============================] - 4s 30ms/step - loss: 0.0326 - accuracy: 0.9914 - val_loss: 1.2293 - val_accuracy: 0.8125\n",
            "Epoch 203/300\n",
            "128/128 [==============================] - 4s 30ms/step - loss: 0.0304 - accuracy: 0.9912 - val_loss: 1.2763 - val_accuracy: 0.8044\n",
            "Epoch 204/300\n",
            "128/128 [==============================] - 4s 29ms/step - loss: 0.0211 - accuracy: 0.9936 - val_loss: 1.1094 - val_accuracy: 0.8144\n",
            "Epoch 205/300\n",
            "128/128 [==============================] - 4s 30ms/step - loss: 0.0289 - accuracy: 0.9927 - val_loss: 1.1183 - val_accuracy: 0.8119\n",
            "Epoch 206/300\n",
            "128/128 [==============================] - 4s 30ms/step - loss: 0.0279 - accuracy: 0.9927 - val_loss: 1.2717 - val_accuracy: 0.7987\n",
            "Epoch 207/300\n",
            "128/128 [==============================] - 4s 30ms/step - loss: 0.0267 - accuracy: 0.9912 - val_loss: 1.0955 - val_accuracy: 0.8144\n",
            "Epoch 208/300\n",
            "128/128 [==============================] - 4s 30ms/step - loss: 0.0274 - accuracy: 0.9923 - val_loss: 1.2578 - val_accuracy: 0.8194\n",
            "Epoch 209/300\n",
            "128/128 [==============================] - 4s 30ms/step - loss: 0.0259 - accuracy: 0.9941 - val_loss: 1.3595 - val_accuracy: 0.8125\n",
            "Epoch 210/300\n",
            "128/128 [==============================] - 4s 30ms/step - loss: 0.0246 - accuracy: 0.9930 - val_loss: 1.3749 - val_accuracy: 0.7981\n",
            "Epoch 211/300\n",
            "128/128 [==============================] - 4s 30ms/step - loss: 0.0391 - accuracy: 0.9902 - val_loss: 1.2537 - val_accuracy: 0.7925\n",
            "Epoch 212/300\n",
            "128/128 [==============================] - 4s 30ms/step - loss: 0.0213 - accuracy: 0.9937 - val_loss: 1.1435 - val_accuracy: 0.8069\n",
            "Epoch 213/300\n",
            "128/128 [==============================] - 4s 30ms/step - loss: 0.0219 - accuracy: 0.9934 - val_loss: 1.1857 - val_accuracy: 0.8150\n",
            "Epoch 214/300\n",
            "128/128 [==============================] - 4s 29ms/step - loss: 0.0242 - accuracy: 0.9922 - val_loss: 1.3634 - val_accuracy: 0.8006\n",
            "Epoch 215/300\n",
            "128/128 [==============================] - 4s 30ms/step - loss: 0.0230 - accuracy: 0.9930 - val_loss: 1.2948 - val_accuracy: 0.8125\n",
            "Epoch 216/300\n",
            "128/128 [==============================] - 4s 30ms/step - loss: 0.0218 - accuracy: 0.9942 - val_loss: 1.1953 - val_accuracy: 0.8094\n",
            "Epoch 217/300\n",
            "128/128 [==============================] - 4s 30ms/step - loss: 0.0323 - accuracy: 0.9917 - val_loss: 1.3073 - val_accuracy: 0.8206\n",
            "Epoch 218/300\n",
            "128/128 [==============================] - 4s 30ms/step - loss: 0.0262 - accuracy: 0.9923 - val_loss: 1.5355 - val_accuracy: 0.7781\n",
            "Epoch 219/300\n",
            "128/128 [==============================] - 4s 29ms/step - loss: 0.0219 - accuracy: 0.9936 - val_loss: 1.5345 - val_accuracy: 0.8106\n",
            "Epoch 220/300\n",
            "128/128 [==============================] - 4s 30ms/step - loss: 0.0288 - accuracy: 0.9928 - val_loss: 1.4541 - val_accuracy: 0.7956\n",
            "Epoch 221/300\n",
            "128/128 [==============================] - 4s 30ms/step - loss: 0.0259 - accuracy: 0.9911 - val_loss: 1.2822 - val_accuracy: 0.8106\n",
            "Epoch 222/300\n",
            "128/128 [==============================] - 4s 30ms/step - loss: 0.0222 - accuracy: 0.9944 - val_loss: 1.3608 - val_accuracy: 0.8131\n",
            "Epoch 223/300\n",
            "128/128 [==============================] - 4s 30ms/step - loss: 0.0216 - accuracy: 0.9934 - val_loss: 1.3541 - val_accuracy: 0.8194\n",
            "Epoch 224/300\n",
            "128/128 [==============================] - 4s 30ms/step - loss: 0.0237 - accuracy: 0.9934 - val_loss: 1.3600 - val_accuracy: 0.8138\n",
            "Epoch 225/300\n",
            "128/128 [==============================] - 4s 30ms/step - loss: 0.0359 - accuracy: 0.9908 - val_loss: 1.1950 - val_accuracy: 0.8094\n",
            "Epoch 226/300\n",
            "128/128 [==============================] - 4s 30ms/step - loss: 0.0298 - accuracy: 0.9933 - val_loss: 1.2448 - val_accuracy: 0.8181\n",
            "Epoch 227/300\n",
            "128/128 [==============================] - 4s 30ms/step - loss: 0.0243 - accuracy: 0.9944 - val_loss: 1.1170 - val_accuracy: 0.8156\n",
            "Epoch 228/300\n",
            "128/128 [==============================] - 4s 30ms/step - loss: 0.0279 - accuracy: 0.9919 - val_loss: 1.2182 - val_accuracy: 0.8194\n",
            "Epoch 229/300\n",
            "128/128 [==============================] - 4s 30ms/step - loss: 0.0257 - accuracy: 0.9927 - val_loss: 1.2563 - val_accuracy: 0.8087\n",
            "Epoch 230/300\n",
            "128/128 [==============================] - 4s 31ms/step - loss: 0.0216 - accuracy: 0.9937 - val_loss: 1.2435 - val_accuracy: 0.8300\n",
            "Epoch 231/300\n",
            "128/128 [==============================] - 4s 30ms/step - loss: 0.0252 - accuracy: 0.9930 - val_loss: 1.3119 - val_accuracy: 0.8081\n",
            "Epoch 232/300\n",
            "128/128 [==============================] - 4s 30ms/step - loss: 0.0277 - accuracy: 0.9928 - val_loss: 1.2672 - val_accuracy: 0.8156\n",
            "Epoch 233/300\n",
            "128/128 [==============================] - 4s 30ms/step - loss: 0.0250 - accuracy: 0.9939 - val_loss: 1.1792 - val_accuracy: 0.8131\n",
            "Epoch 234/300\n",
            "128/128 [==============================] - 4s 30ms/step - loss: 0.0261 - accuracy: 0.9923 - val_loss: 1.2285 - val_accuracy: 0.8112\n",
            "Epoch 235/300\n",
            "128/128 [==============================] - 4s 30ms/step - loss: 0.0203 - accuracy: 0.9953 - val_loss: 1.2655 - val_accuracy: 0.8213\n",
            "Epoch 236/300\n",
            "128/128 [==============================] - 4s 30ms/step - loss: 0.0218 - accuracy: 0.9933 - val_loss: 1.2867 - val_accuracy: 0.8238\n",
            "Epoch 237/300\n",
            "128/128 [==============================] - 4s 30ms/step - loss: 0.0177 - accuracy: 0.9953 - val_loss: 1.2792 - val_accuracy: 0.8200\n",
            "Epoch 238/300\n",
            "128/128 [==============================] - 4s 30ms/step - loss: 0.0326 - accuracy: 0.9909 - val_loss: 1.3010 - val_accuracy: 0.8106\n",
            "Epoch 239/300\n",
            "128/128 [==============================] - 4s 30ms/step - loss: 0.0183 - accuracy: 0.9941 - val_loss: 1.3718 - val_accuracy: 0.8087\n",
            "Epoch 240/300\n",
            "128/128 [==============================] - 4s 30ms/step - loss: 0.0188 - accuracy: 0.9928 - val_loss: 1.2650 - val_accuracy: 0.8169\n",
            "Epoch 241/300\n",
            "128/128 [==============================] - 4s 30ms/step - loss: 0.0281 - accuracy: 0.9923 - val_loss: 1.4508 - val_accuracy: 0.8000\n",
            "Epoch 242/300\n",
            "128/128 [==============================] - 4s 29ms/step - loss: 0.0317 - accuracy: 0.9892 - val_loss: 1.3649 - val_accuracy: 0.8125\n",
            "Epoch 243/300\n",
            "128/128 [==============================] - 4s 29ms/step - loss: 0.0217 - accuracy: 0.9942 - val_loss: 1.2189 - val_accuracy: 0.8213\n",
            "Epoch 244/300\n",
            "128/128 [==============================] - 4s 30ms/step - loss: 0.0205 - accuracy: 0.9939 - val_loss: 1.2469 - val_accuracy: 0.8056\n",
            "Epoch 245/300\n",
            "128/128 [==============================] - 4s 30ms/step - loss: 0.0152 - accuracy: 0.9947 - val_loss: 1.3023 - val_accuracy: 0.8225\n",
            "Epoch 246/300\n",
            "128/128 [==============================] - 4s 29ms/step - loss: 0.0225 - accuracy: 0.9941 - val_loss: 1.2628 - val_accuracy: 0.8163\n",
            "Epoch 247/300\n",
            "128/128 [==============================] - 4s 29ms/step - loss: 0.0222 - accuracy: 0.9947 - val_loss: 1.3705 - val_accuracy: 0.8181\n",
            "Epoch 248/300\n",
            "128/128 [==============================] - 4s 30ms/step - loss: 0.0221 - accuracy: 0.9941 - val_loss: 1.2613 - val_accuracy: 0.8206\n",
            "Epoch 249/300\n",
            "128/128 [==============================] - 4s 30ms/step - loss: 0.0263 - accuracy: 0.9934 - val_loss: 1.2687 - val_accuracy: 0.8150\n",
            "Epoch 250/300\n",
            "128/128 [==============================] - 4s 30ms/step - loss: 0.0251 - accuracy: 0.9933 - val_loss: 1.3692 - val_accuracy: 0.8150\n",
            "Epoch 251/300\n",
            "128/128 [==============================] - 4s 30ms/step - loss: 0.0180 - accuracy: 0.9955 - val_loss: 1.4953 - val_accuracy: 0.7887\n",
            "Epoch 252/300\n",
            "128/128 [==============================] - 4s 30ms/step - loss: 0.0256 - accuracy: 0.9923 - val_loss: 1.6337 - val_accuracy: 0.7962\n",
            "Epoch 253/300\n",
            "128/128 [==============================] - 4s 30ms/step - loss: 0.0333 - accuracy: 0.9931 - val_loss: 1.1426 - val_accuracy: 0.8163\n",
            "Epoch 254/300\n",
            "128/128 [==============================] - 4s 30ms/step - loss: 0.0302 - accuracy: 0.9937 - val_loss: 1.2738 - val_accuracy: 0.8138\n",
            "Epoch 255/300\n",
            "128/128 [==============================] - 4s 30ms/step - loss: 0.0192 - accuracy: 0.9955 - val_loss: 1.2960 - val_accuracy: 0.8188\n",
            "Epoch 256/300\n",
            "128/128 [==============================] - 4s 30ms/step - loss: 0.0284 - accuracy: 0.9923 - val_loss: 1.2231 - val_accuracy: 0.8163\n",
            "Epoch 257/300\n",
            "128/128 [==============================] - 4s 30ms/step - loss: 0.0272 - accuracy: 0.9925 - val_loss: 1.3583 - val_accuracy: 0.8075\n",
            "Epoch 258/300\n",
            "128/128 [==============================] - 4s 31ms/step - loss: 0.0191 - accuracy: 0.9934 - val_loss: 1.1638 - val_accuracy: 0.8169\n",
            "Epoch 259/300\n",
            "128/128 [==============================] - 4s 30ms/step - loss: 0.0229 - accuracy: 0.9942 - val_loss: 1.2466 - val_accuracy: 0.8125\n",
            "Epoch 260/300\n",
            "128/128 [==============================] - 4s 30ms/step - loss: 0.0209 - accuracy: 0.9947 - val_loss: 1.2848 - val_accuracy: 0.8206\n",
            "Epoch 261/300\n",
            "128/128 [==============================] - 4s 30ms/step - loss: 0.0254 - accuracy: 0.9923 - val_loss: 1.2894 - val_accuracy: 0.8175\n",
            "Epoch 262/300\n",
            "128/128 [==============================] - 4s 30ms/step - loss: 0.0190 - accuracy: 0.9944 - val_loss: 1.3617 - val_accuracy: 0.8125\n",
            "Epoch 263/300\n",
            "128/128 [==============================] - 4s 30ms/step - loss: 0.0271 - accuracy: 0.9927 - val_loss: 1.2203 - val_accuracy: 0.8144\n",
            "Epoch 264/300\n",
            "128/128 [==============================] - 4s 29ms/step - loss: 0.0174 - accuracy: 0.9945 - val_loss: 1.1755 - val_accuracy: 0.8213\n",
            "Epoch 265/300\n",
            "128/128 [==============================] - 4s 30ms/step - loss: 0.0173 - accuracy: 0.9952 - val_loss: 1.5913 - val_accuracy: 0.8106\n",
            "Epoch 266/300\n",
            "128/128 [==============================] - 4s 30ms/step - loss: 0.0302 - accuracy: 0.9903 - val_loss: 1.3635 - val_accuracy: 0.8100\n",
            "Epoch 267/300\n",
            "128/128 [==============================] - 4s 30ms/step - loss: 0.0319 - accuracy: 0.9930 - val_loss: 1.4410 - val_accuracy: 0.8094\n",
            "Epoch 268/300\n",
            "128/128 [==============================] - 4s 30ms/step - loss: 0.0315 - accuracy: 0.9914 - val_loss: 1.4746 - val_accuracy: 0.8062\n",
            "Epoch 269/300\n",
            "128/128 [==============================] - 4s 30ms/step - loss: 0.0253 - accuracy: 0.9934 - val_loss: 1.4431 - val_accuracy: 0.8044\n",
            "Epoch 270/300\n",
            "128/128 [==============================] - 4s 30ms/step - loss: 0.0215 - accuracy: 0.9934 - val_loss: 1.6000 - val_accuracy: 0.8144\n",
            "Epoch 271/300\n",
            "128/128 [==============================] - 4s 30ms/step - loss: 0.0194 - accuracy: 0.9941 - val_loss: 1.4982 - val_accuracy: 0.8075\n",
            "Epoch 272/300\n",
            "128/128 [==============================] - 4s 30ms/step - loss: 0.0234 - accuracy: 0.9936 - val_loss: 1.6379 - val_accuracy: 0.8069\n",
            "Epoch 273/300\n",
            "128/128 [==============================] - 4s 30ms/step - loss: 0.0288 - accuracy: 0.9934 - val_loss: 1.2271 - val_accuracy: 0.8150\n",
            "Epoch 274/300\n",
            "128/128 [==============================] - 4s 30ms/step - loss: 0.0293 - accuracy: 0.9931 - val_loss: 1.2888 - val_accuracy: 0.8062\n",
            "Epoch 275/300\n",
            "128/128 [==============================] - 4s 30ms/step - loss: 0.0274 - accuracy: 0.9933 - val_loss: 1.6966 - val_accuracy: 0.7669\n",
            "Epoch 276/300\n",
            "128/128 [==============================] - 4s 31ms/step - loss: 0.0184 - accuracy: 0.9945 - val_loss: 1.2912 - val_accuracy: 0.8119\n",
            "Epoch 277/300\n",
            "128/128 [==============================] - 4s 30ms/step - loss: 0.0254 - accuracy: 0.9939 - val_loss: 1.2582 - val_accuracy: 0.8144\n",
            "Epoch 278/300\n",
            "128/128 [==============================] - 4s 30ms/step - loss: 0.0157 - accuracy: 0.9950 - val_loss: 1.1677 - val_accuracy: 0.8269\n",
            "Epoch 279/300\n",
            "128/128 [==============================] - 4s 30ms/step - loss: 0.0147 - accuracy: 0.9959 - val_loss: 1.4127 - val_accuracy: 0.8144\n",
            "Epoch 280/300\n",
            "128/128 [==============================] - 4s 30ms/step - loss: 0.0287 - accuracy: 0.9950 - val_loss: 1.2474 - val_accuracy: 0.8106\n",
            "Epoch 281/300\n",
            "128/128 [==============================] - 4s 30ms/step - loss: 0.0239 - accuracy: 0.9936 - val_loss: 1.2667 - val_accuracy: 0.8156\n",
            "Epoch 282/300\n",
            "128/128 [==============================] - 4s 30ms/step - loss: 0.0361 - accuracy: 0.9917 - val_loss: 1.4689 - val_accuracy: 0.7987\n",
            "Epoch 283/300\n",
            "128/128 [==============================] - 4s 30ms/step - loss: 0.0186 - accuracy: 0.9945 - val_loss: 1.3282 - val_accuracy: 0.8081\n",
            "Epoch 284/300\n",
            "128/128 [==============================] - 4s 30ms/step - loss: 0.0245 - accuracy: 0.9934 - val_loss: 1.7920 - val_accuracy: 0.7969\n",
            "Epoch 285/300\n",
            "128/128 [==============================] - 4s 30ms/step - loss: 0.0263 - accuracy: 0.9931 - val_loss: 1.6412 - val_accuracy: 0.7931\n",
            "Epoch 286/300\n",
            "128/128 [==============================] - 4s 30ms/step - loss: 0.0270 - accuracy: 0.9939 - val_loss: 1.1484 - val_accuracy: 0.8150\n",
            "Epoch 287/300\n",
            "128/128 [==============================] - 4s 30ms/step - loss: 0.0168 - accuracy: 0.9948 - val_loss: 1.3849 - val_accuracy: 0.8163\n",
            "Epoch 288/300\n",
            "128/128 [==============================] - 4s 30ms/step - loss: 0.0301 - accuracy: 0.9919 - val_loss: 1.2922 - val_accuracy: 0.8194\n",
            "Epoch 289/300\n",
            "128/128 [==============================] - 4s 29ms/step - loss: 0.0113 - accuracy: 0.9962 - val_loss: 1.4001 - val_accuracy: 0.8194\n",
            "Epoch 290/300\n",
            "128/128 [==============================] - 4s 30ms/step - loss: 0.0226 - accuracy: 0.9952 - val_loss: 1.4170 - val_accuracy: 0.8131\n",
            "Epoch 291/300\n",
            "128/128 [==============================] - 4s 30ms/step - loss: 0.0165 - accuracy: 0.9948 - val_loss: 1.4198 - val_accuracy: 0.7931\n",
            "Epoch 292/300\n",
            "128/128 [==============================] - 4s 30ms/step - loss: 0.0253 - accuracy: 0.9930 - val_loss: 1.3252 - val_accuracy: 0.8144\n",
            "Epoch 293/300\n",
            "128/128 [==============================] - 4s 30ms/step - loss: 0.0209 - accuracy: 0.9936 - val_loss: 1.3675 - val_accuracy: 0.8175\n",
            "Epoch 294/300\n",
            "128/128 [==============================] - 4s 30ms/step - loss: 0.0210 - accuracy: 0.9942 - val_loss: 1.5251 - val_accuracy: 0.8144\n",
            "Epoch 295/300\n",
            "128/128 [==============================] - 4s 30ms/step - loss: 0.0246 - accuracy: 0.9945 - val_loss: 1.5489 - val_accuracy: 0.7725\n",
            "Epoch 296/300\n",
            "128/128 [==============================] - 4s 30ms/step - loss: 0.0282 - accuracy: 0.9927 - val_loss: 1.5945 - val_accuracy: 0.8050\n",
            "Epoch 297/300\n",
            "128/128 [==============================] - 4s 30ms/step - loss: 0.0226 - accuracy: 0.9948 - val_loss: 1.3632 - val_accuracy: 0.8194\n",
            "Epoch 298/300\n",
            "128/128 [==============================] - 4s 29ms/step - loss: 0.0176 - accuracy: 0.9945 - val_loss: 1.3529 - val_accuracy: 0.8181\n",
            "Epoch 299/300\n",
            "128/128 [==============================] - 4s 30ms/step - loss: 0.0203 - accuracy: 0.9950 - val_loss: 1.2411 - val_accuracy: 0.8188\n",
            "Epoch 300/300\n",
            "128/128 [==============================] - 4s 29ms/step - loss: 0.0182 - accuracy: 0.9939 - val_loss: 1.2686 - val_accuracy: 0.8175\n"
          ]
        }
      ]
    },
    {
      "cell_type": "markdown",
      "source": [
        "## 5. Plot Training history\n",
        "- Show the plot of accuracy and loss"
      ],
      "metadata": {
        "id": "KKas3ahJzgVc"
      }
    },
    {
      "cell_type": "code",
      "execution_count": null,
      "metadata": {
        "id": "pHBx72SedPHC"
      },
      "outputs": [],
      "source": [
        "def accuracy_plot(history):\n",
        "    plt.plot(history.history[\"accuracy\"])\n",
        "    plt.plot(history.history[\"val_accuracy\"])\n",
        "    plt.title(\"Model accuracy\")\n",
        "    plt.ylabel(\"Accuracy\")\n",
        "    plt.xlabel(\"Epoch\")\n",
        "    plt.legend([\"Train_val\", \"Test_val\"], loc=\"upper left\")\n",
        "    plt.show()"
      ]
    },
    {
      "cell_type": "code",
      "execution_count": null,
      "metadata": {
        "id": "4h3UInd1dPHC"
      },
      "outputs": [],
      "source": [
        "def loss_plot(history):\n",
        "    plt.plot(history.history[\"loss\"])\n",
        "    plt.plot(history.history[\"val_loss\"])\n",
        "    plt.title(\"Model loss\")\n",
        "    plt.ylabel(\"Loss\")\n",
        "    plt.xlabel(\"Epoch\")\n",
        "    plt.legend([\"Train_loss\", \"Test_loss\"], loc=\"upper left\")\n",
        "    plt.show()"
      ]
    },
    {
      "cell_type": "code",
      "execution_count": null,
      "metadata": {
        "id": "IIsJowFddPHD",
        "colab": {
          "base_uri": "https://localhost:8080/",
          "height": 573
        },
        "outputId": "f1e3e484-431b-4fe2-dd2d-5f77921ccd4b"
      },
      "outputs": [
        {
          "output_type": "display_data",
          "data": {
            "text/plain": [
              "<Figure size 432x288 with 1 Axes>"
            ],
            "image/png": "[encoded data removed]"
          },
          "metadata": {
            "needs_background": "light"
          }
        },
        {
          "output_type": "display_data",
          "data": {
            "text/plain": [
              "<Figure size 432x288 with 1 Axes>"
            ],
            "image/png": "[encoded data removed]"
          },
          "metadata": {
            "needs_background": "light"
          }
        }
      ],
      "source": [
        "accuracy_plot(history_small)\n",
        "loss_plot(history_small)"
      ]
    },
    {
      "cell_type": "code",
      "source": [
        "accuracy_plot(history_big)\n",
        "loss_plot(history_big)"
      ],
      "metadata": {
        "colab": {
          "base_uri": "https://localhost:8080/",
          "height": 573
        },
        "id": "gOuRWLYImIK6",
        "outputId": "1144fd03-edda-4ea6-ec68-054471c6e1e3"
      },
      "execution_count": null,
      "outputs": [
        {
          "output_type": "display_data",
          "data": {
            "text/plain": [
              "<Figure size 432x288 with 1 Axes>"
            ],
            "image/png": "[encoded data removed]"
          },
          "metadata": {
            "needs_background": "light"
          }
        },
        {
          "output_type": "display_data",
          "data": {
            "text/plain": [
              "<Figure size 432x288 with 1 Axes>"
            ],
            "image/png": "[encoded data removed]"
          },
          "metadata": {
            "needs_background": "light"
          }
        }
      ]
    },
    {
      "cell_type": "markdown",
      "metadata": {
        "id": "XQKw3_xgdPHD"
      },
      "source": [
        "## 6. Testing\n",
        "- Since we have used a part of the trainset to do the evaluation, we can now measure the performance of the model on the testset."
      ]
    },
    {
      "cell_type": "code",
      "execution_count": null,
      "metadata": {
        "id": "ZPE4_giYdPHD",
        "colab": {
          "base_uri": "https://localhost:8080/",
          "height": 202
        },
        "outputId": "cd1ba30f-6d41-46c6-b662-efaafbd8df90"
      },
      "outputs": [
        {
          "output_type": "error",
          "ename": "NameError",
          "evalue": "ignored",
          "traceback": [
            "\u001b[0;31m---------------------------------------------------------------------------\u001b[0m",
            "\u001b[0;31mNameError\u001b[0m                                 Traceback (most recent call last)",
            "\u001b[0;32m<ipython-input-19-5039f62f2e1b>\u001b[0m in \u001b[0;36m<module>\u001b[0;34m()\u001b[0m\n\u001b[0;32m----> 1\u001b[0;31m \u001b[0mscore\u001b[0m \u001b[0;34m=\u001b[0m \u001b[0mmodel\u001b[0m\u001b[0;34m.\u001b[0m\u001b[0mevaluate\u001b[0m\u001b[0;34m(\u001b[0m\u001b[0mtest_images\u001b[0m\u001b[0;34m,\u001b[0m \u001b[0mtest_labels\u001b[0m\u001b[0;34m)\u001b[0m\u001b[0;34m\u001b[0m\u001b[0;34m\u001b[0m\u001b[0m\n\u001b[0m\u001b[1;32m      2\u001b[0m \u001b[0mprint\u001b[0m\u001b[0;34m(\u001b[0m\u001b[0;34m\"Test loss: {}\"\u001b[0m\u001b[0;34m.\u001b[0m\u001b[0mformat\u001b[0m\u001b[0;34m(\u001b[0m\u001b[0mscore\u001b[0m\u001b[0;34m[\u001b[0m\u001b[0;36m0\u001b[0m\u001b[0;34m]\u001b[0m\u001b[0;34m)\u001b[0m\u001b[0;34m)\u001b[0m\u001b[0;34m\u001b[0m\u001b[0;34m\u001b[0m\u001b[0m\n\u001b[1;32m      3\u001b[0m \u001b[0mprint\u001b[0m\u001b[0;34m(\u001b[0m\u001b[0;34m\"Test accuracy: {}\"\u001b[0m\u001b[0;34m.\u001b[0m\u001b[0mformat\u001b[0m\u001b[0;34m(\u001b[0m\u001b[0mscore\u001b[0m\u001b[0;34m[\u001b[0m\u001b[0;36m1\u001b[0m\u001b[0;34m]\u001b[0m\u001b[0;34m)\u001b[0m\u001b[0;34m)\u001b[0m\u001b[0;34m\u001b[0m\u001b[0;34m\u001b[0m\u001b[0m\n",
            "\u001b[0;31mNameError\u001b[0m: name 'test_images' is not defined"
          ]
        }
      ],
      "source": [
        "score = model.evaluate(test_images, test_labels)\n",
        "print(\"Test loss: {}\".format(score[0]))\n",
        "print(\"Test accuracy: {}\".format(score[1]))"
      ]
    },
    {
      "cell_type": "code",
      "execution_count": null,
      "metadata": {
        "id": "NlYVmOLVdPHD"
      },
      "outputs": [],
      "source": [
        ""
      ]
    }
  ],
  "metadata": {
    "kernelspec": {
      "display_name": "Python 3 (ipykernel)",
      "language": "python",
      "name": "python3"
    },
    "language_info": {
      "codemirror_mode": {
        "name": "ipython",
        "version": 3
      },
      "file_extension": ".py",
      "mimetype": "text/x-python",
      "name": "python",
      "nbconvert_exporter": "python",
      "pygments_lexer": "ipython3",
      "version": "3.9.7"
    },
    "colab": {
      "name": "Accents Project.ipynb",
      "provenance": [],
      "collapsed_sections": []
    },
    "accelerator": "GPU"
  },
  "nbformat": 4,
  "nbformat_minor": 0
}