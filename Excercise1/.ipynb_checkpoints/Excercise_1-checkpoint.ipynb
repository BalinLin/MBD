{
 "cells": [
  {
   "cell_type": "code",
   "execution_count": 1,
   "metadata": {},
   "outputs": [],
   "source": [
    "# Importing the Python libraries\n",
    "import numpy as np\n",
    "import pandas as pd\n",
    "from sklearn.linear_model import LinearRegression\n",
    "import sklearn.metrics as metrics\n",
    "import matplotlib.pyplot as plt\n",
    "from numpy.linalg import matrix_rank, inv\n",
    "import sklearn.metrics as metrics\n",
    "import math\n",
    "%matplotlib inline"
   ]
  },
  {
   "cell_type": "code",
   "execution_count": 2,
   "metadata": {},
   "outputs": [],
   "source": [
    "def regression_results(y_true, y_pred):\n",
    "\n",
    "    # Regression metrics\n",
    "    explained_variance = metrics.explained_variance_score(y_true, y_pred)\n",
    "    r2 = metrics.r2_score(y_true, y_pred)\n",
    "    mean_absolute_error = metrics.mean_absolute_error(y_true, y_pred)\n",
    "    mse = metrics.mean_squared_error(y_true, y_pred)\n",
    "    mean_squared_log_error = metrics.mean_squared_log_error(y_true, y_pred)\n",
    "    median_absolute_error = metrics.median_absolute_error(y_true, y_pred)\n",
    "\n",
    "    print('explained_variance: ', round(explained_variance, 4))    \n",
    "    print('r2: ', round(r2, 4))\n",
    "    print('MAE: ', round(mean_absolute_error, 4))\n",
    "    print('MSE: ', round(mse, 4))\n",
    "    print('RMSE: ', round(np.sqrt(mse), 4))\n",
    "    print('mean_squared_log_error: ', round(mean_squared_log_error, 4))\n",
    "    print('median_absolute_error: ', round(median_absolute_error, 4))"
   ]
  },
  {
   "cell_type": "code",
   "execution_count": 3,
   "metadata": {},
   "outputs": [],
   "source": [
    "df = pd.read_csv(\"example1.txt\", sep=\" \")"
   ]
  },
  {
   "cell_type": "code",
   "execution_count": 5,
   "metadata": {},
   "outputs": [
    {
     "data": {
      "text/html": [
       "<div>\n",
       "<style scoped>\n",
       "    .dataframe tbody tr th:only-of-type {\n",
       "        vertical-align: middle;\n",
       "    }\n",
       "\n",
       "    .dataframe tbody tr th {\n",
       "        vertical-align: top;\n",
       "    }\n",
       "\n",
       "    .dataframe thead th {\n",
       "        text-align: right;\n",
       "    }\n",
       "</style>\n",
       "<table border=\"1\" class=\"dataframe\">\n",
       "  <thead>\n",
       "    <tr style=\"text-align: right;\">\n",
       "      <th></th>\n",
       "      <th>y</th>\n",
       "      <th>x</th>\n",
       "    </tr>\n",
       "  </thead>\n",
       "  <tbody>\n",
       "    <tr>\n",
       "      <th>0</th>\n",
       "      <td>681.91</td>\n",
       "      <td>48.48</td>\n",
       "    </tr>\n",
       "    <tr>\n",
       "      <th>1</th>\n",
       "      <td>666.83</td>\n",
       "      <td>47.49</td>\n",
       "    </tr>\n",
       "    <tr>\n",
       "      <th>2</th>\n",
       "      <td>657.71</td>\n",
       "      <td>47.33</td>\n",
       "    </tr>\n",
       "    <tr>\n",
       "      <th>3</th>\n",
       "      <td>602.31</td>\n",
       "      <td>42.27</td>\n",
       "    </tr>\n",
       "    <tr>\n",
       "      <th>4</th>\n",
       "      <td>641.55</td>\n",
       "      <td>47.13</td>\n",
       "    </tr>\n",
       "  </tbody>\n",
       "</table>\n",
       "</div>"
      ],
      "text/plain": [
       "        y      x\n",
       "0  681.91  48.48\n",
       "1  666.83  47.49\n",
       "2  657.71  47.33\n",
       "3  602.31  42.27\n",
       "4  641.55  47.13"
      ]
     },
     "execution_count": 5,
     "metadata": {},
     "output_type": "execute_result"
    }
   ],
   "source": [
    "df.head()"
   ]
  },
  {
   "cell_type": "code",
   "execution_count": 6,
   "metadata": {
    "scrolled": true
   },
   "outputs": [
    {
     "data": {
      "text/html": [
       "<div>\n",
       "<style scoped>\n",
       "    .dataframe tbody tr th:only-of-type {\n",
       "        vertical-align: middle;\n",
       "    }\n",
       "\n",
       "    .dataframe tbody tr th {\n",
       "        vertical-align: top;\n",
       "    }\n",
       "\n",
       "    .dataframe thead th {\n",
       "        text-align: right;\n",
       "    }\n",
       "</style>\n",
       "<table border=\"1\" class=\"dataframe\">\n",
       "  <thead>\n",
       "    <tr style=\"text-align: right;\">\n",
       "      <th></th>\n",
       "      <th>y</th>\n",
       "      <th>x</th>\n",
       "    </tr>\n",
       "  </thead>\n",
       "  <tbody>\n",
       "    <tr>\n",
       "      <th>count</th>\n",
       "      <td>1.100000e+08</td>\n",
       "      <td>1.100000e+08</td>\n",
       "    </tr>\n",
       "    <tr>\n",
       "      <th>mean</th>\n",
       "      <td>6.396723e+02</td>\n",
       "      <td>4.545452e+01</td>\n",
       "    </tr>\n",
       "    <tr>\n",
       "      <th>std</th>\n",
       "      <td>3.789827e+01</td>\n",
       "      <td>2.462835e+00</td>\n",
       "    </tr>\n",
       "    <tr>\n",
       "      <th>min</th>\n",
       "      <td>4.650700e+02</td>\n",
       "      <td>3.395000e+01</td>\n",
       "    </tr>\n",
       "    <tr>\n",
       "      <th>25%</th>\n",
       "      <td>6.146000e+02</td>\n",
       "      <td>4.380000e+01</td>\n",
       "    </tr>\n",
       "    <tr>\n",
       "      <th>50%</th>\n",
       "      <td>6.356800e+02</td>\n",
       "      <td>4.525000e+01</td>\n",
       "    </tr>\n",
       "    <tr>\n",
       "      <th>75%</th>\n",
       "      <td>6.589900e+02</td>\n",
       "      <td>4.683000e+01</td>\n",
       "    </tr>\n",
       "    <tr>\n",
       "      <th>max</th>\n",
       "      <td>8.718700e+02</td>\n",
       "      <td>6.099000e+01</td>\n",
       "    </tr>\n",
       "  </tbody>\n",
       "</table>\n",
       "</div>"
      ],
      "text/plain": [
       "                  y             x\n",
       "count  1.100000e+08  1.100000e+08\n",
       "mean   6.396723e+02  4.545452e+01\n",
       "std    3.789827e+01  2.462835e+00\n",
       "min    4.650700e+02  3.395000e+01\n",
       "25%    6.146000e+02  4.380000e+01\n",
       "50%    6.356800e+02  4.525000e+01\n",
       "75%    6.589900e+02  4.683000e+01\n",
       "max    8.718700e+02  6.099000e+01"
      ]
     },
     "execution_count": 6,
     "metadata": {},
     "output_type": "execute_result"
    }
   ],
   "source": [
    "df.describe()"
   ]
  },
  {
   "cell_type": "code",
   "execution_count": 7,
   "metadata": {},
   "outputs": [
    {
     "data": {
      "image/png": "[encoded data removed]",
      "text/plain": [
       "<Figure size 432x288 with 1 Axes>"
      ]
     },
     "metadata": {
      "needs_background": "light"
     },
     "output_type": "display_data"
    }
   ],
   "source": [
    "df.plot(x='x', y='y', style='o')\n",
    "plt.title('example1.txt')\n",
    "plt.xlabel('x')\n",
    "plt.ylabel('y')\n",
    "plt.show()"
   ]
  },
  {
   "cell_type": "code",
   "execution_count": 8,
   "metadata": {},
   "outputs": [],
   "source": [
    "x = df['x'].to_numpy().reshape((-1, 1))\n",
    "y = df['y'].to_numpy()"
   ]
  },
  {
   "cell_type": "code",
   "execution_count": 9,
   "metadata": {},
   "outputs": [],
   "source": [
    "model = LinearRegression().fit(x, y)"
   ]
  },
  {
   "cell_type": "code",
   "execution_count": 10,
   "metadata": {},
   "outputs": [
    {
     "name": "stdout",
     "output_type": "stream",
     "text": [
      "coefficient of determination: 0.9214376422886941\n"
     ]
    }
   ],
   "source": [
    "# coefficient of determination (𝑅²)\n",
    "r_sq = model.score(x, y)\n",
    "print('coefficient of determination:', r_sq)"
   ]
  },
  {
   "cell_type": "code",
   "execution_count": 11,
   "metadata": {},
   "outputs": [
    {
     "name": "stdout",
     "output_type": "stream",
     "text": [
      "intercept: -31.74756121716905\n",
      "slope: [14.77124576]\n"
     ]
    }
   ],
   "source": [
    "# The attributes of model are .intercept_, which represents the coefficient, 𝑏₀ and .coef_, which represents 𝑏₁:\n",
    "# You can notice that .intercept_ is a scalar, while .coef_ is an array.\n",
    "print('intercept:', model.intercept_)\n",
    "print('slope:', model.coef_)"
   ]
  },
  {
   "cell_type": "code",
   "execution_count": 12,
   "metadata": {},
   "outputs": [
    {
     "name": "stdout",
     "output_type": "stream",
     "text": [
      "predicted response:\n",
      "[684.36243332 669.73890001 667.37550069 ... 711.83695044 677.1245229\n",
      " 710.50753832]\n"
     ]
    }
   ],
   "source": [
    "y_pred = model.predict(x)\n",
    "print('predicted response:', y_pred, sep='\\n')"
   ]
  },
  {
   "cell_type": "code",
   "execution_count": 13,
   "metadata": {},
   "outputs": [
    {
     "name": "stdout",
     "output_type": "stream",
     "text": [
      "predicted response:\n",
      "[[684.36243332]\n",
      " [669.73890001]\n",
      " [667.37550069]\n",
      " ...\n",
      " [711.83695044]\n",
      " [677.1245229 ]\n",
      " [710.50753832]]\n"
     ]
    }
   ],
   "source": [
    "y_pred = model.intercept_ + model.coef_ * x\n",
    "print('predicted response:', y_pred, sep='\\n')"
   ]
  },
  {
   "cell_type": "code",
   "execution_count": 14,
   "metadata": {},
   "outputs": [
    {
     "name": "stdout",
     "output_type": "stream",
     "text": [
      "y: [681.91 666.83 657.71 ... 726.61 682.3  724.07] (110000000,)\n",
      "y_pred: [[684.36243332]\n",
      " [669.73890001]\n",
      " [667.37550069]\n",
      " ...\n",
      " [711.83695044]\n",
      " [677.1245229 ]\n",
      " [710.50753832]] (110000000, 1)\n"
     ]
    }
   ],
   "source": [
    "print('y:', y, y.shape)\n",
    "print('y_pred:', y_pred, y_pred.shape)"
   ]
  },
  {
   "cell_type": "code",
   "execution_count": 15,
   "metadata": {},
   "outputs": [
    {
     "name": "stdout",
     "output_type": "stream",
     "text": [
      "r: [  2.45243332   2.90890001   9.66550069 ... -14.77304956  -5.1754771\n",
      " -13.56246168]\n"
     ]
    }
   ],
   "source": [
    "r = y_pred.reshape(-1) - y\n",
    "print('r:', r)"
   ]
  },
  {
   "cell_type": "code",
   "execution_count": 16,
   "metadata": {},
   "outputs": [
    {
     "name": "stdout",
     "output_type": "stream",
     "text": [
      "(n, m, variance_pow2, variance): 110000000 1 112.83745877469549 10.622497765341986\n"
     ]
    }
   ],
   "source": [
    "n = len(df)\n",
    "m = matrix_rank(x)\n",
    "variance_pow2 = sum(r ** 2) / (n - m)\n",
    "variance = math.sqrt(variance_pow2)\n",
    "print('(n, m, variance_pow2, variance):', n, m, variance_pow2, variance)"
   ]
  },
  {
   "cell_type": "code",
   "execution_count": 17,
   "metadata": {
    "scrolled": true
   },
   "outputs": [],
   "source": [
    "# standard_error = math.sqrt(np.diag(variance_pow2 * inv(np.transpose(x) * x)))"
   ]
  },
  {
   "cell_type": "code",
   "execution_count": 18,
   "metadata": {},
   "outputs": [
    {
     "name": "stdout",
     "output_type": "stream",
     "text": [
      "explained_variance:  0.9214\n",
      "r2:  0.9214\n",
      "MAE:  8.4656\n",
      "MSE:  112.8375\n",
      "RMSE:  10.6225\n",
      "mean_squared_log_error:  0.0003\n",
      "median_absolute_error:  7.1433\n"
     ]
    }
   ],
   "source": [
    "regression_results(y, y_pred.reshape(-1))"
   ]
  },
  {
   "cell_type": "code",
   "execution_count": 19,
   "metadata": {},
   "outputs": [
    {
     "data": {
      "text/html": [
       "<table class=\"simpletable\">\n",
       "<caption>OLS Regression Results</caption>\n",
       "<tr>\n",
       "  <th>Dep. Variable:</th>            <td>y</td>        <th>  R-squared (uncentered):</th>       <td>   1.000</td>  \n",
       "</tr>\n",
       "<tr>\n",
       "  <th>Model:</th>                   <td>OLS</td>       <th>  Adj. R-squared (uncentered):</th>  <td>   1.000</td>  \n",
       "</tr>\n",
       "<tr>\n",
       "  <th>Method:</th>             <td>Least Squares</td>  <th>  F-statistic:       </th>           <td>4.002e+11</td> \n",
       "</tr>\n",
       "<tr>\n",
       "  <th>Date:</th>             <td>Sun, 27 Feb 2022</td> <th>  Prob (F-statistic):</th>            <td>  0.00</td>   \n",
       "</tr>\n",
       "<tr>\n",
       "  <th>Time:</th>                 <td>16:51:25</td>     <th>  Log-Likelihood:    </th>          <td>-4.1601e+08</td>\n",
       "</tr>\n",
       "<tr>\n",
       "  <th>No. Observations:</th>     <td>110000000</td>    <th>  AIC:               </th>           <td>8.320e+08</td> \n",
       "</tr>\n",
       "<tr>\n",
       "  <th>Df Residuals:</th>         <td>109999999</td>    <th>  BIC:               </th>           <td>8.320e+08</td> \n",
       "</tr>\n",
       "<tr>\n",
       "  <th>Df Model:</th>              <td>     1</td>      <th>                     </th>               <td> </td>     \n",
       "</tr>\n",
       "<tr>\n",
       "  <th>Covariance Type:</th>      <td>nonrobust</td>    <th>                     </th>               <td> </td>     \n",
       "</tr>\n",
       "</table>\n",
       "<table class=\"simpletable\">\n",
       "<tr>\n",
       "   <td></td>     <th>coef</th>     <th>std err</th>      <th>t</th>      <th>P>|t|</th>  <th>[0.025</th>    <th>0.975]</th>  \n",
       "</tr>\n",
       "<tr>\n",
       "  <th>x1</th> <td>    1.0000</td> <td> 1.58e-06</td> <td> 6.33e+05</td> <td> 0.000</td> <td>    1.000</td> <td>    1.000</td>\n",
       "</tr>\n",
       "</table>\n",
       "<table class=\"simpletable\">\n",
       "<tr>\n",
       "  <th>Omnibus:</th>       <td>55895.835</td> <th>  Durbin-Watson:     </th> <td>   1.851</td> \n",
       "</tr>\n",
       "<tr>\n",
       "  <th>Prob(Omnibus):</th>  <td> 0.000</td>   <th>  Jarque-Bera (JB):  </th> <td>56058.017</td>\n",
       "</tr>\n",
       "<tr>\n",
       "  <th>Skew:</th>           <td> 0.054</td>   <th>  Prob(JB):          </th> <td>    0.00</td> \n",
       "</tr>\n",
       "<tr>\n",
       "  <th>Kurtosis:</th>       <td> 3.027</td>   <th>  Cond. No.          </th> <td>    1.00</td> \n",
       "</tr>\n",
       "</table><br/><br/>Notes:<br/>[1] R² is computed without centering (uncentered) since the model does not contain a constant.<br/>[2] Standard Errors assume that the covariance matrix of the errors is correctly specified."
      ],
      "text/plain": [
       "<class 'statsmodels.iolib.summary.Summary'>\n",
       "\"\"\"\n",
       "                                 OLS Regression Results                                \n",
       "=======================================================================================\n",
       "Dep. Variable:                      y   R-squared (uncentered):                   1.000\n",
       "Model:                            OLS   Adj. R-squared (uncentered):              1.000\n",
       "Method:                 Least Squares   F-statistic:                          4.002e+11\n",
       "Date:                Sun, 27 Feb 2022   Prob (F-statistic):                        0.00\n",
       "Time:                        16:51:25   Log-Likelihood:                     -4.1601e+08\n",
       "No. Observations:           110000000   AIC:                                  8.320e+08\n",
       "Df Residuals:               109999999   BIC:                                  8.320e+08\n",
       "Df Model:                           1                                                  \n",
       "Covariance Type:            nonrobust                                                  \n",
       "==============================================================================\n",
       "                 coef    std err          t      P>|t|      [0.025      0.975]\n",
       "------------------------------------------------------------------------------\n",
       "x1             1.0000   1.58e-06   6.33e+05      0.000       1.000       1.000\n",
       "==============================================================================\n",
       "Omnibus:                    55895.835   Durbin-Watson:                   1.851\n",
       "Prob(Omnibus):                  0.000   Jarque-Bera (JB):            56058.017\n",
       "Skew:                           0.054   Prob(JB):                         0.00\n",
       "Kurtosis:                       3.027   Cond. No.                         1.00\n",
       "==============================================================================\n",
       "\n",
       "Notes:\n",
       "[1] R² is computed without centering (uncentered) since the model does not contain a constant.\n",
       "[2] Standard Errors assume that the covariance matrix of the errors is correctly specified.\n",
       "\"\"\""
      ]
     },
     "execution_count": 19,
     "metadata": {},
     "output_type": "execute_result"
    }
   ],
   "source": [
    "from statsmodels.api import OLS\n",
    "OLS(y, y_pred.reshape(-1)).fit().summary()"
   ]
  },
  {
   "cell_type": "code",
   "execution_count": 20,
   "metadata": {},
   "outputs": [
    {
     "data": {
      "image/png": "[encoded data removed]",
      "text/plain": [
       "<Figure size 432x288 with 1 Axes>"
      ]
     },
     "metadata": {},
     "output_type": "display_data"
    }
   ],
   "source": [
    "# Plot outputs\n",
    "plt.scatter(x, y, color=\"black\")\n",
    "plt.plot(x, y_pred, color=\"blue\", linewidth=3)\n",
    "\n",
    "plt.xticks(())\n",
    "plt.yticks(())\n",
    "\n",
    "plt.show()"
   ]
  },
  {
   "cell_type": "code",
   "execution_count": 10,
   "metadata": {},
   "outputs": [
    {
     "name": "stdout",
     "output_type": "stream",
     "text": [
      "beta: [[14.07484346]]\n",
      "--- i = 11000000, 1456.7633159160614 seconds ---\n",
      "(n, m, variance_pow2_div, variance_div): 110000000 1 15065.375311936641 122.74109056031986\n",
      "standard_error: 0.00025708693908823324\n"
     ]
    }
   ],
   "source": [
    "import time\n",
    "for i in range(1100000, 1100001):\n",
    "    start_time = time.time()\n",
    "    div = math.ceil(len(df) / i)\n",
    "    x_all = []\n",
    "    y_all = []\n",
    "    xtx = 0\n",
    "    xty = 0\n",
    "    chucks = 0\n",
    "    time_dict = {}\n",
    "    for j in range(0, len(df), div):\n",
    "        minidx = min(len(df), j + div)\n",
    "        x_div = df['x'][j:minidx].to_numpy().reshape((-1, 1))\n",
    "        y_div = df['y'][j:minidx].to_numpy()\n",
    "        x_all.append(x_div)\n",
    "        y_all.append(y_div)\n",
    "        xtx += np.transpose(x_div) @ x_div\n",
    "        xty += np.transpose(x_div) @ y_div\n",
    "        chucks += 1\n",
    "    \n",
    "    xtx_inv = inv(xtx)\n",
    "    beta = xtx_inv * xty\n",
    "    \n",
    "    y_all_pred = []\n",
    "    r_all = []\n",
    "    rss_div = 0\n",
    "    for idx in range(len(x_all)):\n",
    "        y_div_pred = x_all[idx] * beta\n",
    "        y_all_pred.append(y_div_pred)\n",
    "        \n",
    "        r_div = y_all[idx] - y_div_pred\n",
    "        r_all.append(r_div)\n",
    "        rss_div += np.transpose(r_div) * r_div\n",
    "\n",
    "    n = len(df)\n",
    "    m = matrix_rank(df['x'])\n",
    "    variance_pow2_div = np.sum(np.power(np.array(r_all), 2)) / (n - m)\n",
    "    variance_div = math.sqrt(variance_pow2_div)\n",
    "    standard_error = math.sqrt(np.diag(variance_pow2_div * xtx_inv))\n",
    "        \n",
    "    print(\"--- i = {0}, {1} seconds ---\".format(i, time.time() - start_time))\n",
    "    print(\"beta:\", beta)\n",
    "    print('(n, m, variance_pow2_div, variance_div):', n, m, variance_pow2_div, variance_div)\n",
    "    print('standard_error:', standard_error)\n"
   ]
  },
  {
   "cell_type": "code",
   "execution_count": null,
   "metadata": {},
   "outputs": [],
   "source": [
    "import time\n",
    "# print(len(df)) # 110000000\n",
    "\n",
    "start_time = time.time()\n",
    "x_all = []\n",
    "y_all = []\n",
    "xtx = 0\n",
    "xty = 0\n",
    "chucks = 0\n",
    "for j in range(0, 11000000, 100):\n",
    "    minidx = j + 100\n",
    "    x_div = df['x'][j:minidx].to_numpy().reshape((-1, 1))\n",
    "    y_div = df['y'][j:minidx].to_numpy()\n",
    "    x_all.append(x_div)\n",
    "    y_all.append(y_div)\n",
    "    xtx += np.transpose(x_div) @ x_div\n",
    "    xty += np.transpose(x_div) @ y_div\n",
    "    chucks += 1\n",
    "\n",
    "xtx_inv = inv(xtx)\n",
    "beta = inv(xtx) * xty\n",
    "\n",
    "y_all_pred = []\n",
    "r_all = []\n",
    "rss_div = 0\n",
    "for idx in range(len(x_all)):\n",
    "    y_div_pred = x_all[idx] * beta\n",
    "    y_all_pred.append(y_div_pred)\n",
    "\n",
    "    r_div = y_all[idx] - y_div_pred\n",
    "    r_all.append(r_div)\n",
    "    rss_div += np.transpose(r_div) * r_div\n",
    "\n",
    "n = len(df)\n",
    "m = matrix_rank(df['x'])\n",
    "variance_pow2_div = np.sum(np.power(np.array(r_all), 2)) / (n - m)\n",
    "variance_div = math.sqrt(variance_pow2_div)\n",
    "standard_error = math.sqrt(np.diag(variance_pow2_div * xtx_inv))\n",
    "\n",
    "print(\"--- i = {0}, {1} seconds ---\".format(i, time.time() - start_time))\n",
    "print(\"beta:\", beta)\n",
    "print('(n, m, variance_pow2_div, variance_div):', n, m, variance_pow2_div, variance_div)\n",
    "print('standard_error:', standard_error)\n"
   ]
  },
  {
   "cell_type": "code",
   "execution_count": null,
   "metadata": {},
   "outputs": [],
   "source": []
  }
 ],
 "metadata": {
  "kernelspec": {
   "display_name": "Python 3 (ipykernel)",
   "language": "python",
   "name": "python3"
  },
  "language_info": {
   "codemirror_mode": {
    "name": "ipython",
    "version": 3
   },
   "file_extension": ".py",
   "mimetype": "text/x-python",
   "name": "python",
   "nbconvert_exporter": "python",
   "pygments_lexer": "ipython3",
   "version": "3.9.7"
  }
 },
 "nbformat": 4,
 "nbformat_minor": 4
}
